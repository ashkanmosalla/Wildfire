{
  "nbformat": 4,
  "nbformat_minor": 0,
  "metadata": {
    "colab": {
      "provenance": []
    },
    "kernelspec": {
      "name": "python3",
      "display_name": "Python 3"
    },
    "language_info": {
      "name": "python"
    }
  },
  "cells": [
    {
      "cell_type": "markdown",
      "source": [
        "# Calculate area of Wildfire Susceptibility category"
      ],
      "metadata": {
        "id": "snnim3Q0jwRj"
      }
    },
    {
      "cell_type": "code",
      "source": [
        "import pandas as pd\n",
        "\n",
        "# Define function to calculate area\n",
        "def calculate_area(pixels, pixel_size=2000):\n",
        "    return pixels * pixel_size * pixel_size / 1_000_000\n",
        "\n",
        "# Define data for each deep learning model\n",
        "models_data = {\n",
        "    \"BiLSTM_BWO\": [517118, 693458, 219336, 328811, 258380],\n",
        "    \"LSTM_BWO\": [560193, 732613, 270655, 284417, 169225],\n",
        "    \"BiRNN_BWO\": [471021, 815445, 212452, 329967, 188218],\n",
        "    \"RNN_BWO\": [344650, 839606, 255613, 481314, 95920],\n",
        "    \"BiLSTM\": [658007, 529856, 267993, 355796, 205451],\n",
        "    \"LSTM\": [324075, 887485, 133618, 463554, 208371],\n",
        "    \"BiRNN\": [471865, 716564, 139916, 507482, 181276],\n",
        "    \"RNN\": [375339, 831861, 119115, 439526, 251262]\n",
        "}\n",
        "\n",
        "categories = [\"Very Low\", \"Low\", \"Moderate\", \"High\", \"Very High\"]\n",
        "\n",
        "# Calculate areas and create DataFrame\n",
        "area_data = {model: [calculate_area(value) for value in values] for model, values in models_data.items()}\n",
        "df_area = pd.DataFrame(area_data, index=categories)\n",
        "\n",
        "# Calculate percentages\n",
        "total_area = df_area.sum()\n",
        "percentage_data = df_area.divide(total_area, axis=1) * 100\n",
        "df_percentage = percentage_data.applymap(lambda x: f\"{x:.4f}\")\n",
        "\n",
        "# Save results to CSV\n",
        "df_area.to_csv(\"wildfire_susceptibility_areas.csv\")\n",
        "df_percentage.to_csv(\"wildfire_susceptibility_percentages_precision4.csv\")\n",
        "\n",
        "# Display DataFrame for review\n",
        "print(\"Area Data:\")\n",
        "print(df_area)\n",
        "print(\"\\nPercentage Data (Precision 4):\")\n",
        "print(df_percentage)\n"
      ],
      "metadata": {
        "colab": {
          "base_uri": "https://localhost:8080/"
        },
        "id": "hZYnsow80O13",
        "outputId": "dca80cd2-4208-46e1-d385-cdfb3f0f4eb3"
      },
      "execution_count": 43,
      "outputs": [
        {
          "output_type": "stream",
          "name": "stdout",
          "text": [
            "Area Data:\n",
            "           BiLSTM_BWO   LSTM_BWO  BiRNN_BWO    RNN_BWO     BiLSTM       LSTM  \\\n",
            "Very Low    2068472.0  2240772.0  1884084.0  1378600.0  2632028.0  1296300.0   \n",
            "Low         2773832.0  2930452.0  3261780.0  3358424.0  2119424.0  3549940.0   \n",
            "Moderate     877344.0  1082620.0   849808.0  1022452.0  1071972.0   534472.0   \n",
            "High        1315244.0  1137668.0  1319868.0  1925256.0  1423184.0  1854216.0   \n",
            "Very High   1033520.0   676900.0   752872.0   383680.0   821804.0   833484.0   \n",
            "\n",
            "               BiRNN        RNN  \n",
            "Very Low   1887460.0  1501356.0  \n",
            "Low        2866256.0  3327444.0  \n",
            "Moderate    559664.0   476460.0  \n",
            "High       2029928.0  1758104.0  \n",
            "Very High   725104.0  1005048.0  \n",
            "\n",
            "Percentage Data (Precision 4):\n",
            "          BiLSTM_BWO LSTM_BWO BiRNN_BWO  RNN_BWO   BiLSTM     LSTM    BiRNN  \\\n",
            "Very Low     25.6367  27.7722   23.3514  17.0864  32.6214  16.0664  23.3932   \n",
            "Low          34.3789  36.3201   40.4265  41.6243  26.2682  43.9980  35.5244   \n",
            "Moderate     10.8738  13.4180   10.5325  12.6723  13.2860   6.6243   6.9365   \n",
            "High         16.3012  14.1003   16.3585  23.8616  17.6390  22.9812  25.1590   \n",
            "Very High    12.8095   8.3895    9.3311   4.7553  10.1854  10.3302   8.9869   \n",
            "\n",
            "               RNN  \n",
            "Very Low   18.6078  \n",
            "Low        41.2404  \n",
            "Moderate    5.9053  \n",
            "High       21.7900  \n",
            "Very High  12.4566  \n"
          ]
        }
      ]
    },
    {
      "cell_type": "code",
      "source": [],
      "metadata": {
        "id": "y-5KZMBY0Ulm"
      },
      "execution_count": null,
      "outputs": []
    }
  ]
}