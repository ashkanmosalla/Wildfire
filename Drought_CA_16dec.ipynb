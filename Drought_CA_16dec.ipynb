{
 "cells": [
  {
   "cell_type": "markdown",
   "id": "66ad0c0b-accb-4d87-8405-a1bf7274a4b1",
   "metadata": {
    "tags": []
   },
   "source": [
    "# Canada Drought Project "
   ]
  },
  {
   "cell_type": "markdown",
   "id": "4f05e846-d10b-4efa-9665-ff8e852d0ca0",
   "metadata": {},
   "source": [
    "## Import libraries"
   ]
  },
  {
   "cell_type": "code",
   "execution_count": 1,
   "id": "57ac25ba-bd2a-4755-8977-ff121c765b9e",
   "metadata": {},
   "outputs": [],
   "source": [
    "import pandas as pd\n",
    "import numpy as np\n",
    "import matplotlib.pyplot as plt\n",
    "import seaborn as sns\n",
    "%matplotlib inline"
   ]
  },
  {
   "cell_type": "markdown",
   "id": "fadef005-a3bf-4693-9c22-1b9e91ff5f87",
   "metadata": {},
   "source": [
    "## Load Data"
   ]
  },
  {
   "cell_type": "markdown",
   "id": "148a2a5d-519b-45f4-b0f0-7372b1cd2d1d",
   "metadata": {},
   "source": [
    " Lets start off reading the csv files by pandas dataframe"
   ]
  },
  {
   "cell_type": "code",
   "execution_count": 2,
   "id": "5992f841-cfd8-445c-ad9e-693a4ef658da",
   "metadata": {},
   "outputs": [],
   "source": [
    "train = pd.read_csv('Training_data2.csv')"
   ]
  },
  {
   "cell_type": "code",
   "execution_count": 3,
   "id": "a1de829d-6444-43f8-a1e6-b408747739f5",
   "metadata": {},
   "outputs": [
    {
     "data": {
      "text/html": [
       "<div>\n",
       "<style scoped>\n",
       "    .dataframe tbody tr th:only-of-type {\n",
       "        vertical-align: middle;\n",
       "    }\n",
       "\n",
       "    .dataframe tbody tr th {\n",
       "        vertical-align: top;\n",
       "    }\n",
       "\n",
       "    .dataframe thead th {\n",
       "        text-align: right;\n",
       "    }\n",
       "</style>\n",
       "<table border=\"1\" class=\"dataframe\">\n",
       "  <thead>\n",
       "    <tr style=\"text-align: right;\">\n",
       "      <th></th>\n",
       "      <th>OBJECTID</th>\n",
       "      <th>Training_Dr_rst</th>\n",
       "      <th>X</th>\n",
       "      <th>Y</th>\n",
       "      <th>aspect_recc</th>\n",
       "      <th>soilmois_rec</th>\n",
       "      <th>elevation_Band_1</th>\n",
       "      <th>lake_Band_1</th>\n",
       "      <th>lulc_Band_1</th>\n",
       "      <th>ndvi_Band_1</th>\n",
       "      <th>twi_Band_1</th>\n",
       "      <th>tmaxjuly_2_Band_1</th>\n",
       "      <th>tmax_Band_1</th>\n",
       "      <th>slope_Band_1</th>\n",
       "      <th>road_Band_1</th>\n",
       "      <th>river_Band_1</th>\n",
       "      <th>pcp_Band_1</th>\n",
       "    </tr>\n",
       "  </thead>\n",
       "  <tbody>\n",
       "    <tr>\n",
       "      <th>0</th>\n",
       "      <td>1</td>\n",
       "      <td>1</td>\n",
       "      <td>1076638.532</td>\n",
       "      <td>-618148.1</td>\n",
       "      <td>4</td>\n",
       "      <td>3.0</td>\n",
       "      <td>2</td>\n",
       "      <td>2</td>\n",
       "      <td>2</td>\n",
       "      <td>4.0</td>\n",
       "      <td>5</td>\n",
       "      <td>5</td>\n",
       "      <td>5.0</td>\n",
       "      <td>2</td>\n",
       "      <td>1</td>\n",
       "      <td>3</td>\n",
       "      <td>3.0</td>\n",
       "    </tr>\n",
       "    <tr>\n",
       "      <th>1</th>\n",
       "      <td>2</td>\n",
       "      <td>1</td>\n",
       "      <td>1133738.532</td>\n",
       "      <td>-533448.1</td>\n",
       "      <td>4</td>\n",
       "      <td>3.0</td>\n",
       "      <td>3</td>\n",
       "      <td>2</td>\n",
       "      <td>2</td>\n",
       "      <td>4.0</td>\n",
       "      <td>5</td>\n",
       "      <td>5</td>\n",
       "      <td>5.0</td>\n",
       "      <td>2</td>\n",
       "      <td>1</td>\n",
       "      <td>4</td>\n",
       "      <td>3.0</td>\n",
       "    </tr>\n",
       "    <tr>\n",
       "      <th>2</th>\n",
       "      <td>3</td>\n",
       "      <td>1</td>\n",
       "      <td>1118838.532</td>\n",
       "      <td>-492348.1</td>\n",
       "      <td>5</td>\n",
       "      <td>3.0</td>\n",
       "      <td>3</td>\n",
       "      <td>2</td>\n",
       "      <td>2</td>\n",
       "      <td>4.0</td>\n",
       "      <td>5</td>\n",
       "      <td>5</td>\n",
       "      <td>5.0</td>\n",
       "      <td>2</td>\n",
       "      <td>1</td>\n",
       "      <td>3</td>\n",
       "      <td>3.0</td>\n",
       "    </tr>\n",
       "  </tbody>\n",
       "</table>\n",
       "</div>"
      ],
      "text/plain": [
       "   OBJECTID  Training_Dr_rst            X         Y  aspect_recc  \\\n",
       "0         1                1  1076638.532 -618148.1            4   \n",
       "1         2                1  1133738.532 -533448.1            4   \n",
       "2         3                1  1118838.532 -492348.1            5   \n",
       "\n",
       "   soilmois_rec  elevation_Band_1  lake_Band_1  lulc_Band_1  ndvi_Band_1  \\\n",
       "0           3.0                 2            2            2          4.0   \n",
       "1           3.0                 3            2            2          4.0   \n",
       "2           3.0                 3            2            2          4.0   \n",
       "\n",
       "   twi_Band_1  tmaxjuly_2_Band_1  tmax_Band_1  slope_Band_1  road_Band_1  \\\n",
       "0           5                  5          5.0             2            1   \n",
       "1           5                  5          5.0             2            1   \n",
       "2           5                  5          5.0             2            1   \n",
       "\n",
       "   river_Band_1  pcp_Band_1  \n",
       "0             3         3.0  \n",
       "1             4         3.0  \n",
       "2             3         3.0  "
      ]
     },
     "execution_count": 3,
     "metadata": {},
     "output_type": "execute_result"
    }
   ],
   "source": [
    "train.head(3)"
   ]
  },
  {
   "cell_type": "code",
   "execution_count": 4,
   "id": "005007b9-5f08-4132-8428-2f8983a857c7",
   "metadata": {},
   "outputs": [],
   "source": [
    "test = pd.read_csv('Testing_data2.csv')"
   ]
  },
  {
   "cell_type": "code",
   "execution_count": 5,
   "id": "4f60d38e-7540-4340-9237-8e09147e22ea",
   "metadata": {},
   "outputs": [
    {
     "data": {
      "text/html": [
       "<div>\n",
       "<style scoped>\n",
       "    .dataframe tbody tr th:only-of-type {\n",
       "        vertical-align: middle;\n",
       "    }\n",
       "\n",
       "    .dataframe tbody tr th {\n",
       "        vertical-align: top;\n",
       "    }\n",
       "\n",
       "    .dataframe thead th {\n",
       "        text-align: right;\n",
       "    }\n",
       "</style>\n",
       "<table border=\"1\" class=\"dataframe\">\n",
       "  <thead>\n",
       "    <tr style=\"text-align: right;\">\n",
       "      <th></th>\n",
       "      <th>OBJECTID</th>\n",
       "      <th>Testing_Dr_rst</th>\n",
       "      <th>X</th>\n",
       "      <th>Y</th>\n",
       "      <th>aspect_recc</th>\n",
       "      <th>soilmois_rec</th>\n",
       "      <th>elevation_Band_1</th>\n",
       "      <th>lake_Band_1</th>\n",
       "      <th>lulc_Band_1</th>\n",
       "      <th>ndvi_Band_1</th>\n",
       "      <th>twi_Band_1</th>\n",
       "      <th>tmaxjuly_2_Band_1</th>\n",
       "      <th>tmax_Band_1</th>\n",
       "      <th>slope_Band_1</th>\n",
       "      <th>road_Band_1</th>\n",
       "      <th>river_Band_1</th>\n",
       "      <th>pcp_Band_1</th>\n",
       "    </tr>\n",
       "  </thead>\n",
       "  <tbody>\n",
       "    <tr>\n",
       "      <th>0</th>\n",
       "      <td>1</td>\n",
       "      <td>1</td>\n",
       "      <td>1199396.038</td>\n",
       "      <td>-453047.7698</td>\n",
       "      <td>5</td>\n",
       "      <td>3</td>\n",
       "      <td>3</td>\n",
       "      <td>3</td>\n",
       "      <td>11</td>\n",
       "      <td>4</td>\n",
       "      <td>3</td>\n",
       "      <td>5</td>\n",
       "      <td>5</td>\n",
       "      <td>2</td>\n",
       "      <td>1</td>\n",
       "      <td>4</td>\n",
       "      <td>3</td>\n",
       "    </tr>\n",
       "    <tr>\n",
       "      <th>1</th>\n",
       "      <td>2</td>\n",
       "      <td>1</td>\n",
       "      <td>1239596.038</td>\n",
       "      <td>-378947.7698</td>\n",
       "      <td>3</td>\n",
       "      <td>4</td>\n",
       "      <td>2</td>\n",
       "      <td>1</td>\n",
       "      <td>4</td>\n",
       "      <td>4</td>\n",
       "      <td>4</td>\n",
       "      <td>5</td>\n",
       "      <td>5</td>\n",
       "      <td>3</td>\n",
       "      <td>0</td>\n",
       "      <td>4</td>\n",
       "      <td>3</td>\n",
       "    </tr>\n",
       "    <tr>\n",
       "      <th>2</th>\n",
       "      <td>3</td>\n",
       "      <td>1</td>\n",
       "      <td>1368696.038</td>\n",
       "      <td>-368347.7698</td>\n",
       "      <td>4</td>\n",
       "      <td>4</td>\n",
       "      <td>3</td>\n",
       "      <td>2</td>\n",
       "      <td>4</td>\n",
       "      <td>5</td>\n",
       "      <td>1</td>\n",
       "      <td>5</td>\n",
       "      <td>5</td>\n",
       "      <td>4</td>\n",
       "      <td>1</td>\n",
       "      <td>3</td>\n",
       "      <td>3</td>\n",
       "    </tr>\n",
       "  </tbody>\n",
       "</table>\n",
       "</div>"
      ],
      "text/plain": [
       "   OBJECTID  Testing_Dr_rst            X            Y  aspect_recc  \\\n",
       "0         1               1  1199396.038 -453047.7698            5   \n",
       "1         2               1  1239596.038 -378947.7698            3   \n",
       "2         3               1  1368696.038 -368347.7698            4   \n",
       "\n",
       "   soilmois_rec  elevation_Band_1  lake_Band_1  lulc_Band_1  ndvi_Band_1  \\\n",
       "0             3                 3            3           11            4   \n",
       "1             4                 2            1            4            4   \n",
       "2             4                 3            2            4            5   \n",
       "\n",
       "   twi_Band_1  tmaxjuly_2_Band_1  tmax_Band_1  slope_Band_1  road_Band_1  \\\n",
       "0           3                  5            5             2            1   \n",
       "1           4                  5            5             3            0   \n",
       "2           1                  5            5             4            1   \n",
       "\n",
       "   river_Band_1  pcp_Band_1  \n",
       "0             4           3  \n",
       "1             4           3  \n",
       "2             3           3  "
      ]
     },
     "execution_count": 5,
     "metadata": {},
     "output_type": "execute_result"
    }
   ],
   "source": [
    "test.head(3)"
   ]
  },
  {
   "cell_type": "code",
   "execution_count": 6,
   "id": "63677ba4-2c6e-4d6d-9ea4-71b09e81c9da",
   "metadata": {},
   "outputs": [
    {
     "data": {
      "text/plain": [
       "1    620\n",
       "0    620\n",
       "Name: Testing_Dr_rst, dtype: int64"
      ]
     },
     "execution_count": 6,
     "metadata": {},
     "output_type": "execute_result"
    }
   ],
   "source": [
    "test['Testing_Dr_rst'].value_counts()"
   ]
  },
  {
   "cell_type": "code",
   "execution_count": 7,
   "id": "224a8bd7-cf5c-4c9c-8c70-affa42535058",
   "metadata": {},
   "outputs": [
    {
     "data": {
      "text/plain": [
       "1    2464\n",
       "0    2462\n",
       "Name: Training_Dr_rst, dtype: int64"
      ]
     },
     "execution_count": 7,
     "metadata": {},
     "output_type": "execute_result"
    }
   ],
   "source": [
    "train['Training_Dr_rst'].value_counts()"
   ]
  },
  {
   "cell_type": "code",
   "execution_count": 8,
   "id": "75793606-c5d9-4879-9bb0-07b5987622af",
   "metadata": {},
   "outputs": [
    {
     "data": {
      "text/plain": [
       "(4926, 17)"
      ]
     },
     "execution_count": 8,
     "metadata": {},
     "output_type": "execute_result"
    }
   ],
   "source": [
    "train.shape"
   ]
  },
  {
   "cell_type": "code",
   "execution_count": 9,
   "id": "c1b3c790-ee41-4ce5-8f28-c25f4c6a2ba7",
   "metadata": {},
   "outputs": [
    {
     "data": {
      "text/plain": [
       "(1240, 17)"
      ]
     },
     "execution_count": 9,
     "metadata": {},
     "output_type": "execute_result"
    }
   ],
   "source": [
    "test.shape"
   ]
  },
  {
   "cell_type": "markdown",
   "id": "87d972f8-10cd-468d-8f3b-bb2d9f451013",
   "metadata": {},
   "source": [
    "## Exploratory Data Analysis"
   ]
  },
  {
   "cell_type": "markdown",
   "id": "c31aae30-5abd-4121-882c-0e2750da87ea",
   "metadata": {},
   "source": [
    "### Missing Data"
   ]
  },
  {
   "cell_type": "code",
   "execution_count": 10,
   "id": "7f37bd8e-3ad0-4bbb-9bdb-29da65bd809b",
   "metadata": {},
   "outputs": [
    {
     "data": {
      "text/plain": [
       "Index(['OBJECTID', 'Training_Dr_rst', 'X', 'Y', 'aspect_recc', 'soilmois_rec',\n",
       "       'elevation_Band_1', 'lake_Band_1', 'lulc_Band_1', 'ndvi_Band_1',\n",
       "       'twi_Band_1', 'tmaxjuly_2_Band_1', 'tmax_Band_1', 'slope_Band_1',\n",
       "       'road_Band_1', 'river_Band_1', 'pcp_Band_1'],\n",
       "      dtype='object')"
      ]
     },
     "execution_count": 10,
     "metadata": {},
     "output_type": "execute_result"
    }
   ],
   "source": [
    "train.columns"
   ]
  },
  {
   "cell_type": "code",
   "execution_count": 11,
   "id": "e1557c9b-074b-40e1-8bbe-72f0f1155695",
   "metadata": {},
   "outputs": [
    {
     "data": {
      "text/plain": [
       "Index(['OBJECTID', 'Testing_Dr_rst', 'X', 'Y', 'aspect_recc', 'soilmois_rec',\n",
       "       'elevation_Band_1', 'lake_Band_1', 'lulc_Band_1', 'ndvi_Band_1',\n",
       "       'twi_Band_1', 'tmaxjuly_2_Band_1', 'tmax_Band_1', 'slope_Band_1',\n",
       "       'road_Band_1', 'river_Band_1', 'pcp_Band_1'],\n",
       "      dtype='object')"
      ]
     },
     "execution_count": 11,
     "metadata": {},
     "output_type": "execute_result"
    }
   ],
   "source": [
    "test.columns"
   ]
  },
  {
   "cell_type": "code",
   "execution_count": 12,
   "id": "01d60a74-1d5a-4c95-957a-39e43c3e66fc",
   "metadata": {},
   "outputs": [],
   "source": [
    "df_train = pd.read_csv ('Training_data2.csv', names= ['OBJECTID', 'Droughts_status', 'X', 'Y', 'Aspect',\n",
    "                                                    'SoilMoisture', 'Elevation', 'DistFromLake', 'LULC',\n",
    "                                                    'NDVI', 'TWI', 'TmaxJuly', 'Tmax', 'Slope',\n",
    "                                                    'DistFromRoad', 'DistFromRiver', 'Precipitation'\n",
    "                                                   ] \n",
    "                       )"
   ]
  },
  {
   "cell_type": "code",
   "execution_count": 13,
   "id": "fd00511b-cd9b-4002-94f1-683d730f8ca8",
   "metadata": {},
   "outputs": [
    {
     "data": {
      "text/plain": [
       "Index(['OBJECTID', 'Droughts_status', 'X', 'Y', 'Aspect', 'SoilMoisture',\n",
       "       'Elevation', 'DistFromLake', 'LULC', 'NDVI', 'TWI', 'TmaxJuly', 'Tmax',\n",
       "       'Slope', 'DistFromRoad', 'DistFromRiver', 'Precipitation'],\n",
       "      dtype='object')"
      ]
     },
     "execution_count": 13,
     "metadata": {},
     "output_type": "execute_result"
    }
   ],
   "source": [
    "df_train.columns"
   ]
  },
  {
   "cell_type": "code",
   "execution_count": 14,
   "id": "54b49718-80b1-46f5-b33e-7755440b3bb1",
   "metadata": {},
   "outputs": [
    {
     "data": {
      "text/plain": [
       "Index(['OBJECTID', 'Testing_Dr_rst', 'X', 'Y', 'aspect_recc', 'soilmois_rec',\n",
       "       'elevation_Band_1', 'lake_Band_1', 'lulc_Band_1', 'ndvi_Band_1',\n",
       "       'twi_Band_1', 'tmaxjuly_2_Band_1', 'tmax_Band_1', 'slope_Band_1',\n",
       "       'road_Band_1', 'river_Band_1', 'pcp_Band_1'],\n",
       "      dtype='object')"
      ]
     },
     "execution_count": 14,
     "metadata": {},
     "output_type": "execute_result"
    }
   ],
   "source": [
    "test.columns"
   ]
  },
  {
   "cell_type": "code",
   "execution_count": 15,
   "id": "944fc812-b448-499f-992d-3c08315d69d3",
   "metadata": {},
   "outputs": [],
   "source": [
    "df_test = pd.read_csv ('Testing_data2.csv', names= ['OBJECTID', 'Droughts_status', 'X', 'Y', 'Aspect',\n",
    "                                                    'SoilMoisture', 'Elevation','DistFromLake', 'LULC', 'NDVI',\n",
    "                                                    'TWI', 'TmaxJuly', 'Tmax', 'Slope',\n",
    "                                                    'DistFromRoad', 'DistFromRiver', 'Precipitation'\n",
    "                                                   ] \n",
    "                       )"
   ]
  },
  {
   "cell_type": "code",
   "execution_count": 16,
   "id": "0167afe0-6469-4aba-b083-a154da59ba8d",
   "metadata": {},
   "outputs": [
    {
     "data": {
      "text/html": [
       "<div>\n",
       "<style scoped>\n",
       "    .dataframe tbody tr th:only-of-type {\n",
       "        vertical-align: middle;\n",
       "    }\n",
       "\n",
       "    .dataframe tbody tr th {\n",
       "        vertical-align: top;\n",
       "    }\n",
       "\n",
       "    .dataframe thead th {\n",
       "        text-align: right;\n",
       "    }\n",
       "</style>\n",
       "<table border=\"1\" class=\"dataframe\">\n",
       "  <thead>\n",
       "    <tr style=\"text-align: right;\">\n",
       "      <th></th>\n",
       "      <th>OBJECTID</th>\n",
       "      <th>Droughts_status</th>\n",
       "      <th>X</th>\n",
       "      <th>Y</th>\n",
       "      <th>Aspect</th>\n",
       "      <th>SoilMoisture</th>\n",
       "      <th>Elevation</th>\n",
       "      <th>DistFromLake</th>\n",
       "      <th>LULC</th>\n",
       "      <th>NDVI</th>\n",
       "      <th>TWI</th>\n",
       "      <th>TmaxJuly</th>\n",
       "      <th>Tmax</th>\n",
       "      <th>Slope</th>\n",
       "      <th>DistFromRoad</th>\n",
       "      <th>DistFromRiver</th>\n",
       "      <th>Precipitation</th>\n",
       "    </tr>\n",
       "  </thead>\n",
       "  <tbody>\n",
       "    <tr>\n",
       "      <th>0</th>\n",
       "      <td>OBJECTID</td>\n",
       "      <td>Testing_Dr_rst</td>\n",
       "      <td>X</td>\n",
       "      <td>Y</td>\n",
       "      <td>aspect_recc</td>\n",
       "      <td>soilmois_rec</td>\n",
       "      <td>elevation_Band_1</td>\n",
       "      <td>lake_Band_1</td>\n",
       "      <td>lulc_Band_1</td>\n",
       "      <td>ndvi_Band_1</td>\n",
       "      <td>twi_Band_1</td>\n",
       "      <td>tmaxjuly_2_Band_1</td>\n",
       "      <td>tmax_Band_1</td>\n",
       "      <td>slope_Band_1</td>\n",
       "      <td>road_Band_1</td>\n",
       "      <td>river_Band_1</td>\n",
       "      <td>pcp_Band_1</td>\n",
       "    </tr>\n",
       "    <tr>\n",
       "      <th>1</th>\n",
       "      <td>1</td>\n",
       "      <td>1</td>\n",
       "      <td>1199396.038</td>\n",
       "      <td>-453047.7698</td>\n",
       "      <td>5</td>\n",
       "      <td>3</td>\n",
       "      <td>3</td>\n",
       "      <td>3</td>\n",
       "      <td>11</td>\n",
       "      <td>4</td>\n",
       "      <td>3</td>\n",
       "      <td>5</td>\n",
       "      <td>5</td>\n",
       "      <td>2</td>\n",
       "      <td>1</td>\n",
       "      <td>4</td>\n",
       "      <td>3</td>\n",
       "    </tr>\n",
       "    <tr>\n",
       "      <th>2</th>\n",
       "      <td>2</td>\n",
       "      <td>1</td>\n",
       "      <td>1239596.038</td>\n",
       "      <td>-378947.7698</td>\n",
       "      <td>3</td>\n",
       "      <td>4</td>\n",
       "      <td>2</td>\n",
       "      <td>1</td>\n",
       "      <td>4</td>\n",
       "      <td>4</td>\n",
       "      <td>4</td>\n",
       "      <td>5</td>\n",
       "      <td>5</td>\n",
       "      <td>3</td>\n",
       "      <td>0</td>\n",
       "      <td>4</td>\n",
       "      <td>3</td>\n",
       "    </tr>\n",
       "    <tr>\n",
       "      <th>3</th>\n",
       "      <td>3</td>\n",
       "      <td>1</td>\n",
       "      <td>1368696.038</td>\n",
       "      <td>-368347.7698</td>\n",
       "      <td>4</td>\n",
       "      <td>4</td>\n",
       "      <td>3</td>\n",
       "      <td>2</td>\n",
       "      <td>4</td>\n",
       "      <td>5</td>\n",
       "      <td>1</td>\n",
       "      <td>5</td>\n",
       "      <td>5</td>\n",
       "      <td>4</td>\n",
       "      <td>1</td>\n",
       "      <td>3</td>\n",
       "      <td>3</td>\n",
       "    </tr>\n",
       "    <tr>\n",
       "      <th>4</th>\n",
       "      <td>4</td>\n",
       "      <td>1</td>\n",
       "      <td>40396.03781</td>\n",
       "      <td>-18347.76982</td>\n",
       "      <td>5</td>\n",
       "      <td>4</td>\n",
       "      <td>3</td>\n",
       "      <td>2</td>\n",
       "      <td>4</td>\n",
       "      <td>4</td>\n",
       "      <td>4</td>\n",
       "      <td>5</td>\n",
       "      <td>5</td>\n",
       "      <td>2</td>\n",
       "      <td>2</td>\n",
       "      <td>3</td>\n",
       "      <td>2</td>\n",
       "    </tr>\n",
       "  </tbody>\n",
       "</table>\n",
       "</div>"
      ],
      "text/plain": [
       "   OBJECTID Droughts_status            X             Y       Aspect  \\\n",
       "0  OBJECTID  Testing_Dr_rst            X             Y  aspect_recc   \n",
       "1         1               1  1199396.038  -453047.7698            5   \n",
       "2         2               1  1239596.038  -378947.7698            3   \n",
       "3         3               1  1368696.038  -368347.7698            4   \n",
       "4         4               1  40396.03781  -18347.76982            5   \n",
       "\n",
       "   SoilMoisture         Elevation DistFromLake         LULC         NDVI  \\\n",
       "0  soilmois_rec  elevation_Band_1  lake_Band_1  lulc_Band_1  ndvi_Band_1   \n",
       "1             3                 3            3           11            4   \n",
       "2             4                 2            1            4            4   \n",
       "3             4                 3            2            4            5   \n",
       "4             4                 3            2            4            4   \n",
       "\n",
       "          TWI           TmaxJuly         Tmax         Slope DistFromRoad  \\\n",
       "0  twi_Band_1  tmaxjuly_2_Band_1  tmax_Band_1  slope_Band_1  road_Band_1   \n",
       "1           3                  5            5             2            1   \n",
       "2           4                  5            5             3            0   \n",
       "3           1                  5            5             4            1   \n",
       "4           4                  5            5             2            2   \n",
       "\n",
       "  DistFromRiver Precipitation  \n",
       "0  river_Band_1    pcp_Band_1  \n",
       "1             4             3  \n",
       "2             4             3  \n",
       "3             3             3  \n",
       "4             3             2  "
      ]
     },
     "execution_count": 16,
     "metadata": {},
     "output_type": "execute_result"
    }
   ],
   "source": [
    "df_test.head()"
   ]
  },
  {
   "cell_type": "markdown",
   "id": "582642b2-9707-4e3a-9783-cfd9c6ed168e",
   "metadata": {
    "tags": []
   },
   "source": [
    "### Removing the header in our Dataset"
   ]
  },
  {
   "cell_type": "code",
   "execution_count": 17,
   "id": "821460a9-c135-4491-991d-6adb37820305",
   "metadata": {},
   "outputs": [],
   "source": [
    "df_train = pd.read_csv ('Training_data2.csv', names= ['OBJECTID', 'Droughts_status', 'X', 'Y', 'Aspect',\n",
    "                                                    'SoilMoisture', 'Elevation', 'DistFromLake', 'LULC', 'NDVI',\n",
    "                                                    'TWI', 'TmaxJuly', 'Tmax', 'Slope',\n",
    "                                                    'DistFromRoad', 'DistFromRiver', 'Precipitation'\n",
    "                                                   ],\n",
    "                        header=0\n",
    "                       )"
   ]
  },
  {
   "cell_type": "code",
   "execution_count": 18,
   "id": "ace46561-f7c8-4689-99b0-5cc582a72858",
   "metadata": {},
   "outputs": [],
   "source": [
    "df_test = pd.read_csv ('Testing_data2.csv', names= ['OBJECTID', 'Droughts_status', 'X', 'Y', 'Aspect',\n",
    "                                                    'SoilMoisture', 'Elevation', 'DistFromLake', 'LULC', 'NDVI',\n",
    "                                                    'TWI', 'TmaxJuly', 'Tmax', 'Slope',\n",
    "                                                    'DistFromRoad', 'DistFromRiver', 'Precipitation'\n",
    "                                                   ],\n",
    "                       header= 0\n",
    "                       )"
   ]
  },
  {
   "cell_type": "code",
   "execution_count": 19,
   "id": "b4f56169-d42c-4694-bc0c-385474bb314a",
   "metadata": {},
   "outputs": [
    {
     "data": {
      "text/html": [
       "<div>\n",
       "<style scoped>\n",
       "    .dataframe tbody tr th:only-of-type {\n",
       "        vertical-align: middle;\n",
       "    }\n",
       "\n",
       "    .dataframe tbody tr th {\n",
       "        vertical-align: top;\n",
       "    }\n",
       "\n",
       "    .dataframe thead th {\n",
       "        text-align: right;\n",
       "    }\n",
       "</style>\n",
       "<table border=\"1\" class=\"dataframe\">\n",
       "  <thead>\n",
       "    <tr style=\"text-align: right;\">\n",
       "      <th></th>\n",
       "      <th>OBJECTID</th>\n",
       "      <th>Droughts_status</th>\n",
       "      <th>X</th>\n",
       "      <th>Y</th>\n",
       "      <th>Aspect</th>\n",
       "      <th>SoilMoisture</th>\n",
       "      <th>Elevation</th>\n",
       "      <th>DistFromLake</th>\n",
       "      <th>LULC</th>\n",
       "      <th>NDVI</th>\n",
       "      <th>TWI</th>\n",
       "      <th>TmaxJuly</th>\n",
       "      <th>Tmax</th>\n",
       "      <th>Slope</th>\n",
       "      <th>DistFromRoad</th>\n",
       "      <th>DistFromRiver</th>\n",
       "      <th>Precipitation</th>\n",
       "    </tr>\n",
       "  </thead>\n",
       "  <tbody>\n",
       "    <tr>\n",
       "      <th>0</th>\n",
       "      <td>1</td>\n",
       "      <td>1</td>\n",
       "      <td>1076638.532</td>\n",
       "      <td>-618148.1</td>\n",
       "      <td>4</td>\n",
       "      <td>3.0</td>\n",
       "      <td>2</td>\n",
       "      <td>2</td>\n",
       "      <td>2</td>\n",
       "      <td>4.0</td>\n",
       "      <td>5</td>\n",
       "      <td>5</td>\n",
       "      <td>5.0</td>\n",
       "      <td>2</td>\n",
       "      <td>1</td>\n",
       "      <td>3</td>\n",
       "      <td>3.0</td>\n",
       "    </tr>\n",
       "    <tr>\n",
       "      <th>1</th>\n",
       "      <td>2</td>\n",
       "      <td>1</td>\n",
       "      <td>1133738.532</td>\n",
       "      <td>-533448.1</td>\n",
       "      <td>4</td>\n",
       "      <td>3.0</td>\n",
       "      <td>3</td>\n",
       "      <td>2</td>\n",
       "      <td>2</td>\n",
       "      <td>4.0</td>\n",
       "      <td>5</td>\n",
       "      <td>5</td>\n",
       "      <td>5.0</td>\n",
       "      <td>2</td>\n",
       "      <td>1</td>\n",
       "      <td>4</td>\n",
       "      <td>3.0</td>\n",
       "    </tr>\n",
       "    <tr>\n",
       "      <th>2</th>\n",
       "      <td>3</td>\n",
       "      <td>1</td>\n",
       "      <td>1118838.532</td>\n",
       "      <td>-492348.1</td>\n",
       "      <td>5</td>\n",
       "      <td>3.0</td>\n",
       "      <td>3</td>\n",
       "      <td>2</td>\n",
       "      <td>2</td>\n",
       "      <td>4.0</td>\n",
       "      <td>5</td>\n",
       "      <td>5</td>\n",
       "      <td>5.0</td>\n",
       "      <td>2</td>\n",
       "      <td>1</td>\n",
       "      <td>3</td>\n",
       "      <td>3.0</td>\n",
       "    </tr>\n",
       "  </tbody>\n",
       "</table>\n",
       "</div>"
      ],
      "text/plain": [
       "   OBJECTID  Droughts_status            X         Y  Aspect  SoilMoisture  \\\n",
       "0         1                1  1076638.532 -618148.1       4           3.0   \n",
       "1         2                1  1133738.532 -533448.1       4           3.0   \n",
       "2         3                1  1118838.532 -492348.1       5           3.0   \n",
       "\n",
       "   Elevation  DistFromLake  LULC  NDVI  TWI  TmaxJuly  Tmax  Slope  \\\n",
       "0          2             2     2   4.0    5         5   5.0      2   \n",
       "1          3             2     2   4.0    5         5   5.0      2   \n",
       "2          3             2     2   4.0    5         5   5.0      2   \n",
       "\n",
       "   DistFromRoad  DistFromRiver  Precipitation  \n",
       "0             1              3            3.0  \n",
       "1             1              4            3.0  \n",
       "2             1              3            3.0  "
      ]
     },
     "execution_count": 19,
     "metadata": {},
     "output_type": "execute_result"
    }
   ],
   "source": [
    "df_train.head(3)"
   ]
  },
  {
   "cell_type": "code",
   "execution_count": 20,
   "id": "4f09c80d-cf4e-498a-88f0-047dece279c2",
   "metadata": {},
   "outputs": [
    {
     "data": {
      "text/html": [
       "<div>\n",
       "<style scoped>\n",
       "    .dataframe tbody tr th:only-of-type {\n",
       "        vertical-align: middle;\n",
       "    }\n",
       "\n",
       "    .dataframe tbody tr th {\n",
       "        vertical-align: top;\n",
       "    }\n",
       "\n",
       "    .dataframe thead th {\n",
       "        text-align: right;\n",
       "    }\n",
       "</style>\n",
       "<table border=\"1\" class=\"dataframe\">\n",
       "  <thead>\n",
       "    <tr style=\"text-align: right;\">\n",
       "      <th></th>\n",
       "      <th>OBJECTID</th>\n",
       "      <th>Droughts_status</th>\n",
       "      <th>X</th>\n",
       "      <th>Y</th>\n",
       "      <th>Aspect</th>\n",
       "      <th>SoilMoisture</th>\n",
       "      <th>Elevation</th>\n",
       "      <th>DistFromLake</th>\n",
       "      <th>LULC</th>\n",
       "      <th>NDVI</th>\n",
       "      <th>TWI</th>\n",
       "      <th>TmaxJuly</th>\n",
       "      <th>Tmax</th>\n",
       "      <th>Slope</th>\n",
       "      <th>DistFromRoad</th>\n",
       "      <th>DistFromRiver</th>\n",
       "      <th>Precipitation</th>\n",
       "    </tr>\n",
       "  </thead>\n",
       "  <tbody>\n",
       "    <tr>\n",
       "      <th>0</th>\n",
       "      <td>1</td>\n",
       "      <td>1</td>\n",
       "      <td>1199396.038</td>\n",
       "      <td>-453047.7698</td>\n",
       "      <td>5</td>\n",
       "      <td>3</td>\n",
       "      <td>3</td>\n",
       "      <td>3</td>\n",
       "      <td>11</td>\n",
       "      <td>4</td>\n",
       "      <td>3</td>\n",
       "      <td>5</td>\n",
       "      <td>5</td>\n",
       "      <td>2</td>\n",
       "      <td>1</td>\n",
       "      <td>4</td>\n",
       "      <td>3</td>\n",
       "    </tr>\n",
       "    <tr>\n",
       "      <th>1</th>\n",
       "      <td>2</td>\n",
       "      <td>1</td>\n",
       "      <td>1239596.038</td>\n",
       "      <td>-378947.7698</td>\n",
       "      <td>3</td>\n",
       "      <td>4</td>\n",
       "      <td>2</td>\n",
       "      <td>1</td>\n",
       "      <td>4</td>\n",
       "      <td>4</td>\n",
       "      <td>4</td>\n",
       "      <td>5</td>\n",
       "      <td>5</td>\n",
       "      <td>3</td>\n",
       "      <td>0</td>\n",
       "      <td>4</td>\n",
       "      <td>3</td>\n",
       "    </tr>\n",
       "    <tr>\n",
       "      <th>2</th>\n",
       "      <td>3</td>\n",
       "      <td>1</td>\n",
       "      <td>1368696.038</td>\n",
       "      <td>-368347.7698</td>\n",
       "      <td>4</td>\n",
       "      <td>4</td>\n",
       "      <td>3</td>\n",
       "      <td>2</td>\n",
       "      <td>4</td>\n",
       "      <td>5</td>\n",
       "      <td>1</td>\n",
       "      <td>5</td>\n",
       "      <td>5</td>\n",
       "      <td>4</td>\n",
       "      <td>1</td>\n",
       "      <td>3</td>\n",
       "      <td>3</td>\n",
       "    </tr>\n",
       "  </tbody>\n",
       "</table>\n",
       "</div>"
      ],
      "text/plain": [
       "   OBJECTID  Droughts_status            X            Y  Aspect  SoilMoisture  \\\n",
       "0         1                1  1199396.038 -453047.7698       5             3   \n",
       "1         2                1  1239596.038 -378947.7698       3             4   \n",
       "2         3                1  1368696.038 -368347.7698       4             4   \n",
       "\n",
       "   Elevation  DistFromLake  LULC  NDVI  TWI  TmaxJuly  Tmax  Slope  \\\n",
       "0          3             3    11     4    3         5     5      2   \n",
       "1          2             1     4     4    4         5     5      3   \n",
       "2          3             2     4     5    1         5     5      4   \n",
       "\n",
       "   DistFromRoad  DistFromRiver  Precipitation  \n",
       "0             1              4              3  \n",
       "1             0              4              3  \n",
       "2             1              3              3  "
      ]
     },
     "execution_count": 20,
     "metadata": {},
     "output_type": "execute_result"
    }
   ],
   "source": [
    "df_test.head(3)"
   ]
  },
  {
   "cell_type": "code",
   "execution_count": 21,
   "id": "87ebdf60-4a9d-46c6-b01b-3ad4bb6ec93b",
   "metadata": {},
   "outputs": [
    {
     "data": {
      "text/plain": [
       "OBJECTID             int64\n",
       "Droughts_status      int64\n",
       "X                  float64\n",
       "Y                  float64\n",
       "Aspect               int64\n",
       "SoilMoisture       float64\n",
       "Elevation            int64\n",
       "DistFromLake         int64\n",
       "LULC                 int64\n",
       "NDVI               float64\n",
       "TWI                  int64\n",
       "TmaxJuly             int64\n",
       "Tmax               float64\n",
       "Slope                int64\n",
       "DistFromRoad         int64\n",
       "DistFromRiver        int64\n",
       "Precipitation      float64\n",
       "dtype: object"
      ]
     },
     "execution_count": 21,
     "metadata": {},
     "output_type": "execute_result"
    }
   ],
   "source": [
    "df_train.dtypes"
   ]
  },
  {
   "cell_type": "code",
   "execution_count": 22,
   "id": "7cf2b606-e86d-4721-86d8-46187cda21d6",
   "metadata": {},
   "outputs": [
    {
     "data": {
      "text/plain": [
       "OBJECTID             int64\n",
       "Droughts_status      int64\n",
       "X                  float64\n",
       "Y                  float64\n",
       "Aspect               int64\n",
       "SoilMoisture         int64\n",
       "Elevation            int64\n",
       "DistFromLake         int64\n",
       "LULC                 int64\n",
       "NDVI                 int64\n",
       "TWI                  int64\n",
       "TmaxJuly             int64\n",
       "Tmax                 int64\n",
       "Slope                int64\n",
       "DistFromRoad         int64\n",
       "DistFromRiver        int64\n",
       "Precipitation        int64\n",
       "dtype: object"
      ]
     },
     "execution_count": 22,
     "metadata": {},
     "output_type": "execute_result"
    }
   ],
   "source": [
    "df_test.dtypes"
   ]
  },
  {
   "cell_type": "code",
   "execution_count": 23,
   "id": "f6f3272e-b13e-4ae9-bcf7-64c9741053fb",
   "metadata": {},
   "outputs": [
    {
     "data": {
      "text/plain": [
       "{'OBJECTID': 4926,\n",
       " 'Droughts_status': 2,\n",
       " 'X': 4318,\n",
       " 'Y': 4172,\n",
       " 'Aspect': 5,\n",
       " 'SoilMoisture': 4,\n",
       " 'Elevation': 5,\n",
       " 'DistFromLake': 5,\n",
       " 'LULC': 10,\n",
       " 'NDVI': 5,\n",
       " 'TWI': 5,\n",
       " 'TmaxJuly': 5,\n",
       " 'Tmax': 5,\n",
       " 'Slope': 5,\n",
       " 'DistFromRoad': 5,\n",
       " 'DistFromRiver': 5,\n",
       " 'Precipitation': 5}"
      ]
     },
     "execution_count": 23,
     "metadata": {},
     "output_type": "execute_result"
    }
   ],
   "source": [
    "# check number of number of unique values\n",
    "{col : df_train[col].nunique() for col in df_train}"
   ]
  },
  {
   "cell_type": "code",
   "execution_count": 24,
   "id": "0f7da96d-2b88-49a4-bda6-ab6c8ed0ff87",
   "metadata": {},
   "outputs": [
    {
     "data": {
      "text/plain": [
       "{'OBJECTID': 1240,\n",
       " 'Droughts_status': 2,\n",
       " 'X': 1195,\n",
       " 'Y': 1186,\n",
       " 'Aspect': 5,\n",
       " 'SoilMoisture': 4,\n",
       " 'Elevation': 5,\n",
       " 'DistFromLake': 5,\n",
       " 'LULC': 10,\n",
       " 'NDVI': 5,\n",
       " 'TWI': 5,\n",
       " 'TmaxJuly': 5,\n",
       " 'Tmax': 5,\n",
       " 'Slope': 5,\n",
       " 'DistFromRoad': 5,\n",
       " 'DistFromRiver': 5,\n",
       " 'Precipitation': 5}"
      ]
     },
     "execution_count": 24,
     "metadata": {},
     "output_type": "execute_result"
    }
   ],
   "source": [
    "# check number of unique values\n",
    "{col : df_test[col].nunique() for col in df_test}"
   ]
  },
  {
   "cell_type": "code",
   "execution_count": 25,
   "id": "c86e706d-fa72-4422-ada2-1193a4f36cb4",
   "metadata": {},
   "outputs": [
    {
     "data": {
      "text/plain": [
       "4     1850\n",
       "2     1110\n",
       "3      709\n",
       "8      368\n",
       "11     345\n",
       "5      292\n",
       "6      153\n",
       "10      57\n",
       "9       35\n",
       "1        7\n",
       "Name: LULC, dtype: int64"
      ]
     },
     "execution_count": 25,
     "metadata": {},
     "output_type": "execute_result"
    }
   ],
   "source": [
    "df_train['LULC'].value_counts()"
   ]
  },
  {
   "cell_type": "code",
   "execution_count": 26,
   "id": "598f51d5-6bd1-405b-99e7-edfd9b0c4174",
   "metadata": {},
   "outputs": [
    {
     "data": {
      "text/plain": [
       "4     478\n",
       "2     267\n",
       "3     167\n",
       "8     104\n",
       "5      91\n",
       "11     72\n",
       "6      36\n",
       "9      11\n",
       "10      9\n",
       "1       5\n",
       "Name: LULC, dtype: int64"
      ]
     },
     "execution_count": 26,
     "metadata": {},
     "output_type": "execute_result"
    }
   ],
   "source": [
    "df_test['LULC'].value_counts()"
   ]
  },
  {
   "cell_type": "code",
   "execution_count": 27,
   "id": "6d0f9204-6243-4fb3-8bbd-a179a1d7bd72",
   "metadata": {},
   "outputs": [
    {
     "data": {
      "text/plain": [
       "1.0    2661\n",
       "2.0    1414\n",
       "3.0     616\n",
       "4.0     234\n",
       "Name: SoilMoisture, dtype: int64"
      ]
     },
     "execution_count": 27,
     "metadata": {},
     "output_type": "execute_result"
    }
   ],
   "source": [
    "df_train['SoilMoisture'].value_counts()"
   ]
  },
  {
   "cell_type": "code",
   "execution_count": 28,
   "id": "49431659-64eb-42b4-a29a-2e6c0b53c144",
   "metadata": {},
   "outputs": [
    {
     "data": {
      "text/plain": [
       "1    647\n",
       "2    377\n",
       "3    158\n",
       "4     58\n",
       "Name: SoilMoisture, dtype: int64"
      ]
     },
     "execution_count": 28,
     "metadata": {},
     "output_type": "execute_result"
    }
   ],
   "source": [
    "df_test['SoilMoisture'].value_counts()"
   ]
  },
  {
   "cell_type": "code",
   "execution_count": 29,
   "id": "cbce258f-ffe2-415c-802a-ee34d88c4b3b",
   "metadata": {},
   "outputs": [],
   "source": [
    "df_train = df_train.astype(\n",
    "    {\n",
    "        'Droughts_status': 'category',\n",
    "        'Aspect': 'category',\n",
    "        'Elevation': 'category',\n",
    "        'DistFromLake': 'category',\n",
    "        'LULC': 'category',\n",
    "        'NDVI': 'category',\n",
    "        'TWI': 'category',\n",
    "        'TmaxJuly': 'category',\n",
    "        'Tmax': 'category',\n",
    "        'SoilMoisture': 'category',\n",
    "        'Slope': 'category',\n",
    "        'DistFromRoad': 'category',\n",
    "        'DistFromRiver': 'category',\n",
    "        'Precipitation': 'category',\n",
    "    }\n",
    ")"
   ]
  },
  {
   "cell_type": "code",
   "execution_count": 30,
   "id": "f38ad0f3-f841-4748-8a27-dba92083a59c",
   "metadata": {},
   "outputs": [],
   "source": [
    "df_test = df_test.astype(\n",
    "    {\n",
    "        'Droughts_status': 'category',\n",
    "        'Aspect': 'category',\n",
    "        'Elevation': 'category',\n",
    "        'DistFromLake': 'category',\n",
    "        'LULC': 'category',\n",
    "        'NDVI': 'category',\n",
    "        'TWI': 'category',\n",
    "        'TmaxJuly': 'category',\n",
    "        'Tmax': 'category',\n",
    "        'SoilMoisture': 'category',\n",
    "        'Slope': 'category',\n",
    "        'DistFromRoad': 'category',\n",
    "        'DistFromRiver': 'category',\n",
    "        'Precipitation': 'category',\n",
    "    }\n",
    ")"
   ]
  },
  {
   "cell_type": "code",
   "execution_count": 31,
   "id": "79b1a1fc-d63c-4468-92c1-3e9d8dbf544a",
   "metadata": {},
   "outputs": [
    {
     "name": "stdout",
     "output_type": "stream",
     "text": [
      "<class 'pandas.core.frame.DataFrame'>\n",
      "RangeIndex: 4926 entries, 0 to 4925\n",
      "Data columns (total 17 columns):\n",
      " #   Column           Non-Null Count  Dtype   \n",
      "---  ------           --------------  -----   \n",
      " 0   OBJECTID         4926 non-null   int64   \n",
      " 1   Droughts_status  4926 non-null   category\n",
      " 2   X                4926 non-null   float64 \n",
      " 3   Y                4926 non-null   float64 \n",
      " 4   Aspect           4926 non-null   category\n",
      " 5   SoilMoisture     4925 non-null   category\n",
      " 6   Elevation        4926 non-null   category\n",
      " 7   DistFromLake     4926 non-null   category\n",
      " 8   LULC             4926 non-null   category\n",
      " 9   NDVI             4925 non-null   category\n",
      " 10  TWI              4926 non-null   category\n",
      " 11  TmaxJuly         4926 non-null   category\n",
      " 12  Tmax             4925 non-null   category\n",
      " 13  Slope            4926 non-null   category\n",
      " 14  DistFromRoad     4926 non-null   category\n",
      " 15  DistFromRiver    4926 non-null   category\n",
      " 16  Precipitation    4925 non-null   category\n",
      "dtypes: category(14), float64(2), int64(1)\n",
      "memory usage: 185.9 KB\n"
     ]
    }
   ],
   "source": [
    "df_train.info()"
   ]
  },
  {
   "cell_type": "code",
   "execution_count": 32,
   "id": "9711d8d9-60b7-40b8-b152-4cbd2aa11e53",
   "metadata": {},
   "outputs": [
    {
     "name": "stdout",
     "output_type": "stream",
     "text": [
      "<class 'pandas.core.frame.DataFrame'>\n",
      "RangeIndex: 1240 entries, 0 to 1239\n",
      "Data columns (total 17 columns):\n",
      " #   Column           Non-Null Count  Dtype   \n",
      "---  ------           --------------  -----   \n",
      " 0   OBJECTID         1240 non-null   int64   \n",
      " 1   Droughts_status  1240 non-null   category\n",
      " 2   X                1240 non-null   float64 \n",
      " 3   Y                1240 non-null   float64 \n",
      " 4   Aspect           1240 non-null   category\n",
      " 5   SoilMoisture     1240 non-null   category\n",
      " 6   Elevation        1240 non-null   category\n",
      " 7   DistFromLake     1240 non-null   category\n",
      " 8   LULC             1240 non-null   category\n",
      " 9   NDVI             1240 non-null   category\n",
      " 10  TWI              1240 non-null   category\n",
      " 11  TmaxJuly         1240 non-null   category\n",
      " 12  Tmax             1240 non-null   category\n",
      " 13  Slope            1240 non-null   category\n",
      " 14  DistFromRoad     1240 non-null   category\n",
      " 15  DistFromRiver    1240 non-null   category\n",
      " 16  Precipitation    1240 non-null   category\n",
      "dtypes: category(14), float64(2), int64(1)\n",
      "memory usage: 49.1 KB\n"
     ]
    }
   ],
   "source": [
    "df_test.info()"
   ]
  },
  {
   "cell_type": "code",
   "execution_count": 33,
   "id": "e7498a17-2b96-49d9-9d84-43d11bd6de40",
   "metadata": {},
   "outputs": [
    {
     "data": {
      "text/plain": [
       "(4926, 17)"
      ]
     },
     "execution_count": 33,
     "metadata": {},
     "output_type": "execute_result"
    }
   ],
   "source": [
    "df_train.shape"
   ]
  },
  {
   "cell_type": "code",
   "execution_count": 34,
   "id": "df037d1c-1be9-4315-9569-e16f13353f42",
   "metadata": {},
   "outputs": [
    {
     "data": {
      "text/plain": [
       "(1240, 17)"
      ]
     },
     "execution_count": 34,
     "metadata": {},
     "output_type": "execute_result"
    }
   ],
   "source": [
    "df_test.shape"
   ]
  },
  {
   "cell_type": "code",
   "execution_count": 35,
   "id": "bb0b7597-199e-4509-b712-7ada6c9fa903",
   "metadata": {},
   "outputs": [
    {
     "name": "stdout",
     "output_type": "stream",
     "text": [
      "OBJECTID           0\n",
      "Droughts_status    0\n",
      "X                  0\n",
      "Y                  0\n",
      "Aspect             0\n",
      "SoilMoisture       1\n",
      "Elevation          0\n",
      "DistFromLake       0\n",
      "LULC               0\n",
      "NDVI               1\n",
      "TWI                0\n",
      "TmaxJuly           0\n",
      "Tmax               1\n",
      "Slope              0\n",
      "DistFromRoad       0\n",
      "DistFromRiver      0\n",
      "Precipitation      1\n",
      "dtype: int64\n"
     ]
    }
   ],
   "source": [
    "# Check for missing values\n",
    "print(df_train.isnull().sum())"
   ]
  },
  {
   "cell_type": "code",
   "execution_count": 36,
   "id": "32317594-9b50-46ae-b700-222e2099678c",
   "metadata": {},
   "outputs": [
    {
     "name": "stdout",
     "output_type": "stream",
     "text": [
      "OBJECTID           0\n",
      "Droughts_status    0\n",
      "X                  0\n",
      "Y                  0\n",
      "Aspect             0\n",
      "SoilMoisture       0\n",
      "Elevation          0\n",
      "DistFromLake       0\n",
      "LULC               0\n",
      "NDVI               0\n",
      "TWI                0\n",
      "TmaxJuly           0\n",
      "Tmax               0\n",
      "Slope              0\n",
      "DistFromRoad       0\n",
      "DistFromRiver      0\n",
      "Precipitation      0\n",
      "dtype: int64\n"
     ]
    }
   ],
   "source": [
    "# Check for missing values\n",
    "print(df_test.isnull().sum())"
   ]
  },
  {
   "cell_type": "code",
   "execution_count": 37,
   "id": "16a01b5e-3db6-49fc-b085-581ef2d1d296",
   "metadata": {},
   "outputs": [
    {
     "data": {
      "text/html": [
       "<div>\n",
       "<style scoped>\n",
       "    .dataframe tbody tr th:only-of-type {\n",
       "        vertical-align: middle;\n",
       "    }\n",
       "\n",
       "    .dataframe tbody tr th {\n",
       "        vertical-align: top;\n",
       "    }\n",
       "\n",
       "    .dataframe thead th {\n",
       "        text-align: right;\n",
       "    }\n",
       "</style>\n",
       "<table border=\"1\" class=\"dataframe\">\n",
       "  <thead>\n",
       "    <tr style=\"text-align: right;\">\n",
       "      <th></th>\n",
       "      <th>OBJECTID</th>\n",
       "      <th>Droughts_status</th>\n",
       "      <th>X</th>\n",
       "      <th>Y</th>\n",
       "      <th>Aspect</th>\n",
       "      <th>SoilMoisture</th>\n",
       "      <th>Elevation</th>\n",
       "      <th>DistFromLake</th>\n",
       "      <th>LULC</th>\n",
       "      <th>NDVI</th>\n",
       "      <th>TWI</th>\n",
       "      <th>TmaxJuly</th>\n",
       "      <th>Tmax</th>\n",
       "      <th>Slope</th>\n",
       "      <th>DistFromRoad</th>\n",
       "      <th>DistFromRiver</th>\n",
       "      <th>Precipitation</th>\n",
       "    </tr>\n",
       "  </thead>\n",
       "  <tbody>\n",
       "    <tr>\n",
       "      <th>2537</th>\n",
       "      <td>2538</td>\n",
       "      <td>0</td>\n",
       "      <td>305113.0999</td>\n",
       "      <td>-75140.59501</td>\n",
       "      <td>2</td>\n",
       "      <td>NaN</td>\n",
       "      <td>3</td>\n",
       "      <td>3</td>\n",
       "      <td>11</td>\n",
       "      <td>NaN</td>\n",
       "      <td>4</td>\n",
       "      <td>5</td>\n",
       "      <td>NaN</td>\n",
       "      <td>2</td>\n",
       "      <td>2</td>\n",
       "      <td>1</td>\n",
       "      <td>NaN</td>\n",
       "    </tr>\n",
       "  </tbody>\n",
       "</table>\n",
       "</div>"
      ],
      "text/plain": [
       "      OBJECTID Droughts_status            X            Y Aspect SoilMoisture  \\\n",
       "2537      2538               0  305113.0999 -75140.59501      2          NaN   \n",
       "\n",
       "     Elevation DistFromLake LULC NDVI TWI TmaxJuly Tmax Slope DistFromRoad  \\\n",
       "2537         3            3   11  NaN   4        5  NaN     2            2   \n",
       "\n",
       "     DistFromRiver Precipitation  \n",
       "2537             1           NaN  "
      ]
     },
     "execution_count": 37,
     "metadata": {},
     "output_type": "execute_result"
    }
   ],
   "source": [
    "df_train[df_train.isnull().any(axis=1)]"
   ]
  },
  {
   "cell_type": "code",
   "execution_count": 38,
   "id": "0ea53ffc-29fc-4dac-9826-21d70315f791",
   "metadata": {},
   "outputs": [
    {
     "data": {
      "text/html": [
       "<div>\n",
       "<style scoped>\n",
       "    .dataframe tbody tr th:only-of-type {\n",
       "        vertical-align: middle;\n",
       "    }\n",
       "\n",
       "    .dataframe tbody tr th {\n",
       "        vertical-align: top;\n",
       "    }\n",
       "\n",
       "    .dataframe thead th {\n",
       "        text-align: right;\n",
       "    }\n",
       "</style>\n",
       "<table border=\"1\" class=\"dataframe\">\n",
       "  <thead>\n",
       "    <tr style=\"text-align: right;\">\n",
       "      <th></th>\n",
       "      <th>OBJECTID</th>\n",
       "      <th>Droughts_status</th>\n",
       "      <th>X</th>\n",
       "      <th>Y</th>\n",
       "      <th>Aspect</th>\n",
       "      <th>SoilMoisture</th>\n",
       "      <th>Elevation</th>\n",
       "      <th>DistFromLake</th>\n",
       "      <th>LULC</th>\n",
       "      <th>NDVI</th>\n",
       "      <th>TWI</th>\n",
       "      <th>TmaxJuly</th>\n",
       "      <th>Tmax</th>\n",
       "      <th>Slope</th>\n",
       "      <th>DistFromRoad</th>\n",
       "      <th>DistFromRiver</th>\n",
       "      <th>Precipitation</th>\n",
       "    </tr>\n",
       "  </thead>\n",
       "  <tbody>\n",
       "  </tbody>\n",
       "</table>\n",
       "</div>"
      ],
      "text/plain": [
       "Empty DataFrame\n",
       "Columns: [OBJECTID, Droughts_status, X, Y, Aspect, SoilMoisture, Elevation, DistFromLake, LULC, NDVI, TWI, TmaxJuly, Tmax, Slope, DistFromRoad, DistFromRiver, Precipitation]\n",
       "Index: []"
      ]
     },
     "execution_count": 38,
     "metadata": {},
     "output_type": "execute_result"
    }
   ],
   "source": [
    "df_test[df_test.isnull().any(axis=1)]"
   ]
  },
  {
   "cell_type": "code",
   "execution_count": 39,
   "id": "959f1a62-e779-458f-b741-3be6f8ed5fd9",
   "metadata": {},
   "outputs": [],
   "source": [
    "# Drop rows with null values\n",
    "df_train_cleaned = df_train.dropna()"
   ]
  },
  {
   "cell_type": "code",
   "execution_count": 40,
   "id": "86ef7391-988c-41c9-b8e8-f257dacecb66",
   "metadata": {},
   "outputs": [
    {
     "name": "stderr",
     "output_type": "stream",
     "text": [
      "/tmp/ipykernel_250/1853348663.py:1: UserWarning: Boolean Series key will be reindexed to match DataFrame index.\n",
      "  df_train_cleaned[df_train.isnull().any(axis=1)]\n"
     ]
    },
    {
     "data": {
      "text/html": [
       "<div>\n",
       "<style scoped>\n",
       "    .dataframe tbody tr th:only-of-type {\n",
       "        vertical-align: middle;\n",
       "    }\n",
       "\n",
       "    .dataframe tbody tr th {\n",
       "        vertical-align: top;\n",
       "    }\n",
       "\n",
       "    .dataframe thead th {\n",
       "        text-align: right;\n",
       "    }\n",
       "</style>\n",
       "<table border=\"1\" class=\"dataframe\">\n",
       "  <thead>\n",
       "    <tr style=\"text-align: right;\">\n",
       "      <th></th>\n",
       "      <th>OBJECTID</th>\n",
       "      <th>Droughts_status</th>\n",
       "      <th>X</th>\n",
       "      <th>Y</th>\n",
       "      <th>Aspect</th>\n",
       "      <th>SoilMoisture</th>\n",
       "      <th>Elevation</th>\n",
       "      <th>DistFromLake</th>\n",
       "      <th>LULC</th>\n",
       "      <th>NDVI</th>\n",
       "      <th>TWI</th>\n",
       "      <th>TmaxJuly</th>\n",
       "      <th>Tmax</th>\n",
       "      <th>Slope</th>\n",
       "      <th>DistFromRoad</th>\n",
       "      <th>DistFromRiver</th>\n",
       "      <th>Precipitation</th>\n",
       "    </tr>\n",
       "  </thead>\n",
       "  <tbody>\n",
       "  </tbody>\n",
       "</table>\n",
       "</div>"
      ],
      "text/plain": [
       "Empty DataFrame\n",
       "Columns: [OBJECTID, Droughts_status, X, Y, Aspect, SoilMoisture, Elevation, DistFromLake, LULC, NDVI, TWI, TmaxJuly, Tmax, Slope, DistFromRoad, DistFromRiver, Precipitation]\n",
       "Index: []"
      ]
     },
     "execution_count": 40,
     "metadata": {},
     "output_type": "execute_result"
    }
   ],
   "source": [
    "df_train_cleaned[df_train.isnull().any(axis=1)]"
   ]
  },
  {
   "cell_type": "markdown",
   "id": "4fc75d41-cc4c-4ec3-897b-845f9f42b2c2",
   "metadata": {},
   "source": [
    "## Visualization"
   ]
  },
  {
   "cell_type": "code",
   "execution_count": 41,
   "id": "91bb3e2b-a82d-47cb-9d77-b9390cd33f7c",
   "metadata": {},
   "outputs": [
    {
     "data": {
      "text/plain": [
       "<AxesSubplot:xlabel='Droughts_status', ylabel='count'>"
      ]
     },
     "execution_count": 41,
     "metadata": {},
     "output_type": "execute_result"
    },
    {
     "data": {
      "image/png": "[encoded data removed]",
      "text/plain": [
       "<Figure size 432x288 with 1 Axes>"
      ]
     },
     "metadata": {},
     "output_type": "display_data"
    }
   ],
   "source": [
    "sns.set_style('whitegrid')\n",
    "sns.countplot (x= 'Droughts_status', data= df_train, palette= 'RdBu_r')"
   ]
  },
  {
   "cell_type": "code",
   "execution_count": 42,
   "id": "5eaa2a77-b5be-4e82-aaa2-50c4a1ac0a7b",
   "metadata": {},
   "outputs": [
    {
     "data": {
      "image/png": "[encoded data removed]",
      "text/plain": [
       "<Figure size 432x288 with 1 Axes>"
      ]
     },
     "metadata": {},
     "output_type": "display_data"
    }
   ],
   "source": [
    "sns.set_style('whitegrid')\n",
    "fig, ax = plt.subplots()\n",
    "sns.countplot(x= 'Droughts_status', hue= 'Slope', data= df_train, palette= 'RdBu_r')\n",
    "\n",
    "plt.show()"
   ]
  },
  {
   "cell_type": "code",
   "execution_count": 43,
   "id": "137d383f-f0af-4985-9795-1499108aa755",
   "metadata": {},
   "outputs": [
    {
     "data": {
      "image/png": "[encoded data removed]",
      "text/plain": [
       "<Figure size 432x288 with 1 Axes>"
      ]
     },
     "metadata": {},
     "output_type": "display_data"
    }
   ],
   "source": [
    "sns.set_style('whitegrid')\n",
    "fig, ax = plt.subplots()\n",
    "\n",
    "# Create the countplot\n",
    "sns.countplot(x='Droughts_status', hue='SoilMoisture', data=df_train, palette='RdBu_r')\n",
    "\n",
    "plt.show()\n"
   ]
  },
  {
   "cell_type": "code",
   "execution_count": 44,
   "id": "d067650d-f00e-40b2-bfd9-596cd7b0e4ff",
   "metadata": {},
   "outputs": [
    {
     "data": {
      "image/png": "[encoded data removed]",
      "text/plain": [
       "<Figure size 432x288 with 1 Axes>"
      ]
     },
     "metadata": {},
     "output_type": "display_data"
    }
   ],
   "source": [
    "sns.set_style('whitegrid')\n",
    "fig, ax = plt.subplots()\n",
    "\n",
    "# Create the countplot\n",
    "sns.countplot(x='Droughts_status', hue='SoilMoisture', data=df_test, palette='RdBu_r')\n",
    "\n",
    "plt.show()\n"
   ]
  },
  {
   "cell_type": "code",
   "execution_count": 45,
   "id": "0801932f-7565-4c65-98f3-8dcbd49a222e",
   "metadata": {},
   "outputs": [
    {
     "data": {
      "image/png": "[encoded data removed]",
      "text/plain": [
       "<Figure size 432x288 with 1 Axes>"
      ]
     },
     "metadata": {},
     "output_type": "display_data"
    }
   ],
   "source": [
    "sns.set_style('whitegrid')\n",
    "fig, ax = plt.subplots()\n",
    "\n",
    "# Create the countplot\n",
    "sns.countplot(x='Droughts_status', hue='TmaxJuly', data=df_train, palette='RdBu_r')\n",
    "\n",
    "plt.show()\n"
   ]
  },
  {
   "cell_type": "code",
   "execution_count": 46,
   "id": "bbac17f7-28d2-459d-964c-2f9817d1449b",
   "metadata": {},
   "outputs": [
    {
     "data": {
      "image/png": "[encoded data removed]",
      "text/plain": [
       "<Figure size 432x288 with 1 Axes>"
      ]
     },
     "metadata": {},
     "output_type": "display_data"
    }
   ],
   "source": [
    "sns.set_style('whitegrid')\n",
    "fig, ax = plt.subplots()\n",
    "\n",
    "# Create the countplot\n",
    "sns.countplot(x='Droughts_status', hue='DistFromLake', data=df_train, palette='RdBu_r')\n",
    "\n",
    "plt.show()\n"
   ]
  },
  {
   "cell_type": "code",
   "execution_count": 47,
   "id": "cb2b5e4c-000c-4c53-9c9d-1cd193a74c3e",
   "metadata": {},
   "outputs": [
    {
     "data": {
      "image/png": "[encoded data removed]",
      "text/plain": [
       "<Figure size 432x288 with 1 Axes>"
      ]
     },
     "metadata": {},
     "output_type": "display_data"
    }
   ],
   "source": [
    "sns.set_style('whitegrid')\n",
    "fig, ax = plt.subplots()\n",
    "\n",
    "# Create the countplot\n",
    "sns.countplot(x='Droughts_status', hue='DistFromRiver', data=df_train, palette='RdBu_r')\n",
    "\n",
    "plt.show()\n"
   ]
  },
  {
   "cell_type": "code",
   "execution_count": 48,
   "id": "5d0aee32-2964-4e5f-9fc5-aaacdacafef6",
   "metadata": {},
   "outputs": [
    {
     "data": {
      "image/png": "[encoded data removed]",
      "text/plain": [
       "<Figure size 432x288 with 1 Axes>"
      ]
     },
     "metadata": {},
     "output_type": "display_data"
    }
   ],
   "source": [
    "sns.set_style('whitegrid')\n",
    "fig, ax = plt.subplots()\n",
    "\n",
    "# Create the countplot\n",
    "sns.countplot(x='Droughts_status', hue='Precipitation', data=df_train, palette='RdBu_r')\n",
    "\n",
    "plt.show()\n"
   ]
  },
  {
   "cell_type": "code",
   "execution_count": 49,
   "id": "8ec2bb2a-a986-412b-8648-123bb07e2fa1",
   "metadata": {},
   "outputs": [
    {
     "data": {
      "image/png": "[encoded data removed]",
      "text/plain": [
       "<Figure size 432x288 with 1 Axes>"
      ]
     },
     "metadata": {},
     "output_type": "display_data"
    }
   ],
   "source": [
    "sns.set_style('whitegrid')\n",
    "fig, ax = plt.subplots()\n",
    "\n",
    "# Create the countplot\n",
    "sns.countplot(x='Droughts_status', hue='NDVI', data=df_train, palette='RdBu_r')\n",
    "\n",
    "plt.show()\n"
   ]
  },
  {
   "cell_type": "code",
   "execution_count": 50,
   "id": "16eecd7c-e82a-41a2-bb13-c813f9eb47e9",
   "metadata": {},
   "outputs": [
    {
     "data": {
      "image/png": "[encoded data removed]",
      "text/plain": [
       "<Figure size 432x288 with 1 Axes>"
      ]
     },
     "metadata": {},
     "output_type": "display_data"
    }
   ],
   "source": [
    "sns.set_style('whitegrid')\n",
    "fig, ax = plt.subplots()\n",
    "\n",
    "# Create the countplot\n",
    "sns.countplot(x='Droughts_status', hue='Slope', data=df_train, palette='RdBu_r')\n",
    "\n",
    "plt.show()\n"
   ]
  },
  {
   "cell_type": "code",
   "execution_count": 51,
   "id": "144535a6-9891-4819-84d8-33dd4b2465a4",
   "metadata": {},
   "outputs": [
    {
     "data": {
      "image/png": "[encoded data removed]",
      "text/plain": [
       "<Figure size 432x288 with 1 Axes>"
      ]
     },
     "metadata": {},
     "output_type": "display_data"
    }
   ],
   "source": [
    "sns.set_style('whitegrid')\n",
    "fig, ax = plt.subplots()\n",
    "\n",
    "# Create the countplot\n",
    "sns.countplot(x='Droughts_status', hue='LULC', data=df_train, palette='RdBu_r')\n",
    "\n",
    "plt.show()\n"
   ]
  },
  {
   "cell_type": "markdown",
   "id": "803a53b9-88d5-4a7e-9016-7a8cb2944007",
   "metadata": {},
   "source": [
    "#### Drop Column 'OBJECTID' from the training and testing data "
   ]
  },
  {
   "cell_type": "code",
   "execution_count": 52,
   "id": "d2a073a4-37a3-4115-b909-84dc94d20a78",
   "metadata": {},
   "outputs": [
    {
     "name": "stdout",
     "output_type": "stream",
     "text": [
      "     Droughts_status            X            Y Aspect SoilMoisture Elevation  \\\n",
      "0                  1  1076638.532  -618148.100      4          3.0         2   \n",
      "1                  1  1133738.532  -533448.100      4          3.0         3   \n",
      "2                  1  1118838.532  -492348.100      5          3.0         3   \n",
      "3                  1  1121038.532  -476348.100      4          3.0         3   \n",
      "4                  1  1111338.532  -464648.100      2          3.0         3   \n",
      "...              ...          ...          ...    ...          ...       ...   \n",
      "4921               0 -1591086.900  2801659.405      2          1.0         3   \n",
      "4922               0 -1569886.900  2808259.405      3          1.0         1   \n",
      "4923               0 -1580486.900  2814859.405      5          1.0         2   \n",
      "4924               0 -1590386.900  2828759.405      3          1.0         2   \n",
      "4925               0 -1601686.900  2826059.405      2          1.0         3   \n",
      "\n",
      "     DistFromLake LULC NDVI TWI TmaxJuly Tmax Slope DistFromRoad  \\\n",
      "0               2    2  4.0   5        5  5.0     2            1   \n",
      "1               2    2  4.0   5        5  5.0     2            1   \n",
      "2               2    2  4.0   5        5  5.0     2            1   \n",
      "3               2    2  4.0   4        5  5.0     3            1   \n",
      "4               2    2  4.0   3        5  5.0     2            1   \n",
      "...           ...  ...  ...  ..      ...  ...   ...          ...   \n",
      "4921            5    8  2.0   1        1  2.0     5            4   \n",
      "4922            5    5  2.0   2        1  1.0     4            4   \n",
      "4923            5    3  2.0   1        1  1.0     5            4   \n",
      "4924            5    5  2.0   1        1  1.0     4            4   \n",
      "4925            5    8  2.0   1        1  1.0     5            4   \n",
      "\n",
      "     DistFromRiver Precipitation  \n",
      "0                3           3.0  \n",
      "1                4           3.0  \n",
      "2                3           3.0  \n",
      "3                4           4.0  \n",
      "4                3           4.0  \n",
      "...            ...           ...  \n",
      "4921             5           1.0  \n",
      "4922             5           1.0  \n",
      "4923             5           1.0  \n",
      "4924             5           1.0  \n",
      "4925             5           1.0  \n",
      "\n",
      "[4925 rows x 16 columns]\n"
     ]
    }
   ],
   "source": [
    "# Drop column \"OBJECT ID\"\n",
    "columns_to_drop = ['OBJECTID']\n",
    "df_train_dropped = df_train_cleaned.drop(columns= columns_to_drop)\n",
    "\n",
    "#Display the result\n",
    "print (df_train_dropped)"
   ]
  },
  {
   "cell_type": "code",
   "execution_count": 53,
   "id": "9501cf8d-b544-42d8-9c29-a6017d6f29bb",
   "metadata": {},
   "outputs": [
    {
     "data": {
      "text/plain": [
       "Index(['Droughts_status', 'X', 'Y', 'Aspect', 'SoilMoisture', 'Elevation',\n",
       "       'DistFromLake', 'LULC', 'NDVI', 'TWI', 'TmaxJuly', 'Tmax', 'Slope',\n",
       "       'DistFromRoad', 'DistFromRiver', 'Precipitation'],\n",
       "      dtype='object')"
      ]
     },
     "execution_count": 53,
     "metadata": {},
     "output_type": "execute_result"
    }
   ],
   "source": [
    "df_train_dropped.columns"
   ]
  },
  {
   "cell_type": "code",
   "execution_count": 54,
   "id": "f1fcd76c-580c-4c22-adf5-89db5eea985c",
   "metadata": {},
   "outputs": [
    {
     "name": "stdout",
     "output_type": "stream",
     "text": [
      "     Droughts_status             X             Y Aspect SoilMoisture  \\\n",
      "0                  1  1.199396e+06 -4.530478e+05      5            3   \n",
      "1                  1  1.239596e+06 -3.789478e+05      3            4   \n",
      "2                  1  1.368696e+06 -3.683478e+05      4            4   \n",
      "3                  1  4.039604e+04 -1.834777e+04      5            4   \n",
      "4                  1  6.819604e+04 -2.447770e+03      3            4   \n",
      "...              ...           ...           ...    ...          ...   \n",
      "1235               0 -1.666799e+06  2.740755e+06      3            1   \n",
      "1236               0 -1.643399e+06  2.767255e+06      5            1   \n",
      "1237               0 -1.639999e+06  2.780455e+06      3            1   \n",
      "1238               0 -1.606999e+06  2.801655e+06      2            1   \n",
      "1239               0 -1.565299e+06  2.795055e+06      3            1   \n",
      "\n",
      "     Elevation DistFromLake LULC NDVI TWI TmaxJuly Tmax Slope DistFromRoad  \\\n",
      "0            3            3   11    4   3        5    5     2            1   \n",
      "1            2            1    4    4   4        5    5     3            0   \n",
      "2            3            2    4    5   1        5    5     4            1   \n",
      "3            3            2    4    4   4        5    5     2            2   \n",
      "4            3            2    4    5   3        5    5     2            1   \n",
      "...        ...          ...  ...  ...  ..      ...  ...   ...          ...   \n",
      "1235         3            5    3    3   2        3    2     4            3   \n",
      "1236         4            5    3    3   2        2    1     4            3   \n",
      "1237         3            5    8    2   1        1    1     5            4   \n",
      "1238         4            5    8    2   1        1    2     5            4   \n",
      "1239         1            5    8    2   3        1    1     3            4   \n",
      "\n",
      "     DistFromRiver Precipitation  \n",
      "0                4             3  \n",
      "1                4             3  \n",
      "2                3             3  \n",
      "3                3             2  \n",
      "4                3             2  \n",
      "...            ...           ...  \n",
      "1235             5             1  \n",
      "1236             5             1  \n",
      "1237             5             1  \n",
      "1238             5             1  \n",
      "1239             5             1  \n",
      "\n",
      "[1240 rows x 16 columns]\n"
     ]
    }
   ],
   "source": [
    "# Drop column \"OBJECT ID\"\n",
    "columns_to_drop = ['OBJECTID']\n",
    "df_test_dropped = df_test.drop(columns= columns_to_drop)\n",
    "\n",
    "#Display the result\n",
    "print (df_test_dropped)"
   ]
  },
  {
   "cell_type": "code",
   "execution_count": 55,
   "id": "8e0d1b23-05d3-4da4-94c6-9d1da73a970f",
   "metadata": {},
   "outputs": [
    {
     "data": {
      "text/html": [
       "<div>\n",
       "<style scoped>\n",
       "    .dataframe tbody tr th:only-of-type {\n",
       "        vertical-align: middle;\n",
       "    }\n",
       "\n",
       "    .dataframe tbody tr th {\n",
       "        vertical-align: top;\n",
       "    }\n",
       "\n",
       "    .dataframe thead th {\n",
       "        text-align: right;\n",
       "    }\n",
       "</style>\n",
       "<table border=\"1\" class=\"dataframe\">\n",
       "  <thead>\n",
       "    <tr style=\"text-align: right;\">\n",
       "      <th></th>\n",
       "      <th>Droughts_status</th>\n",
       "      <th>X</th>\n",
       "      <th>Y</th>\n",
       "      <th>Aspect</th>\n",
       "      <th>SoilMoisture</th>\n",
       "      <th>Elevation</th>\n",
       "      <th>DistFromLake</th>\n",
       "      <th>LULC</th>\n",
       "      <th>NDVI</th>\n",
       "      <th>TWI</th>\n",
       "      <th>TmaxJuly</th>\n",
       "      <th>Tmax</th>\n",
       "      <th>Slope</th>\n",
       "      <th>DistFromRoad</th>\n",
       "      <th>DistFromRiver</th>\n",
       "      <th>Precipitation</th>\n",
       "    </tr>\n",
       "  </thead>\n",
       "  <tbody>\n",
       "    <tr>\n",
       "      <th>0</th>\n",
       "      <td>1</td>\n",
       "      <td>1076638.532</td>\n",
       "      <td>-618148.100</td>\n",
       "      <td>4</td>\n",
       "      <td>3.0</td>\n",
       "      <td>2</td>\n",
       "      <td>2</td>\n",
       "      <td>2</td>\n",
       "      <td>4.0</td>\n",
       "      <td>5</td>\n",
       "      <td>5</td>\n",
       "      <td>5.0</td>\n",
       "      <td>2</td>\n",
       "      <td>1</td>\n",
       "      <td>3</td>\n",
       "      <td>3.0</td>\n",
       "    </tr>\n",
       "    <tr>\n",
       "      <th>1</th>\n",
       "      <td>1</td>\n",
       "      <td>1133738.532</td>\n",
       "      <td>-533448.100</td>\n",
       "      <td>4</td>\n",
       "      <td>3.0</td>\n",
       "      <td>3</td>\n",
       "      <td>2</td>\n",
       "      <td>2</td>\n",
       "      <td>4.0</td>\n",
       "      <td>5</td>\n",
       "      <td>5</td>\n",
       "      <td>5.0</td>\n",
       "      <td>2</td>\n",
       "      <td>1</td>\n",
       "      <td>4</td>\n",
       "      <td>3.0</td>\n",
       "    </tr>\n",
       "    <tr>\n",
       "      <th>2</th>\n",
       "      <td>1</td>\n",
       "      <td>1118838.532</td>\n",
       "      <td>-492348.100</td>\n",
       "      <td>5</td>\n",
       "      <td>3.0</td>\n",
       "      <td>3</td>\n",
       "      <td>2</td>\n",
       "      <td>2</td>\n",
       "      <td>4.0</td>\n",
       "      <td>5</td>\n",
       "      <td>5</td>\n",
       "      <td>5.0</td>\n",
       "      <td>2</td>\n",
       "      <td>1</td>\n",
       "      <td>3</td>\n",
       "      <td>3.0</td>\n",
       "    </tr>\n",
       "    <tr>\n",
       "      <th>3</th>\n",
       "      <td>1</td>\n",
       "      <td>1121038.532</td>\n",
       "      <td>-476348.100</td>\n",
       "      <td>4</td>\n",
       "      <td>3.0</td>\n",
       "      <td>3</td>\n",
       "      <td>2</td>\n",
       "      <td>2</td>\n",
       "      <td>4.0</td>\n",
       "      <td>4</td>\n",
       "      <td>5</td>\n",
       "      <td>5.0</td>\n",
       "      <td>3</td>\n",
       "      <td>1</td>\n",
       "      <td>4</td>\n",
       "      <td>4.0</td>\n",
       "    </tr>\n",
       "    <tr>\n",
       "      <th>4</th>\n",
       "      <td>1</td>\n",
       "      <td>1111338.532</td>\n",
       "      <td>-464648.100</td>\n",
       "      <td>2</td>\n",
       "      <td>3.0</td>\n",
       "      <td>3</td>\n",
       "      <td>2</td>\n",
       "      <td>2</td>\n",
       "      <td>4.0</td>\n",
       "      <td>3</td>\n",
       "      <td>5</td>\n",
       "      <td>5.0</td>\n",
       "      <td>2</td>\n",
       "      <td>1</td>\n",
       "      <td>3</td>\n",
       "      <td>4.0</td>\n",
       "    </tr>\n",
       "    <tr>\n",
       "      <th>...</th>\n",
       "      <td>...</td>\n",
       "      <td>...</td>\n",
       "      <td>...</td>\n",
       "      <td>...</td>\n",
       "      <td>...</td>\n",
       "      <td>...</td>\n",
       "      <td>...</td>\n",
       "      <td>...</td>\n",
       "      <td>...</td>\n",
       "      <td>...</td>\n",
       "      <td>...</td>\n",
       "      <td>...</td>\n",
       "      <td>...</td>\n",
       "      <td>...</td>\n",
       "      <td>...</td>\n",
       "      <td>...</td>\n",
       "    </tr>\n",
       "    <tr>\n",
       "      <th>4921</th>\n",
       "      <td>0</td>\n",
       "      <td>-1591086.900</td>\n",
       "      <td>2801659.405</td>\n",
       "      <td>2</td>\n",
       "      <td>1.0</td>\n",
       "      <td>3</td>\n",
       "      <td>5</td>\n",
       "      <td>8</td>\n",
       "      <td>2.0</td>\n",
       "      <td>1</td>\n",
       "      <td>1</td>\n",
       "      <td>2.0</td>\n",
       "      <td>5</td>\n",
       "      <td>4</td>\n",
       "      <td>5</td>\n",
       "      <td>1.0</td>\n",
       "    </tr>\n",
       "    <tr>\n",
       "      <th>4922</th>\n",
       "      <td>0</td>\n",
       "      <td>-1569886.900</td>\n",
       "      <td>2808259.405</td>\n",
       "      <td>3</td>\n",
       "      <td>1.0</td>\n",
       "      <td>1</td>\n",
       "      <td>5</td>\n",
       "      <td>5</td>\n",
       "      <td>2.0</td>\n",
       "      <td>2</td>\n",
       "      <td>1</td>\n",
       "      <td>1.0</td>\n",
       "      <td>4</td>\n",
       "      <td>4</td>\n",
       "      <td>5</td>\n",
       "      <td>1.0</td>\n",
       "    </tr>\n",
       "    <tr>\n",
       "      <th>4923</th>\n",
       "      <td>0</td>\n",
       "      <td>-1580486.900</td>\n",
       "      <td>2814859.405</td>\n",
       "      <td>5</td>\n",
       "      <td>1.0</td>\n",
       "      <td>2</td>\n",
       "      <td>5</td>\n",
       "      <td>3</td>\n",
       "      <td>2.0</td>\n",
       "      <td>1</td>\n",
       "      <td>1</td>\n",
       "      <td>1.0</td>\n",
       "      <td>5</td>\n",
       "      <td>4</td>\n",
       "      <td>5</td>\n",
       "      <td>1.0</td>\n",
       "    </tr>\n",
       "    <tr>\n",
       "      <th>4924</th>\n",
       "      <td>0</td>\n",
       "      <td>-1590386.900</td>\n",
       "      <td>2828759.405</td>\n",
       "      <td>3</td>\n",
       "      <td>1.0</td>\n",
       "      <td>2</td>\n",
       "      <td>5</td>\n",
       "      <td>5</td>\n",
       "      <td>2.0</td>\n",
       "      <td>1</td>\n",
       "      <td>1</td>\n",
       "      <td>1.0</td>\n",
       "      <td>4</td>\n",
       "      <td>4</td>\n",
       "      <td>5</td>\n",
       "      <td>1.0</td>\n",
       "    </tr>\n",
       "    <tr>\n",
       "      <th>4925</th>\n",
       "      <td>0</td>\n",
       "      <td>-1601686.900</td>\n",
       "      <td>2826059.405</td>\n",
       "      <td>2</td>\n",
       "      <td>1.0</td>\n",
       "      <td>3</td>\n",
       "      <td>5</td>\n",
       "      <td>8</td>\n",
       "      <td>2.0</td>\n",
       "      <td>1</td>\n",
       "      <td>1</td>\n",
       "      <td>1.0</td>\n",
       "      <td>5</td>\n",
       "      <td>4</td>\n",
       "      <td>5</td>\n",
       "      <td>1.0</td>\n",
       "    </tr>\n",
       "  </tbody>\n",
       "</table>\n",
       "<p>4925 rows × 16 columns</p>\n",
       "</div>"
      ],
      "text/plain": [
       "     Droughts_status            X            Y Aspect SoilMoisture Elevation  \\\n",
       "0                  1  1076638.532  -618148.100      4          3.0         2   \n",
       "1                  1  1133738.532  -533448.100      4          3.0         3   \n",
       "2                  1  1118838.532  -492348.100      5          3.0         3   \n",
       "3                  1  1121038.532  -476348.100      4          3.0         3   \n",
       "4                  1  1111338.532  -464648.100      2          3.0         3   \n",
       "...              ...          ...          ...    ...          ...       ...   \n",
       "4921               0 -1591086.900  2801659.405      2          1.0         3   \n",
       "4922               0 -1569886.900  2808259.405      3          1.0         1   \n",
       "4923               0 -1580486.900  2814859.405      5          1.0         2   \n",
       "4924               0 -1590386.900  2828759.405      3          1.0         2   \n",
       "4925               0 -1601686.900  2826059.405      2          1.0         3   \n",
       "\n",
       "     DistFromLake LULC NDVI TWI TmaxJuly Tmax Slope DistFromRoad  \\\n",
       "0               2    2  4.0   5        5  5.0     2            1   \n",
       "1               2    2  4.0   5        5  5.0     2            1   \n",
       "2               2    2  4.0   5        5  5.0     2            1   \n",
       "3               2    2  4.0   4        5  5.0     3            1   \n",
       "4               2    2  4.0   3        5  5.0     2            1   \n",
       "...           ...  ...  ...  ..      ...  ...   ...          ...   \n",
       "4921            5    8  2.0   1        1  2.0     5            4   \n",
       "4922            5    5  2.0   2        1  1.0     4            4   \n",
       "4923            5    3  2.0   1        1  1.0     5            4   \n",
       "4924            5    5  2.0   1        1  1.0     4            4   \n",
       "4925            5    8  2.0   1        1  1.0     5            4   \n",
       "\n",
       "     DistFromRiver Precipitation  \n",
       "0                3           3.0  \n",
       "1                4           3.0  \n",
       "2                3           3.0  \n",
       "3                4           4.0  \n",
       "4                3           4.0  \n",
       "...            ...           ...  \n",
       "4921             5           1.0  \n",
       "4922             5           1.0  \n",
       "4923             5           1.0  \n",
       "4924             5           1.0  \n",
       "4925             5           1.0  \n",
       "\n",
       "[4925 rows x 16 columns]"
      ]
     },
     "execution_count": 55,
     "metadata": {},
     "output_type": "execute_result"
    }
   ],
   "source": [
    "df_train_dropped"
   ]
  },
  {
   "cell_type": "code",
   "execution_count": 56,
   "id": "ac417bc8-c90c-43e1-a971-76a7026a0c21",
   "metadata": {},
   "outputs": [
    {
     "name": "stdout",
     "output_type": "stream",
     "text": [
      "<class 'pandas.core.frame.DataFrame'>\n",
      "RangeIndex: 1240 entries, 0 to 1239\n",
      "Data columns (total 16 columns):\n",
      " #   Column           Non-Null Count  Dtype   \n",
      "---  ------           --------------  -----   \n",
      " 0   Droughts_status  1240 non-null   category\n",
      " 1   X                1240 non-null   float64 \n",
      " 2   Y                1240 non-null   float64 \n",
      " 3   Aspect           1240 non-null   category\n",
      " 4   SoilMoisture     1240 non-null   category\n",
      " 5   Elevation        1240 non-null   category\n",
      " 6   DistFromLake     1240 non-null   category\n",
      " 7   LULC             1240 non-null   category\n",
      " 8   NDVI             1240 non-null   category\n",
      " 9   TWI              1240 non-null   category\n",
      " 10  TmaxJuly         1240 non-null   category\n",
      " 11  Tmax             1240 non-null   category\n",
      " 12  Slope            1240 non-null   category\n",
      " 13  DistFromRoad     1240 non-null   category\n",
      " 14  DistFromRiver    1240 non-null   category\n",
      " 15  Precipitation    1240 non-null   category\n",
      "dtypes: category(14), float64(2)\n",
      "memory usage: 39.4 KB\n"
     ]
    }
   ],
   "source": [
    "df_test_dropped.info()"
   ]
  },
  {
   "cell_type": "markdown",
   "id": "34afd0c7-6771-4ffc-972b-a61e5b9585f8",
   "metadata": {},
   "source": [
    "## Multi-Collinearity Analysis"
   ]
  },
  {
   "cell_type": "code",
   "execution_count": 57,
   "id": "eb296a8c-e4f1-4c4b-ae30-99ad4142ad5b",
   "metadata": {},
   "outputs": [
    {
     "name": "stdout",
     "output_type": "stream",
     "text": [
      "                       VIF  Tolerance\n",
      "Droughts_status   5.064284   0.197461\n",
      "X                 3.734021   0.267808\n",
      "Y                11.482656   0.087088\n",
      "Aspect            9.244724   0.108170\n",
      "SoilMoisture      8.493585   0.117736\n",
      "Elevation        20.412368   0.048990\n",
      "DistFromLake     21.118603   0.047352\n",
      "LULC              5.967563   0.167573\n",
      "NDVI             16.693917   0.059902\n",
      "TWI              12.797404   0.078141\n",
      "TmaxJuly         34.830187   0.028711\n",
      "Tmax             62.668963   0.015957\n",
      "Slope            24.346758   0.041073\n",
      "DistFromRoad     11.296672   0.088522\n",
      "DistFromRiver    22.676787   0.044098\n",
      "Precipitation    17.085550   0.058529\n"
     ]
    }
   ],
   "source": [
    "from statsmodels.stats.outliers_influence import variance_inflation_factor\n",
    "def calculate_vif(df):\n",
    "\n",
    "    vifs = [variance_inflation_factor(df_train_dropped.values, i) for i in range(df_train_dropped.shape[1])]\n",
    "    tolerance = [1/vif for vif in vifs]\n",
    "\n",
    "    vif_data = pd.DataFrame(index=df_train_dropped.columns)\n",
    "    vif_data['VIF'] = vifs\n",
    "    vif_data['Tolerance'] = tolerance\n",
    "\n",
    "    return vif_data\n",
    "\n",
    "# Calculate VIF \n",
    "vif_data = calculate_vif(df_train_dropped)\n",
    "\n",
    "print(vif_data)"
   ]
  },
  {
   "cell_type": "code",
   "execution_count": 58,
   "id": "175e29bd-6d21-4cbb-acb6-35ef6ba14114",
   "metadata": {},
   "outputs": [
    {
     "data": {
      "image/png": "[encoded data removed]",
      "text/plain": [
       "<Figure size 864x576 with 1 Axes>"
      ]
     },
     "metadata": {},
     "output_type": "display_data"
    }
   ],
   "source": [
    "def plot_vif(vif_data):\n",
    "    # Set up the matplotlib figure\n",
    "    f, ax = plt.subplots(figsize=(12, 8))\n",
    "\n",
    "    # Plot the VIF values\n",
    "    sns.barplot(x=vif_data['VIF'], y=vif_data.index, palette=\"vlag\", ax=ax)\n",
    "    ax.axvline(x=25, color=\"red\", linestyle=\"--\")  # Add a vertical line at VIF = 30\n",
    "    ax.set_title('VIF Scores', fontweight='bold', fontsize=15)\n",
    "    ax.set_xlabel('VIF Value', fontweight='bold', fontsize=12)\n",
    "    ax.set_ylabel('Feature', fontweight='bold', fontsize=12)\n",
    "\n",
    "    # Display the plot\n",
    "    plt.show()\n",
    "\n",
    "plot_vif(vif_data)\n"
   ]
  },
  {
   "cell_type": "markdown",
   "id": "796fbeb6-e87a-498b-928a-572ac6616052",
   "metadata": {},
   "source": [
    "# Feature Importance\n",
    "It is generally recommended to use feature importance analysis on the training dataset only. \\\n",
    "The purpose of feature importance is to understand the relative importance of features in the context of model training. \\\n",
    "Based on the results of the feature importance analysis, remove the features that are determined to have the least importance. \\\n",
    "This helps in reducing the dimensionality of the dataset and focusing on the most relevant features."
   ]
  },
  {
   "cell_type": "markdown",
   "id": "c5eef1c8-1b08-4047-8f20-7c2b82766c99",
   "metadata": {},
   "source": [
    "### Random forest classifier"
   ]
  },
  {
   "cell_type": "code",
   "execution_count": 59,
   "id": "4614a238-8194-4f75-9017-1d6d11552ff2",
   "metadata": {},
   "outputs": [
    {
     "data": {
      "text/plain": [
       "Index(['Droughts_status', 'X', 'Y', 'Aspect', 'SoilMoisture', 'Elevation',\n",
       "       'DistFromLake', 'LULC', 'NDVI', 'TWI', 'TmaxJuly', 'Tmax', 'Slope',\n",
       "       'DistFromRoad', 'DistFromRiver', 'Precipitation'],\n",
       "      dtype='object')"
      ]
     },
     "execution_count": 59,
     "metadata": {},
     "output_type": "execute_result"
    }
   ],
   "source": [
    "df_train_dropped.columns"
   ]
  },
  {
   "cell_type": "code",
   "execution_count": 60,
   "id": "cbdc843e-f756-44bf-a7d5-b10604b1877b",
   "metadata": {},
   "outputs": [
    {
     "data": {
      "text/plain": [
       "Index(['Droughts_status', 'X', 'Y', 'Aspect', 'SoilMoisture', 'Elevation',\n",
       "       'DistFromLake', 'LULC', 'NDVI', 'TWI', 'TmaxJuly', 'Tmax', 'Slope',\n",
       "       'DistFromRoad', 'DistFromRiver', 'Precipitation'],\n",
       "      dtype='object')"
      ]
     },
     "execution_count": 60,
     "metadata": {},
     "output_type": "execute_result"
    }
   ],
   "source": [
    "df_test_dropped.columns"
   ]
  },
  {
   "cell_type": "code",
   "execution_count": 61,
   "id": "1241a7b1-5e28-4c96-bae5-8d1c08ff7547",
   "metadata": {},
   "outputs": [
    {
     "name": "stdout",
     "output_type": "stream",
     "text": [
      "          Feature  Importance    Weight\n",
      "7        TmaxJuly    0.207373  0.207373\n",
      "10   DistFromRoad    0.154729  0.154729\n",
      "8            Tmax    0.107854  0.107854\n",
      "4            LULC    0.086874  0.086874\n",
      "1    SoilMoisture    0.076991  0.076991\n",
      "12  Precipitation    0.073175  0.073175\n",
      "3    DistFromLake    0.057740  0.057740\n",
      "2       Elevation    0.054784  0.054784\n",
      "5            NDVI    0.044948  0.044948\n",
      "11  DistFromRiver    0.042135  0.042135\n",
      "9           Slope    0.039856  0.039856\n",
      "6             TWI    0.028706  0.028706\n",
      "0          Aspect    0.024837  0.024837\n"
     ]
    }
   ],
   "source": [
    "from sklearn.ensemble import RandomForestClassifier\n",
    "# Create the feature matrix X and the target variable y\n",
    "\n",
    "X = df_train_dropped[\n",
    "    ['Aspect', 'SoilMoisture', 'Elevation', 'DistFromLake', 'LULC', 'NDVI', 'TWI',\n",
    "     'TmaxJuly', 'Tmax', 'Slope', 'DistFromRoad', 'DistFromRiver', 'Precipitation']\n",
    "]\n",
    "y = df_train_dropped['Droughts_status']  # Replace 'target_column' with the name of your target column\n",
    "\n",
    "# Initialize the random forest classifier\n",
    "rf = RandomForestClassifier()\n",
    "\n",
    "# Fit the classifier to the data\n",
    "rf.fit(X, y)\n",
    "\n",
    "# Get feature importances\n",
    "importances = rf.feature_importances_\n",
    "\n",
    "# Create a DataFrame with feature names and importances\n",
    "feature_importance = pd.DataFrame({'Feature': X.columns, 'Importance': importances})\n",
    "\n",
    "# Calculate the sum of importances\n",
    "total_importance = feature_importance['Importance'].sum()\n",
    "\n",
    "# Calculate the weights by dividing each importance by the total importance\n",
    "feature_importance['Weight'] = feature_importance['Importance'] / total_importance\n",
    "\n",
    "# Sort the DataFrame by importance in descending order\n",
    "feature_importance = feature_importance.sort_values('Importance', ascending=False)\n",
    "\n",
    "# Print the feature importances with weights\n",
    "print(feature_importance)\n"
   ]
  },
  {
   "cell_type": "code",
   "execution_count": 62,
   "id": "723f858e-c118-4f2b-a7ff-749b38fa0070",
   "metadata": {},
   "outputs": [
    {
     "data": {
      "image/png": "[encoded data removed]",
      "text/plain": [
       "<Figure size 720x432 with 1 Axes>"
      ]
     },
     "metadata": {},
     "output_type": "display_data"
    }
   ],
   "source": [
    "# Create a graph\n",
    "plt.figure(figsize=(10, 6))\n",
    "plt.barh(feature_importance['Feature'], feature_importance['Weight'], color='skyblue')\n",
    "plt.xlabel('Weight')\n",
    "plt.ylabel('Feature')\n",
    "plt.title('Feature Importance with Weights')\n",
    "plt.gca().invert_yaxis()  # Invert the y-axis for better visualization\n",
    "plt.show()"
   ]
  },
  {
   "cell_type": "markdown",
   "id": "63a97447-f025-4054-9e83-e836831d7237",
   "metadata": {},
   "source": [
    "### SHAP value"
   ]
  },
  {
   "cell_type": "markdown",
   "id": "b6f8f415-d035-4552-a130-4e1bb4f42d7e",
   "metadata": {},
   "source": [
    "* it's better to use SHAP After training model (like a CNN or LSTM) in order to analyze the model.\n",
    "* Use SHAP values to understand how each geospatial feature (like soil moisture, temperature, etc.) influences the drought prediction."
   ]
  },
  {
   "cell_type": "markdown",
   "id": "7498f343-e7b8-4cc4-ab6f-c2f32a6f8f5d",
   "metadata": {},
   "source": [
    "Overall, this approach is well-suited for understanding how different features contribute to predictions in drought prediction model, which is vital for both model validation and providing insights into the underlying factors affecting drought susceptibility."
   ]
  },
  {
   "cell_type": "code",
   "execution_count": 63,
   "id": "7acb8096-f0eb-4a37-bc92-40a5756fdba2",
   "metadata": {},
   "outputs": [
    {
     "data": {
      "image/png": "[encoded data removed]",
      "text/plain": [
       "<Figure size 576x482.4 with 2 Axes>"
      ]
     },
     "metadata": {},
     "output_type": "display_data"
    },
    {
     "data": {
      "image/png": "[encoded data removed]",
      "text/plain": [
       "<Figure size 576x482.4 with 1 Axes>"
      ]
     },
     "metadata": {},
     "output_type": "display_data"
    }
   ],
   "source": [
    "import shap\n",
    "\n",
    "# Assuming rf is your trained RandomForestClassifier and X is your feature matrix\n",
    "\n",
    "# Create a SHAP explainer object\n",
    "explainer = shap.TreeExplainer(rf)\n",
    "shap_values = explainer.shap_values(X)\n",
    "\n",
    "# Plot SHAP values (summary plot for overall feature importance)\n",
    "shap.summary_plot(shap_values[1], X)  # Index 1 for class 1 ('Drought') if it's a binary classification\n",
    "\n",
    "# Alternatively, for a simpler bar plot of feature importance\n",
    "shap.summary_plot(shap_values, X, plot_type=\"bar\")\n"
   ]
  },
  {
   "cell_type": "markdown",
   "id": "daea9c6e-0236-456e-b3fe-cdf4d9fe0db2",
   "metadata": {},
   "source": [
    "# Outlier Detection\n",
    " the goal is to detect and handle outliers during the training phase to \n",
    " improve the model's training process and generalization performance."
   ]
  },
  {
   "cell_type": "code",
   "execution_count": 64,
   "id": "85cd7c54-f205-4389-bad3-d7462d894e2a",
   "metadata": {},
   "outputs": [
    {
     "name": "stdout",
     "output_type": "stream",
     "text": [
      "Outliers:\n",
      "      OBJECTID Droughts_status             X             Y Aspect  \\\n",
      "4            5               1  1.111339e+06 -4.646481e+05      2   \n",
      "25          26               1 -1.676615e+05  3.465190e+04      5   \n",
      "29          30               1 -5.086147e+04  2.135190e+04      2   \n",
      "30          31               1  3.243853e+04  2.795190e+04      3   \n",
      "85          86               1 -2.505615e+05  8.935190e+04      2   \n",
      "...        ...             ...           ...           ...    ...   \n",
      "4662      4663               0 -1.591987e+06  2.460059e+06      5   \n",
      "4715      4716               0 -1.677387e+06  2.540359e+06      2   \n",
      "4781      4782               0 -1.584487e+06  2.626959e+06      2   \n",
      "4800      4801               0 -1.715787e+06  2.638859e+06      5   \n",
      "4873      4874               0 -1.658187e+06  2.697059e+06      1   \n",
      "\n",
      "     SoilMoisture Elevation DistFromLake LULC NDVI TWI TmaxJuly Tmax Slope  \\\n",
      "4             3.0         3            2    2  4.0   3        5  5.0     2   \n",
      "25            2.0         2            3    9  3.0   5        5  5.0     2   \n",
      "29            4.0         3            2    6  5.0   5        5  5.0     2   \n",
      "30            3.0         3            1    4  3.0   2        5  5.0     3   \n",
      "85            3.0         2            2    2  4.0   3        5  5.0     4   \n",
      "...           ...       ...          ...  ...  ...  ..      ...  ...   ...   \n",
      "4662          2.0         1            4    4  3.0   1        4  2.0     4   \n",
      "4715          1.0         3            5    4  3.0   5        3  2.0     2   \n",
      "4781          1.0         3            5    8  2.0   5        1  2.0     4   \n",
      "4800          1.0         3            5    8  3.0   4        4  2.0     3   \n",
      "4873          1.0         3            5   11  3.0   5        3  1.0     1   \n",
      "\n",
      "     DistFromRoad DistFromRiver Precipitation  \n",
      "4               1             3           4.0  \n",
      "25              0             1           2.0  \n",
      "29              1             4           2.0  \n",
      "30              2             1           2.0  \n",
      "85              1             1           2.0  \n",
      "...           ...           ...           ...  \n",
      "4662            3             1           1.0  \n",
      "4715            3             1           1.0  \n",
      "4781            3             4           1.0  \n",
      "4800            3             3           1.0  \n",
      "4873            3             4           1.0  \n",
      "\n",
      "[163 rows x 17 columns]\n"
     ]
    }
   ],
   "source": [
    "from pyod.models.knn import KNN\n",
    "\n",
    "# Selecting relevant features for outlier detection\n",
    "columns_for_outlier_detection = [\n",
    "    'Aspect', 'SoilMoisture', 'Elevation', 'DistFromLake', 'LULC', 'NDVI', 'TWI',\n",
    "    'TmaxJuly', 'Tmax', 'Slope', 'DistFromRoad', 'DistFromRiver', 'Precipitation'\n",
    "]\n",
    "\n",
    "# Extracting the relevant columns from the DataFrame\n",
    "X = df_train_dropped[columns_for_outlier_detection].values\n",
    "\n",
    "# Train the KNN outlier detection model\n",
    "knn_model = KNN(contamination=0.05)  # Set the desired contamination level\n",
    "knn_model.fit(X)\n",
    "\n",
    "# Predict the outlier scores and labels\n",
    "outlier_scores = knn_model.decision_scores_\n",
    "outlier_labels = knn_model.predict(X)\n",
    "\n",
    "# Add the outlier scores and labels to the DataFrame\n",
    "df_train_dropped['outlier_scores'] = outlier_scores\n",
    "df_train_dropped['outlier_labels'] = outlier_labels\n",
    "\n",
    "# Print the instances flagged as outliers\n",
    "outliers = df_train_cleaned[df_train_dropped['outlier_labels'] == 1]\n",
    "print(\"Outliers:\")\n",
    "print(outliers)\n",
    "\n",
    "# Remove the outlier instances if desired\n",
    "df_train_Filter = df_train_dropped[df_train_dropped['outlier_labels'] == 0]"
   ]
  },
  {
   "cell_type": "code",
   "execution_count": 65,
   "id": "a9fa8adf-dcae-44e3-9575-4104e1b713ce",
   "metadata": {},
   "outputs": [
    {
     "name": "stdout",
     "output_type": "stream",
     "text": [
      "Outliers:\n",
      "     Droughts_status             X             Y Aspect SoilMoisture  \\\n",
      "11                 1  4.573853e+04  6.851900e+03      5          4.0   \n",
      "760                1 -1.549361e+06  3.230519e+05      3          4.0   \n",
      "834                1 -8.168615e+05  3.161519e+05      3          1.0   \n",
      "838                1 -3.092615e+05  3.110519e+05      1          3.0   \n",
      "841                1 -1.602561e+06  3.354519e+05      2          4.0   \n",
      "...              ...           ...           ...    ...          ...   \n",
      "4867               0 -1.423787e+06  2.685359e+06      5          1.0   \n",
      "4873               0 -1.658187e+06  2.697059e+06      1          1.0   \n",
      "4885               0 -1.544787e+06  2.717659e+06      5          1.0   \n",
      "4920               0 -1.616187e+06  2.808859e+06      2          1.0   \n",
      "4923               0 -1.580487e+06  2.814859e+06      5          1.0   \n",
      "\n",
      "     Elevation DistFromLake LULC NDVI TWI TmaxJuly Tmax Slope DistFromRoad  \\\n",
      "11           3            1   11  4.0   5        5  5.0     2            2   \n",
      "760          4            1    4  3.0   1        5  5.0     5            1   \n",
      "834          3            1    2  1.0   2        5  5.0     3            2   \n",
      "838          2            1   11  1.0   4        5  4.0     1            2   \n",
      "841          3            3    4  5.0   1        5  5.0     5            0   \n",
      "...        ...          ...  ...  ...  ..      ...  ...   ...          ...   \n",
      "4867         1            5    3  1.0   3        1  1.0     2            4   \n",
      "4873         3            5   11  3.0   5        3  1.0     1            3   \n",
      "4885         1            5    8  3.0   5        1  1.0     3            4   \n",
      "4920         4            5    8  1.0   1        1  2.0     5            4   \n",
      "4923         2            5    3  2.0   1        1  1.0     5            4   \n",
      "\n",
      "     DistFromRiver Precipitation  outlier_scores  outlier_labels  \n",
      "11               2           2.0        3.000000              -1  \n",
      "760              4           3.0        3.162278              -1  \n",
      "834              1           1.0        2.828427              -1  \n",
      "838              1           2.0        2.236068              -1  \n",
      "841              3           3.0        2.236068              -1  \n",
      "...            ...           ...             ...             ...  \n",
      "4867             4           1.0        2.000000              -1  \n",
      "4873             4           1.0        3.162278              -1  \n",
      "4885             5           1.0        2.645751              -1  \n",
      "4920             5           1.0        1.732051              -1  \n",
      "4923             5           1.0        2.449490              -1  \n",
      "\n",
      "[247 rows x 18 columns]\n"
     ]
    }
   ],
   "source": [
    "from sklearn.ensemble import IsolationForest\n",
    "\n",
    "# Selecting relevant features for outlier detection\n",
    "columns_for_outlier_detection = [\n",
    "    'Aspect', 'SoilMoisture', 'Elevation', 'DistFromLake', 'LULC', 'NDVI', 'TWI',\n",
    "    'TmaxJuly', 'Tmax', 'Slope', 'DistFromRoad', 'DistFromRiver', 'Precipitation'\n",
    "]\n",
    "# Extracting the relevant columns from the DataFrame\n",
    "X = df_train_dropped[columns_for_outlier_detection].values\n",
    "\n",
    "# Train the Isolation Forest outlier detection model\n",
    "isolation_forest = IsolationForest(contamination=0.05)  # Set the desired contamination level\n",
    "isolation_forest.fit(X)\n",
    "\n",
    "# Predict the outlier labels\n",
    "outlier_labels = isolation_forest.predict(X)\n",
    "\n",
    "# Add the outlier labels to the DataFrame\n",
    "df_train_dropped['outlier_labels'] = outlier_labels\n",
    "\n",
    "# Print the instances flagged as outliers\n",
    "outliers = df_train_dropped[df_train_dropped['outlier_labels'] == -1]\n",
    "print(\"Outliers:\")\n",
    "print(outliers)\n",
    "\n",
    "# Remove the outlier instances if desired\n",
    "df_train_Filter2 = df_train_dropped[df_train_dropped['outlier_labels'] == 1]\n",
    "df_train_Filter2.reset_index(drop=True, inplace=True)\n"
   ]
  },
  {
   "cell_type": "code",
   "execution_count": 66,
   "id": "7ac4b574-ccc3-405a-9e63-526cb18052cb",
   "metadata": {},
   "outputs": [
    {
     "data": {
      "text/html": [
       "<div>\n",
       "<style scoped>\n",
       "    .dataframe tbody tr th:only-of-type {\n",
       "        vertical-align: middle;\n",
       "    }\n",
       "\n",
       "    .dataframe tbody tr th {\n",
       "        vertical-align: top;\n",
       "    }\n",
       "\n",
       "    .dataframe thead th {\n",
       "        text-align: right;\n",
       "    }\n",
       "</style>\n",
       "<table border=\"1\" class=\"dataframe\">\n",
       "  <thead>\n",
       "    <tr style=\"text-align: right;\">\n",
       "      <th></th>\n",
       "      <th>Droughts_status</th>\n",
       "      <th>X</th>\n",
       "      <th>Y</th>\n",
       "      <th>Aspect</th>\n",
       "      <th>SoilMoisture</th>\n",
       "      <th>Elevation</th>\n",
       "      <th>DistFromLake</th>\n",
       "      <th>LULC</th>\n",
       "      <th>NDVI</th>\n",
       "      <th>TWI</th>\n",
       "      <th>TmaxJuly</th>\n",
       "      <th>Tmax</th>\n",
       "      <th>Slope</th>\n",
       "      <th>DistFromRoad</th>\n",
       "      <th>DistFromRiver</th>\n",
       "      <th>Precipitation</th>\n",
       "      <th>outlier_scores</th>\n",
       "      <th>outlier_labels</th>\n",
       "    </tr>\n",
       "  </thead>\n",
       "  <tbody>\n",
       "    <tr>\n",
       "      <th>0</th>\n",
       "      <td>1</td>\n",
       "      <td>1076638.532</td>\n",
       "      <td>-618148.1</td>\n",
       "      <td>4</td>\n",
       "      <td>3.0</td>\n",
       "      <td>2</td>\n",
       "      <td>2</td>\n",
       "      <td>2</td>\n",
       "      <td>4.0</td>\n",
       "      <td>5</td>\n",
       "      <td>5</td>\n",
       "      <td>5.0</td>\n",
       "      <td>2</td>\n",
       "      <td>1</td>\n",
       "      <td>3</td>\n",
       "      <td>3.0</td>\n",
       "      <td>1.732051</td>\n",
       "      <td>1</td>\n",
       "    </tr>\n",
       "    <tr>\n",
       "      <th>1</th>\n",
       "      <td>1</td>\n",
       "      <td>1133738.532</td>\n",
       "      <td>-533448.1</td>\n",
       "      <td>4</td>\n",
       "      <td>3.0</td>\n",
       "      <td>3</td>\n",
       "      <td>2</td>\n",
       "      <td>2</td>\n",
       "      <td>4.0</td>\n",
       "      <td>5</td>\n",
       "      <td>5</td>\n",
       "      <td>5.0</td>\n",
       "      <td>2</td>\n",
       "      <td>1</td>\n",
       "      <td>4</td>\n",
       "      <td>3.0</td>\n",
       "      <td>2.236068</td>\n",
       "      <td>1</td>\n",
       "    </tr>\n",
       "    <tr>\n",
       "      <th>2</th>\n",
       "      <td>1</td>\n",
       "      <td>1118838.532</td>\n",
       "      <td>-492348.1</td>\n",
       "      <td>5</td>\n",
       "      <td>3.0</td>\n",
       "      <td>3</td>\n",
       "      <td>2</td>\n",
       "      <td>2</td>\n",
       "      <td>4.0</td>\n",
       "      <td>5</td>\n",
       "      <td>5</td>\n",
       "      <td>5.0</td>\n",
       "      <td>2</td>\n",
       "      <td>1</td>\n",
       "      <td>3</td>\n",
       "      <td>3.0</td>\n",
       "      <td>2.236068</td>\n",
       "      <td>1</td>\n",
       "    </tr>\n",
       "    <tr>\n",
       "      <th>3</th>\n",
       "      <td>1</td>\n",
       "      <td>1121038.532</td>\n",
       "      <td>-476348.1</td>\n",
       "      <td>4</td>\n",
       "      <td>3.0</td>\n",
       "      <td>3</td>\n",
       "      <td>2</td>\n",
       "      <td>2</td>\n",
       "      <td>4.0</td>\n",
       "      <td>4</td>\n",
       "      <td>5</td>\n",
       "      <td>5.0</td>\n",
       "      <td>3</td>\n",
       "      <td>1</td>\n",
       "      <td>4</td>\n",
       "      <td>4.0</td>\n",
       "      <td>2.449490</td>\n",
       "      <td>1</td>\n",
       "    </tr>\n",
       "    <tr>\n",
       "      <th>4</th>\n",
       "      <td>1</td>\n",
       "      <td>1111338.532</td>\n",
       "      <td>-464648.1</td>\n",
       "      <td>2</td>\n",
       "      <td>3.0</td>\n",
       "      <td>3</td>\n",
       "      <td>2</td>\n",
       "      <td>2</td>\n",
       "      <td>4.0</td>\n",
       "      <td>3</td>\n",
       "      <td>5</td>\n",
       "      <td>5.0</td>\n",
       "      <td>2</td>\n",
       "      <td>1</td>\n",
       "      <td>3</td>\n",
       "      <td>4.0</td>\n",
       "      <td>2.828427</td>\n",
       "      <td>1</td>\n",
       "    </tr>\n",
       "    <tr>\n",
       "      <th>...</th>\n",
       "      <td>...</td>\n",
       "      <td>...</td>\n",
       "      <td>...</td>\n",
       "      <td>...</td>\n",
       "      <td>...</td>\n",
       "      <td>...</td>\n",
       "      <td>...</td>\n",
       "      <td>...</td>\n",
       "      <td>...</td>\n",
       "      <td>...</td>\n",
       "      <td>...</td>\n",
       "      <td>...</td>\n",
       "      <td>...</td>\n",
       "      <td>...</td>\n",
       "      <td>...</td>\n",
       "      <td>...</td>\n",
       "      <td>...</td>\n",
       "      <td>...</td>\n",
       "    </tr>\n",
       "    <tr>\n",
       "      <th>2393</th>\n",
       "      <td>1</td>\n",
       "      <td>-1467561.468</td>\n",
       "      <td>2268751.9</td>\n",
       "      <td>4</td>\n",
       "      <td>1.0</td>\n",
       "      <td>1</td>\n",
       "      <td>4</td>\n",
       "      <td>4</td>\n",
       "      <td>3.0</td>\n",
       "      <td>4</td>\n",
       "      <td>4</td>\n",
       "      <td>2.0</td>\n",
       "      <td>2</td>\n",
       "      <td>3</td>\n",
       "      <td>4</td>\n",
       "      <td>1.0</td>\n",
       "      <td>1.732051</td>\n",
       "      <td>1</td>\n",
       "    </tr>\n",
       "    <tr>\n",
       "      <th>2394</th>\n",
       "      <td>1</td>\n",
       "      <td>-1425661.468</td>\n",
       "      <td>2298751.9</td>\n",
       "      <td>5</td>\n",
       "      <td>1.0</td>\n",
       "      <td>2</td>\n",
       "      <td>4</td>\n",
       "      <td>4</td>\n",
       "      <td>3.0</td>\n",
       "      <td>4</td>\n",
       "      <td>4</td>\n",
       "      <td>2.0</td>\n",
       "      <td>2</td>\n",
       "      <td>3</td>\n",
       "      <td>3</td>\n",
       "      <td>1.0</td>\n",
       "      <td>1.732051</td>\n",
       "      <td>1</td>\n",
       "    </tr>\n",
       "    <tr>\n",
       "      <th>2395</th>\n",
       "      <td>1</td>\n",
       "      <td>-1448961.468</td>\n",
       "      <td>2305051.9</td>\n",
       "      <td>3</td>\n",
       "      <td>1.0</td>\n",
       "      <td>1</td>\n",
       "      <td>4</td>\n",
       "      <td>5</td>\n",
       "      <td>3.0</td>\n",
       "      <td>4</td>\n",
       "      <td>4</td>\n",
       "      <td>2.0</td>\n",
       "      <td>2</td>\n",
       "      <td>3</td>\n",
       "      <td>4</td>\n",
       "      <td>1.0</td>\n",
       "      <td>2.000000</td>\n",
       "      <td>1</td>\n",
       "    </tr>\n",
       "    <tr>\n",
       "      <th>2396</th>\n",
       "      <td>1</td>\n",
       "      <td>-1470161.468</td>\n",
       "      <td>2317751.9</td>\n",
       "      <td>5</td>\n",
       "      <td>1.0</td>\n",
       "      <td>1</td>\n",
       "      <td>4</td>\n",
       "      <td>4</td>\n",
       "      <td>3.0</td>\n",
       "      <td>5</td>\n",
       "      <td>4</td>\n",
       "      <td>2.0</td>\n",
       "      <td>2</td>\n",
       "      <td>3</td>\n",
       "      <td>4</td>\n",
       "      <td>1.0</td>\n",
       "      <td>1.732051</td>\n",
       "      <td>1</td>\n",
       "    </tr>\n",
       "    <tr>\n",
       "      <th>2397</th>\n",
       "      <td>1</td>\n",
       "      <td>-1419361.468</td>\n",
       "      <td>2341051.9</td>\n",
       "      <td>5</td>\n",
       "      <td>1.0</td>\n",
       "      <td>1</td>\n",
       "      <td>4</td>\n",
       "      <td>4</td>\n",
       "      <td>1.0</td>\n",
       "      <td>1</td>\n",
       "      <td>4</td>\n",
       "      <td>2.0</td>\n",
       "      <td>4</td>\n",
       "      <td>3</td>\n",
       "      <td>2</td>\n",
       "      <td>1.0</td>\n",
       "      <td>3.316625</td>\n",
       "      <td>1</td>\n",
       "    </tr>\n",
       "  </tbody>\n",
       "</table>\n",
       "<p>2398 rows × 18 columns</p>\n",
       "</div>"
      ],
      "text/plain": [
       "     Droughts_status            X          Y Aspect SoilMoisture Elevation  \\\n",
       "0                  1  1076638.532  -618148.1      4          3.0         2   \n",
       "1                  1  1133738.532  -533448.1      4          3.0         3   \n",
       "2                  1  1118838.532  -492348.1      5          3.0         3   \n",
       "3                  1  1121038.532  -476348.1      4          3.0         3   \n",
       "4                  1  1111338.532  -464648.1      2          3.0         3   \n",
       "...              ...          ...        ...    ...          ...       ...   \n",
       "2393               1 -1467561.468  2268751.9      4          1.0         1   \n",
       "2394               1 -1425661.468  2298751.9      5          1.0         2   \n",
       "2395               1 -1448961.468  2305051.9      3          1.0         1   \n",
       "2396               1 -1470161.468  2317751.9      5          1.0         1   \n",
       "2397               1 -1419361.468  2341051.9      5          1.0         1   \n",
       "\n",
       "     DistFromLake LULC NDVI TWI TmaxJuly Tmax Slope DistFromRoad  \\\n",
       "0               2    2  4.0   5        5  5.0     2            1   \n",
       "1               2    2  4.0   5        5  5.0     2            1   \n",
       "2               2    2  4.0   5        5  5.0     2            1   \n",
       "3               2    2  4.0   4        5  5.0     3            1   \n",
       "4               2    2  4.0   3        5  5.0     2            1   \n",
       "...           ...  ...  ...  ..      ...  ...   ...          ...   \n",
       "2393            4    4  3.0   4        4  2.0     2            3   \n",
       "2394            4    4  3.0   4        4  2.0     2            3   \n",
       "2395            4    5  3.0   4        4  2.0     2            3   \n",
       "2396            4    4  3.0   5        4  2.0     2            3   \n",
       "2397            4    4  1.0   1        4  2.0     4            3   \n",
       "\n",
       "     DistFromRiver Precipitation  outlier_scores  outlier_labels  \n",
       "0                3           3.0        1.732051               1  \n",
       "1                4           3.0        2.236068               1  \n",
       "2                3           3.0        2.236068               1  \n",
       "3                4           4.0        2.449490               1  \n",
       "4                3           4.0        2.828427               1  \n",
       "...            ...           ...             ...             ...  \n",
       "2393             4           1.0        1.732051               1  \n",
       "2394             3           1.0        1.732051               1  \n",
       "2395             4           1.0        2.000000               1  \n",
       "2396             4           1.0        1.732051               1  \n",
       "2397             2           1.0        3.316625               1  \n",
       "\n",
       "[2398 rows x 18 columns]"
      ]
     },
     "execution_count": 66,
     "metadata": {},
     "output_type": "execute_result"
    }
   ],
   "source": [
    "df_train_Filter2[df_train_Filter2['Droughts_status'] == 1]"
   ]
  },
  {
   "cell_type": "code",
   "execution_count": 67,
   "id": "b975007e-3337-4bd1-b32c-8006f48a4b56",
   "metadata": {},
   "outputs": [
    {
     "data": {
      "text/plain": [
       "2.0    830\n",
       "3.0    646\n",
       "4.0    458\n",
       "5.0    198\n",
       "1.0    148\n",
       "Name: Tmax, dtype: int64"
      ]
     },
     "execution_count": 67,
     "metadata": {},
     "output_type": "execute_result"
    }
   ],
   "source": [
    "df_train_Filter2[df_train_Filter2['Droughts_status'] == 0]['Tmax'].value_counts()"
   ]
  },
  {
   "cell_type": "code",
   "execution_count": 68,
   "id": "f4c65276-f59c-455b-bf59-50e0c322d67c",
   "metadata": {},
   "outputs": [
    {
     "name": "stdout",
     "output_type": "stream",
     "text": [
      "<class 'pandas.core.frame.DataFrame'>\n",
      "Int64Index: 4762 entries, 0 to 4925\n",
      "Data columns (total 18 columns):\n",
      " #   Column           Non-Null Count  Dtype   \n",
      "---  ------           --------------  -----   \n",
      " 0   Droughts_status  4762 non-null   category\n",
      " 1   X                4762 non-null   float64 \n",
      " 2   Y                4762 non-null   float64 \n",
      " 3   Aspect           4762 non-null   category\n",
      " 4   SoilMoisture     4762 non-null   category\n",
      " 5   Elevation        4762 non-null   category\n",
      " 6   DistFromLake     4762 non-null   category\n",
      " 7   LULC             4762 non-null   category\n",
      " 8   NDVI             4762 non-null   category\n",
      " 9   TWI              4762 non-null   category\n",
      " 10  TmaxJuly         4762 non-null   category\n",
      " 11  Tmax             4762 non-null   category\n",
      " 12  Slope            4762 non-null   category\n",
      " 13  DistFromRoad     4762 non-null   category\n",
      " 14  DistFromRiver    4762 non-null   category\n",
      " 15  Precipitation    4762 non-null   category\n",
      " 16  outlier_scores   4762 non-null   float64 \n",
      " 17  outlier_labels   4762 non-null   int64   \n",
      "dtypes: category(14), float64(3), int64(1)\n",
      "memory usage: 254.1 KB\n"
     ]
    }
   ],
   "source": [
    "df_train_Filter.info()"
   ]
  },
  {
   "cell_type": "code",
   "execution_count": 69,
   "id": "ce0199ed-9fed-4ce3-848f-0fb4abefe5ad",
   "metadata": {},
   "outputs": [
    {
     "name": "stdout",
     "output_type": "stream",
     "text": [
      "<class 'pandas.core.frame.DataFrame'>\n",
      "RangeIndex: 4678 entries, 0 to 4677\n",
      "Data columns (total 18 columns):\n",
      " #   Column           Non-Null Count  Dtype   \n",
      "---  ------           --------------  -----   \n",
      " 0   Droughts_status  4678 non-null   category\n",
      " 1   X                4678 non-null   float64 \n",
      " 2   Y                4678 non-null   float64 \n",
      " 3   Aspect           4678 non-null   category\n",
      " 4   SoilMoisture     4678 non-null   category\n",
      " 5   Elevation        4678 non-null   category\n",
      " 6   DistFromLake     4678 non-null   category\n",
      " 7   LULC             4678 non-null   category\n",
      " 8   NDVI             4678 non-null   category\n",
      " 9   TWI              4678 non-null   category\n",
      " 10  TmaxJuly         4678 non-null   category\n",
      " 11  Tmax             4678 non-null   category\n",
      " 12  Slope            4678 non-null   category\n",
      " 13  DistFromRoad     4678 non-null   category\n",
      " 14  DistFromRiver    4678 non-null   category\n",
      " 15  Precipitation    4678 non-null   category\n",
      " 16  outlier_scores   4678 non-null   float64 \n",
      " 17  outlier_labels   4678 non-null   int64   \n",
      "dtypes: category(14), float64(3), int64(1)\n",
      "memory usage: 213.2 KB\n"
     ]
    }
   ],
   "source": [
    "df_train_Filter2.info()"
   ]
  },
  {
   "cell_type": "markdown",
   "id": "23cd198f-e4df-4089-8183-1158ce2d56d5",
   "metadata": {
    "tags": []
   },
   "source": [
    "## Categorical Features\n",
    "\n",
    "Notice that the **purpose** column as categorical\n",
    "\n",
    "That means we need to transform them using dummy variables so sklearn will be able to understand them. Let's do this in one clean step using pd.get_dummies.\n",
    "\n",
    "Let's show you a way of dealing with these columns that can be expanded to multiple categorical features if necessary.\n",
    "\n",
    "**Create a list of elements containing the categorical-ordinal data. Call this list cat_feats.**"
   ]
  },
  {
   "cell_type": "code",
   "execution_count": 70,
   "id": "8345c915-c2aa-4a70-80a1-f690dace8089",
   "metadata": {},
   "outputs": [],
   "source": [
    "from sklearn.preprocessing import OneHotEncoder"
   ]
  },
  {
   "cell_type": "code",
   "execution_count": 71,
   "id": "66ecc14c-3a26-4e6a-b4c5-8300965a65cc",
   "metadata": {},
   "outputs": [
    {
     "data": {
      "text/plain": [
       "Index(['Droughts_status', 'X', 'Y', 'Aspect', 'SoilMoisture', 'Elevation',\n",
       "       'DistFromLake', 'LULC', 'NDVI', 'TWI', 'TmaxJuly', 'Tmax', 'Slope',\n",
       "       'DistFromRoad', 'DistFromRiver', 'Precipitation', 'outlier_scores',\n",
       "       'outlier_labels'],\n",
       "      dtype='object')"
      ]
     },
     "execution_count": 71,
     "metadata": {},
     "output_type": "execute_result"
    }
   ],
   "source": [
    "df_train_Filter.columns"
   ]
  },
  {
   "cell_type": "code",
   "execution_count": 72,
   "id": "02f83a21-0d9f-4360-8550-b4d7f93c5597",
   "metadata": {},
   "outputs": [
    {
     "name": "stdout",
     "output_type": "stream",
     "text": [
      "     Droughts_status            X            Y Aspect SoilMoisture Elevation  \\\n",
      "0                  1  1076638.532  -618148.100      4          3.0         2   \n",
      "1                  1  1133738.532  -533448.100      4          3.0         3   \n",
      "2                  1  1118838.532  -492348.100      5          3.0         3   \n",
      "3                  1  1121038.532  -476348.100      4          3.0         3   \n",
      "5                  1  1105838.532  -442148.100      5          4.0         2   \n",
      "...              ...          ...          ...    ...          ...       ...   \n",
      "4921               0 -1591086.900  2801659.405      2          1.0         3   \n",
      "4922               0 -1569886.900  2808259.405      3          1.0         1   \n",
      "4923               0 -1580486.900  2814859.405      5          1.0         2   \n",
      "4924               0 -1590386.900  2828759.405      3          1.0         2   \n",
      "4925               0 -1601686.900  2826059.405      2          1.0         3   \n",
      "\n",
      "     DistFromLake LULC NDVI TWI TmaxJuly Slope DistFromRoad DistFromRiver  \\\n",
      "0               2    2  4.0   5        5     2            1             3   \n",
      "1               2    2  4.0   5        5     2            1             4   \n",
      "2               2    2  4.0   5        5     2            1             3   \n",
      "3               2    2  4.0   4        5     3            1             4   \n",
      "5               2    3  4.0   4        4     3            1             3   \n",
      "...           ...  ...  ...  ..      ...   ...          ...           ...   \n",
      "4921            5    8  2.0   1        1     5            4             5   \n",
      "4922            5    5  2.0   2        1     4            4             5   \n",
      "4923            5    3  2.0   1        1     5            4             5   \n",
      "4924            5    5  2.0   1        1     4            4             5   \n",
      "4925            5    8  2.0   1        1     5            4             5   \n",
      "\n",
      "     Precipitation  \n",
      "0              3.0  \n",
      "1              3.0  \n",
      "2              3.0  \n",
      "3              4.0  \n",
      "5              4.0  \n",
      "...            ...  \n",
      "4921           1.0  \n",
      "4922           1.0  \n",
      "4923           1.0  \n",
      "4924           1.0  \n",
      "4925           1.0  \n",
      "\n",
      "[4762 rows x 15 columns]\n"
     ]
    }
   ],
   "source": [
    "# Drop column \"Tmax\" because of Multi-collinearity\n",
    "columns_to_drop = ['Tmax', 'outlier_scores', 'outlier_labels']\n",
    "df_train_dropped2 = df_train_Filter.drop(columns= columns_to_drop)\n",
    "\n",
    "#Display the result\n",
    "print (df_train_dropped2)"
   ]
  },
  {
   "cell_type": "code",
   "execution_count": 73,
   "id": "578fd83a-8c7b-4c80-9cf0-f1a54e5aca11",
   "metadata": {},
   "outputs": [
    {
     "data": {
      "text/plain": [
       "Index(['Droughts_status', 'X', 'Y', 'Aspect', 'SoilMoisture', 'Elevation',\n",
       "       'DistFromLake', 'LULC', 'NDVI', 'TWI', 'TmaxJuly', 'Slope',\n",
       "       'DistFromRoad', 'DistFromRiver', 'Precipitation'],\n",
       "      dtype='object')"
      ]
     },
     "execution_count": 73,
     "metadata": {},
     "output_type": "execute_result"
    }
   ],
   "source": [
    "df_train_dropped2.columns"
   ]
  },
  {
   "cell_type": "code",
   "execution_count": 74,
   "id": "5d8e95b6-433c-4efa-822c-24332e410d6b",
   "metadata": {},
   "outputs": [
    {
     "name": "stdout",
     "output_type": "stream",
     "text": [
      "     Droughts_status             X             Y Aspect SoilMoisture  \\\n",
      "0                  1  1.199396e+06 -4.530478e+05      5            3   \n",
      "1                  1  1.239596e+06 -3.789478e+05      3            4   \n",
      "2                  1  1.368696e+06 -3.683478e+05      4            4   \n",
      "3                  1  4.039604e+04 -1.834777e+04      5            4   \n",
      "4                  1  6.819604e+04 -2.447770e+03      3            4   \n",
      "...              ...           ...           ...    ...          ...   \n",
      "1235               0 -1.666799e+06  2.740755e+06      3            1   \n",
      "1236               0 -1.643399e+06  2.767255e+06      5            1   \n",
      "1237               0 -1.639999e+06  2.780455e+06      3            1   \n",
      "1238               0 -1.606999e+06  2.801655e+06      2            1   \n",
      "1239               0 -1.565299e+06  2.795055e+06      3            1   \n",
      "\n",
      "     Elevation DistFromLake LULC NDVI TWI TmaxJuly Slope DistFromRoad  \\\n",
      "0            3            3   11    4   3        5     2            1   \n",
      "1            2            1    4    4   4        5     3            0   \n",
      "2            3            2    4    5   1        5     4            1   \n",
      "3            3            2    4    4   4        5     2            2   \n",
      "4            3            2    4    5   3        5     2            1   \n",
      "...        ...          ...  ...  ...  ..      ...   ...          ...   \n",
      "1235         3            5    3    3   2        3     4            3   \n",
      "1236         4            5    3    3   2        2     4            3   \n",
      "1237         3            5    8    2   1        1     5            4   \n",
      "1238         4            5    8    2   1        1     5            4   \n",
      "1239         1            5    8    2   3        1     3            4   \n",
      "\n",
      "     DistFromRiver Precipitation  \n",
      "0                4             3  \n",
      "1                4             3  \n",
      "2                3             3  \n",
      "3                3             2  \n",
      "4                3             2  \n",
      "...            ...           ...  \n",
      "1235             5             1  \n",
      "1236             5             1  \n",
      "1237             5             1  \n",
      "1238             5             1  \n",
      "1239             5             1  \n",
      "\n",
      "[1240 rows x 15 columns]\n"
     ]
    }
   ],
   "source": [
    "# Drop column \"Tmax\" because of Multi-collinearity\n",
    "columns_to_drop = ['Tmax']\n",
    "df_test_dropped2 = df_test_dropped.drop(columns= columns_to_drop)\n",
    "\n",
    "#Display the result\n",
    "print (df_test_dropped2)"
   ]
  },
  {
   "cell_type": "code",
   "execution_count": 75,
   "id": "745beb14-e173-43da-ab65-431c30362a36",
   "metadata": {},
   "outputs": [
    {
     "data": {
      "text/plain": [
       "Index(['Droughts_status', 'X', 'Y', 'Aspect', 'SoilMoisture', 'Elevation',\n",
       "       'DistFromLake', 'LULC', 'NDVI', 'TWI', 'TmaxJuly', 'Slope',\n",
       "       'DistFromRoad', 'DistFromRiver', 'Precipitation'],\n",
       "      dtype='object')"
      ]
     },
     "execution_count": 75,
     "metadata": {},
     "output_type": "execute_result"
    }
   ],
   "source": [
    "df_test_dropped2.columns"
   ]
  },
  {
   "cell_type": "code",
   "execution_count": 76,
   "id": "6035e2bf-ba87-4652-809f-cd3a88febe9f",
   "metadata": {},
   "outputs": [],
   "source": [
    "cat_feats = [\n",
    "    'Aspect', 'SoilMoisture', 'Elevation', 'DistFromLake', 'LULC', 'NDVI', 'TWI',\n",
    "    'TmaxJuly', 'Tmax', 'Slope', 'DistFromRoad', 'DistFromRiver', 'Precipitation'\n",
    "]"
   ]
  },
  {
   "cell_type": "code",
   "execution_count": 77,
   "id": "c354cad3-bc09-4026-9a42-d052b77820aa",
   "metadata": {},
   "outputs": [],
   "source": [
    "# Create an instance of One-hot-encoder, implemented on the Trainig DATA\n",
    "enc = OneHotEncoder(drop= 'first')\n",
    "  \n",
    "# Passing encoded columns\n",
    "  \n",
    "enc_train1 = pd.DataFrame(enc.fit_transform(\n",
    "        df_train_dropped2[\n",
    "            \n",
    "        [\n",
    "        'Aspect', 'SoilMoisture', 'Elevation', 'DistFromLake', 'LULC', 'NDVI', 'TWI',\n",
    "        'TmaxJuly', 'Slope', 'DistFromRoad', 'DistFromRiver', 'Precipitation'\n",
    "        ]\n",
    "        \n",
    "                                    ]\n",
    "                                            ).toarray()\n",
    "                        )                       \n",
    "\n",
    "\n",
    "# Concatenate the encoded features with the original label column\n",
    "enc_train = pd.concat([enc_train1, df_train_dropped2['Droughts_status']], axis=1, join= \"inner\")"
   ]
  },
  {
   "cell_type": "code",
   "execution_count": 78,
   "id": "7f4986e3-be28-468b-9f78-f4a2ba09ddb2",
   "metadata": {},
   "outputs": [
    {
     "data": {
      "text/plain": [
       "(4601, 53)"
      ]
     },
     "execution_count": 78,
     "metadata": {},
     "output_type": "execute_result"
    }
   ],
   "source": [
    "enc_train.shape"
   ]
  },
  {
   "cell_type": "code",
   "execution_count": 79,
   "id": "091f8894-ccfa-4e83-b4e9-d8aa7770cc6d",
   "metadata": {},
   "outputs": [],
   "source": [
    "enc_train.reset_index(drop=True, inplace=True)"
   ]
  },
  {
   "cell_type": "code",
   "execution_count": 80,
   "id": "c47f7378-1fd2-48a9-9216-31adc674bcd6",
   "metadata": {},
   "outputs": [
    {
     "data": {
      "text/plain": [
       "(4762, 15)"
      ]
     },
     "execution_count": 80,
     "metadata": {},
     "output_type": "execute_result"
    }
   ],
   "source": [
    "df_train_dropped2.shape"
   ]
  },
  {
   "cell_type": "code",
   "execution_count": 81,
   "id": "9370bb05-e287-4652-b8e5-88e8a2f37223",
   "metadata": {},
   "outputs": [
    {
     "data": {
      "text/plain": [
       "(1240, 15)"
      ]
     },
     "execution_count": 81,
     "metadata": {},
     "output_type": "execute_result"
    }
   ],
   "source": [
    "df_test_dropped2.shape"
   ]
  },
  {
   "cell_type": "code",
   "execution_count": 82,
   "id": "2ed2e711-a8c6-49b8-8275-fc0295812aa7",
   "metadata": {},
   "outputs": [],
   "source": [
    "# Create an instance of One-hot-encoder, implemented on the Testing DATA\n",
    "enc = OneHotEncoder(drop='first')\n",
    "  \n",
    "# Passing encoded columns\n",
    "  \n",
    "enc_test = pd.DataFrame(enc.fit_transform(\n",
    "        df_test_dropped2[\n",
    "            \n",
    "        [\n",
    "    'Aspect', 'SoilMoisture', 'Elevation', 'DistFromLake', 'LULC', 'NDVI', 'TWI',\n",
    "    'TmaxJuly', 'Slope', 'DistFromRoad', 'DistFromRiver', 'Precipitation'\n",
    "        ]\n",
    "        \n",
    "                                    ]\n",
    "                                            ).toarray()\n",
    "                        )                       \n",
    "\n",
    "  \n",
    "\n",
    "# Concatenate the encoded features with the original label column\n",
    "enc_test = pd.concat([enc_test, df_test_dropped2['Droughts_status']], axis=1, join= \"inner\")"
   ]
  },
  {
   "cell_type": "code",
   "execution_count": 83,
   "id": "5b190136-a3ff-4b07-970f-fab337d82d2e",
   "metadata": {},
   "outputs": [
    {
     "data": {
      "text/plain": [
       "(1240, 53)"
      ]
     },
     "execution_count": 83,
     "metadata": {},
     "output_type": "execute_result"
    }
   ],
   "source": [
    "enc_test.shape"
   ]
  },
  {
   "cell_type": "code",
   "execution_count": 84,
   "id": "e318fd91-471c-4f3a-9049-b04ef66cc3d8",
   "metadata": {},
   "outputs": [
    {
     "data": {
      "text/plain": [
       "(4601, 53)"
      ]
     },
     "execution_count": 84,
     "metadata": {},
     "output_type": "execute_result"
    }
   ],
   "source": [
    "enc_train.shape"
   ]
  },
  {
   "cell_type": "code",
   "execution_count": 85,
   "id": "332f9d9e-0a33-4317-8623-2a22797a464a",
   "metadata": {},
   "outputs": [
    {
     "data": {
      "text/html": [
       "<div>\n",
       "<style scoped>\n",
       "    .dataframe tbody tr th:only-of-type {\n",
       "        vertical-align: middle;\n",
       "    }\n",
       "\n",
       "    .dataframe tbody tr th {\n",
       "        vertical-align: top;\n",
       "    }\n",
       "\n",
       "    .dataframe thead th {\n",
       "        text-align: right;\n",
       "    }\n",
       "</style>\n",
       "<table border=\"1\" class=\"dataframe\">\n",
       "  <thead>\n",
       "    <tr style=\"text-align: right;\">\n",
       "      <th></th>\n",
       "      <th>Droughts_status</th>\n",
       "      <th>X</th>\n",
       "      <th>Y</th>\n",
       "      <th>Aspect</th>\n",
       "      <th>SoilMoisture</th>\n",
       "      <th>Elevation</th>\n",
       "      <th>DistFromLake</th>\n",
       "      <th>LULC</th>\n",
       "      <th>NDVI</th>\n",
       "      <th>TWI</th>\n",
       "      <th>TmaxJuly</th>\n",
       "      <th>Slope</th>\n",
       "      <th>DistFromRoad</th>\n",
       "      <th>DistFromRiver</th>\n",
       "      <th>Precipitation</th>\n",
       "    </tr>\n",
       "  </thead>\n",
       "  <tbody>\n",
       "    <tr>\n",
       "      <th>0</th>\n",
       "      <td>1</td>\n",
       "      <td>1076638.532</td>\n",
       "      <td>-618148.1</td>\n",
       "      <td>4</td>\n",
       "      <td>3.0</td>\n",
       "      <td>2</td>\n",
       "      <td>2</td>\n",
       "      <td>2</td>\n",
       "      <td>4.0</td>\n",
       "      <td>5</td>\n",
       "      <td>5</td>\n",
       "      <td>2</td>\n",
       "      <td>1</td>\n",
       "      <td>3</td>\n",
       "      <td>3.0</td>\n",
       "    </tr>\n",
       "    <tr>\n",
       "      <th>1</th>\n",
       "      <td>1</td>\n",
       "      <td>1133738.532</td>\n",
       "      <td>-533448.1</td>\n",
       "      <td>4</td>\n",
       "      <td>3.0</td>\n",
       "      <td>3</td>\n",
       "      <td>2</td>\n",
       "      <td>2</td>\n",
       "      <td>4.0</td>\n",
       "      <td>5</td>\n",
       "      <td>5</td>\n",
       "      <td>2</td>\n",
       "      <td>1</td>\n",
       "      <td>4</td>\n",
       "      <td>3.0</td>\n",
       "    </tr>\n",
       "    <tr>\n",
       "      <th>2</th>\n",
       "      <td>1</td>\n",
       "      <td>1118838.532</td>\n",
       "      <td>-492348.1</td>\n",
       "      <td>5</td>\n",
       "      <td>3.0</td>\n",
       "      <td>3</td>\n",
       "      <td>2</td>\n",
       "      <td>2</td>\n",
       "      <td>4.0</td>\n",
       "      <td>5</td>\n",
       "      <td>5</td>\n",
       "      <td>2</td>\n",
       "      <td>1</td>\n",
       "      <td>3</td>\n",
       "      <td>3.0</td>\n",
       "    </tr>\n",
       "    <tr>\n",
       "      <th>3</th>\n",
       "      <td>1</td>\n",
       "      <td>1121038.532</td>\n",
       "      <td>-476348.1</td>\n",
       "      <td>4</td>\n",
       "      <td>3.0</td>\n",
       "      <td>3</td>\n",
       "      <td>2</td>\n",
       "      <td>2</td>\n",
       "      <td>4.0</td>\n",
       "      <td>4</td>\n",
       "      <td>5</td>\n",
       "      <td>3</td>\n",
       "      <td>1</td>\n",
       "      <td>4</td>\n",
       "      <td>4.0</td>\n",
       "    </tr>\n",
       "    <tr>\n",
       "      <th>5</th>\n",
       "      <td>1</td>\n",
       "      <td>1105838.532</td>\n",
       "      <td>-442148.1</td>\n",
       "      <td>5</td>\n",
       "      <td>4.0</td>\n",
       "      <td>2</td>\n",
       "      <td>2</td>\n",
       "      <td>3</td>\n",
       "      <td>4.0</td>\n",
       "      <td>4</td>\n",
       "      <td>4</td>\n",
       "      <td>3</td>\n",
       "      <td>1</td>\n",
       "      <td>3</td>\n",
       "      <td>4.0</td>\n",
       "    </tr>\n",
       "  </tbody>\n",
       "</table>\n",
       "</div>"
      ],
      "text/plain": [
       "  Droughts_status            X         Y Aspect SoilMoisture Elevation  \\\n",
       "0               1  1076638.532 -618148.1      4          3.0         2   \n",
       "1               1  1133738.532 -533448.1      4          3.0         3   \n",
       "2               1  1118838.532 -492348.1      5          3.0         3   \n",
       "3               1  1121038.532 -476348.1      4          3.0         3   \n",
       "5               1  1105838.532 -442148.1      5          4.0         2   \n",
       "\n",
       "  DistFromLake LULC NDVI TWI TmaxJuly Slope DistFromRoad DistFromRiver  \\\n",
       "0            2    2  4.0   5        5     2            1             3   \n",
       "1            2    2  4.0   5        5     2            1             4   \n",
       "2            2    2  4.0   5        5     2            1             3   \n",
       "3            2    2  4.0   4        5     3            1             4   \n",
       "5            2    3  4.0   4        4     3            1             3   \n",
       "\n",
       "  Precipitation  \n",
       "0           3.0  \n",
       "1           3.0  \n",
       "2           3.0  \n",
       "3           4.0  \n",
       "5           4.0  "
      ]
     },
     "execution_count": 85,
     "metadata": {},
     "output_type": "execute_result"
    }
   ],
   "source": [
    "df_train_dropped2.head()"
   ]
  },
  {
   "cell_type": "code",
   "execution_count": 86,
   "id": "96df9565-fb5f-4766-8ca0-a70c761923a9",
   "metadata": {},
   "outputs": [
    {
     "data": {
      "text/html": [
       "<div>\n",
       "<style scoped>\n",
       "    .dataframe tbody tr th:only-of-type {\n",
       "        vertical-align: middle;\n",
       "    }\n",
       "\n",
       "    .dataframe tbody tr th {\n",
       "        vertical-align: top;\n",
       "    }\n",
       "\n",
       "    .dataframe thead th {\n",
       "        text-align: right;\n",
       "    }\n",
       "</style>\n",
       "<table border=\"1\" class=\"dataframe\">\n",
       "  <thead>\n",
       "    <tr style=\"text-align: right;\">\n",
       "      <th></th>\n",
       "      <th>0</th>\n",
       "      <th>1</th>\n",
       "      <th>2</th>\n",
       "      <th>3</th>\n",
       "      <th>4</th>\n",
       "      <th>5</th>\n",
       "      <th>6</th>\n",
       "      <th>7</th>\n",
       "      <th>8</th>\n",
       "      <th>9</th>\n",
       "      <th>...</th>\n",
       "      <th>43</th>\n",
       "      <th>44</th>\n",
       "      <th>45</th>\n",
       "      <th>46</th>\n",
       "      <th>47</th>\n",
       "      <th>48</th>\n",
       "      <th>49</th>\n",
       "      <th>50</th>\n",
       "      <th>51</th>\n",
       "      <th>Droughts_status</th>\n",
       "    </tr>\n",
       "  </thead>\n",
       "  <tbody>\n",
       "    <tr>\n",
       "      <th>0</th>\n",
       "      <td>0.0</td>\n",
       "      <td>0.0</td>\n",
       "      <td>1.0</td>\n",
       "      <td>0.0</td>\n",
       "      <td>0.0</td>\n",
       "      <td>1.0</td>\n",
       "      <td>0.0</td>\n",
       "      <td>1.0</td>\n",
       "      <td>0.0</td>\n",
       "      <td>0.0</td>\n",
       "      <td>...</td>\n",
       "      <td>0.0</td>\n",
       "      <td>0.0</td>\n",
       "      <td>1.0</td>\n",
       "      <td>0.0</td>\n",
       "      <td>0.0</td>\n",
       "      <td>0.0</td>\n",
       "      <td>1.0</td>\n",
       "      <td>0.0</td>\n",
       "      <td>0.0</td>\n",
       "      <td>1</td>\n",
       "    </tr>\n",
       "    <tr>\n",
       "      <th>1</th>\n",
       "      <td>0.0</td>\n",
       "      <td>0.0</td>\n",
       "      <td>1.0</td>\n",
       "      <td>0.0</td>\n",
       "      <td>0.0</td>\n",
       "      <td>1.0</td>\n",
       "      <td>0.0</td>\n",
       "      <td>0.0</td>\n",
       "      <td>1.0</td>\n",
       "      <td>0.0</td>\n",
       "      <td>...</td>\n",
       "      <td>0.0</td>\n",
       "      <td>0.0</td>\n",
       "      <td>0.0</td>\n",
       "      <td>1.0</td>\n",
       "      <td>0.0</td>\n",
       "      <td>0.0</td>\n",
       "      <td>1.0</td>\n",
       "      <td>0.0</td>\n",
       "      <td>0.0</td>\n",
       "      <td>1</td>\n",
       "    </tr>\n",
       "    <tr>\n",
       "      <th>2</th>\n",
       "      <td>0.0</td>\n",
       "      <td>0.0</td>\n",
       "      <td>0.0</td>\n",
       "      <td>1.0</td>\n",
       "      <td>0.0</td>\n",
       "      <td>1.0</td>\n",
       "      <td>0.0</td>\n",
       "      <td>0.0</td>\n",
       "      <td>1.0</td>\n",
       "      <td>0.0</td>\n",
       "      <td>...</td>\n",
       "      <td>0.0</td>\n",
       "      <td>0.0</td>\n",
       "      <td>1.0</td>\n",
       "      <td>0.0</td>\n",
       "      <td>0.0</td>\n",
       "      <td>0.0</td>\n",
       "      <td>1.0</td>\n",
       "      <td>0.0</td>\n",
       "      <td>0.0</td>\n",
       "      <td>1</td>\n",
       "    </tr>\n",
       "    <tr>\n",
       "      <th>3</th>\n",
       "      <td>0.0</td>\n",
       "      <td>0.0</td>\n",
       "      <td>1.0</td>\n",
       "      <td>0.0</td>\n",
       "      <td>0.0</td>\n",
       "      <td>1.0</td>\n",
       "      <td>0.0</td>\n",
       "      <td>0.0</td>\n",
       "      <td>1.0</td>\n",
       "      <td>0.0</td>\n",
       "      <td>...</td>\n",
       "      <td>0.0</td>\n",
       "      <td>0.0</td>\n",
       "      <td>0.0</td>\n",
       "      <td>1.0</td>\n",
       "      <td>0.0</td>\n",
       "      <td>0.0</td>\n",
       "      <td>0.0</td>\n",
       "      <td>1.0</td>\n",
       "      <td>0.0</td>\n",
       "      <td>1</td>\n",
       "    </tr>\n",
       "    <tr>\n",
       "      <th>4</th>\n",
       "      <td>0.0</td>\n",
       "      <td>1.0</td>\n",
       "      <td>0.0</td>\n",
       "      <td>0.0</td>\n",
       "      <td>0.0</td>\n",
       "      <td>0.0</td>\n",
       "      <td>1.0</td>\n",
       "      <td>1.0</td>\n",
       "      <td>0.0</td>\n",
       "      <td>0.0</td>\n",
       "      <td>...</td>\n",
       "      <td>0.0</td>\n",
       "      <td>0.0</td>\n",
       "      <td>0.0</td>\n",
       "      <td>1.0</td>\n",
       "      <td>0.0</td>\n",
       "      <td>0.0</td>\n",
       "      <td>1.0</td>\n",
       "      <td>0.0</td>\n",
       "      <td>0.0</td>\n",
       "      <td>1</td>\n",
       "    </tr>\n",
       "    <tr>\n",
       "      <th>...</th>\n",
       "      <td>...</td>\n",
       "      <td>...</td>\n",
       "      <td>...</td>\n",
       "      <td>...</td>\n",
       "      <td>...</td>\n",
       "      <td>...</td>\n",
       "      <td>...</td>\n",
       "      <td>...</td>\n",
       "      <td>...</td>\n",
       "      <td>...</td>\n",
       "      <td>...</td>\n",
       "      <td>...</td>\n",
       "      <td>...</td>\n",
       "      <td>...</td>\n",
       "      <td>...</td>\n",
       "      <td>...</td>\n",
       "      <td>...</td>\n",
       "      <td>...</td>\n",
       "      <td>...</td>\n",
       "      <td>...</td>\n",
       "      <td>...</td>\n",
       "    </tr>\n",
       "    <tr>\n",
       "      <th>4596</th>\n",
       "      <td>1.0</td>\n",
       "      <td>0.0</td>\n",
       "      <td>0.0</td>\n",
       "      <td>0.0</td>\n",
       "      <td>0.0</td>\n",
       "      <td>0.0</td>\n",
       "      <td>0.0</td>\n",
       "      <td>0.0</td>\n",
       "      <td>1.0</td>\n",
       "      <td>0.0</td>\n",
       "      <td>...</td>\n",
       "      <td>1.0</td>\n",
       "      <td>0.0</td>\n",
       "      <td>0.0</td>\n",
       "      <td>0.0</td>\n",
       "      <td>1.0</td>\n",
       "      <td>0.0</td>\n",
       "      <td>0.0</td>\n",
       "      <td>0.0</td>\n",
       "      <td>0.0</td>\n",
       "      <td>0</td>\n",
       "    </tr>\n",
       "    <tr>\n",
       "      <th>4597</th>\n",
       "      <td>0.0</td>\n",
       "      <td>1.0</td>\n",
       "      <td>0.0</td>\n",
       "      <td>0.0</td>\n",
       "      <td>0.0</td>\n",
       "      <td>0.0</td>\n",
       "      <td>0.0</td>\n",
       "      <td>0.0</td>\n",
       "      <td>0.0</td>\n",
       "      <td>0.0</td>\n",
       "      <td>...</td>\n",
       "      <td>1.0</td>\n",
       "      <td>0.0</td>\n",
       "      <td>0.0</td>\n",
       "      <td>0.0</td>\n",
       "      <td>1.0</td>\n",
       "      <td>0.0</td>\n",
       "      <td>0.0</td>\n",
       "      <td>0.0</td>\n",
       "      <td>0.0</td>\n",
       "      <td>0</td>\n",
       "    </tr>\n",
       "    <tr>\n",
       "      <th>4598</th>\n",
       "      <td>0.0</td>\n",
       "      <td>0.0</td>\n",
       "      <td>0.0</td>\n",
       "      <td>1.0</td>\n",
       "      <td>0.0</td>\n",
       "      <td>0.0</td>\n",
       "      <td>0.0</td>\n",
       "      <td>1.0</td>\n",
       "      <td>0.0</td>\n",
       "      <td>0.0</td>\n",
       "      <td>...</td>\n",
       "      <td>1.0</td>\n",
       "      <td>0.0</td>\n",
       "      <td>0.0</td>\n",
       "      <td>0.0</td>\n",
       "      <td>1.0</td>\n",
       "      <td>0.0</td>\n",
       "      <td>0.0</td>\n",
       "      <td>0.0</td>\n",
       "      <td>0.0</td>\n",
       "      <td>0</td>\n",
       "    </tr>\n",
       "    <tr>\n",
       "      <th>4599</th>\n",
       "      <td>0.0</td>\n",
       "      <td>1.0</td>\n",
       "      <td>0.0</td>\n",
       "      <td>0.0</td>\n",
       "      <td>0.0</td>\n",
       "      <td>0.0</td>\n",
       "      <td>0.0</td>\n",
       "      <td>1.0</td>\n",
       "      <td>0.0</td>\n",
       "      <td>0.0</td>\n",
       "      <td>...</td>\n",
       "      <td>1.0</td>\n",
       "      <td>0.0</td>\n",
       "      <td>0.0</td>\n",
       "      <td>0.0</td>\n",
       "      <td>1.0</td>\n",
       "      <td>0.0</td>\n",
       "      <td>0.0</td>\n",
       "      <td>0.0</td>\n",
       "      <td>0.0</td>\n",
       "      <td>0</td>\n",
       "    </tr>\n",
       "    <tr>\n",
       "      <th>4600</th>\n",
       "      <td>1.0</td>\n",
       "      <td>0.0</td>\n",
       "      <td>0.0</td>\n",
       "      <td>0.0</td>\n",
       "      <td>0.0</td>\n",
       "      <td>0.0</td>\n",
       "      <td>0.0</td>\n",
       "      <td>0.0</td>\n",
       "      <td>1.0</td>\n",
       "      <td>0.0</td>\n",
       "      <td>...</td>\n",
       "      <td>1.0</td>\n",
       "      <td>0.0</td>\n",
       "      <td>0.0</td>\n",
       "      <td>0.0</td>\n",
       "      <td>1.0</td>\n",
       "      <td>0.0</td>\n",
       "      <td>0.0</td>\n",
       "      <td>0.0</td>\n",
       "      <td>0.0</td>\n",
       "      <td>0</td>\n",
       "    </tr>\n",
       "  </tbody>\n",
       "</table>\n",
       "<p>4601 rows × 53 columns</p>\n",
       "</div>"
      ],
      "text/plain": [
       "        0    1    2    3    4    5    6    7    8    9  ...   43   44   45  \\\n",
       "0     0.0  0.0  1.0  0.0  0.0  1.0  0.0  1.0  0.0  0.0  ...  0.0  0.0  1.0   \n",
       "1     0.0  0.0  1.0  0.0  0.0  1.0  0.0  0.0  1.0  0.0  ...  0.0  0.0  0.0   \n",
       "2     0.0  0.0  0.0  1.0  0.0  1.0  0.0  0.0  1.0  0.0  ...  0.0  0.0  1.0   \n",
       "3     0.0  0.0  1.0  0.0  0.0  1.0  0.0  0.0  1.0  0.0  ...  0.0  0.0  0.0   \n",
       "4     0.0  1.0  0.0  0.0  0.0  0.0  1.0  1.0  0.0  0.0  ...  0.0  0.0  0.0   \n",
       "...   ...  ...  ...  ...  ...  ...  ...  ...  ...  ...  ...  ...  ...  ...   \n",
       "4596  1.0  0.0  0.0  0.0  0.0  0.0  0.0  0.0  1.0  0.0  ...  1.0  0.0  0.0   \n",
       "4597  0.0  1.0  0.0  0.0  0.0  0.0  0.0  0.0  0.0  0.0  ...  1.0  0.0  0.0   \n",
       "4598  0.0  0.0  0.0  1.0  0.0  0.0  0.0  1.0  0.0  0.0  ...  1.0  0.0  0.0   \n",
       "4599  0.0  1.0  0.0  0.0  0.0  0.0  0.0  1.0  0.0  0.0  ...  1.0  0.0  0.0   \n",
       "4600  1.0  0.0  0.0  0.0  0.0  0.0  0.0  0.0  1.0  0.0  ...  1.0  0.0  0.0   \n",
       "\n",
       "       46   47   48   49   50   51  Droughts_status  \n",
       "0     0.0  0.0  0.0  1.0  0.0  0.0                1  \n",
       "1     1.0  0.0  0.0  1.0  0.0  0.0                1  \n",
       "2     0.0  0.0  0.0  1.0  0.0  0.0                1  \n",
       "3     1.0  0.0  0.0  0.0  1.0  0.0                1  \n",
       "4     1.0  0.0  0.0  1.0  0.0  0.0                1  \n",
       "...   ...  ...  ...  ...  ...  ...              ...  \n",
       "4596  0.0  1.0  0.0  0.0  0.0  0.0                0  \n",
       "4597  0.0  1.0  0.0  0.0  0.0  0.0                0  \n",
       "4598  0.0  1.0  0.0  0.0  0.0  0.0                0  \n",
       "4599  0.0  1.0  0.0  0.0  0.0  0.0                0  \n",
       "4600  0.0  1.0  0.0  0.0  0.0  0.0                0  \n",
       "\n",
       "[4601 rows x 53 columns]"
      ]
     },
     "execution_count": 86,
     "metadata": {},
     "output_type": "execute_result"
    }
   ],
   "source": [
    "enc_train"
   ]
  },
  {
   "cell_type": "markdown",
   "id": "bdb5f58c-62c4-4afb-a130-afe3857fb407",
   "metadata": {},
   "source": [
    "## Training Machine Learning Models"
   ]
  },
  {
   "cell_type": "markdown",
   "id": "7fe50187-684e-49ad-a860-4bb6ca9a5234",
   "metadata": {},
   "source": [
    "### 1- Random Forest model"
   ]
  },
  {
   "cell_type": "code",
   "execution_count": 87,
   "id": "4b6552ea-8888-435c-a83d-7f605fe6550a",
   "metadata": {},
   "outputs": [],
   "source": [
    "from sklearn.ensemble import RandomForestClassifier\n",
    "from sklearn.model_selection import cross_val_score, StratifiedKFold\n",
    "from sklearn.metrics import classification_report, roc_curve, auc\n",
    "from sklearn.metrics import confusion_matrix"
   ]
  },
  {
   "cell_type": "code",
   "execution_count": 88,
   "id": "b79883e4-4405-4e2b-be20-d9f36faf610d",
   "metadata": {},
   "outputs": [],
   "source": [
    "rfc = RandomForestClassifier(n_estimators=600)"
   ]
  },
  {
   "cell_type": "code",
   "execution_count": 89,
   "id": "72fb3cc3-29fa-4c5c-8be1-2154e4b0426d",
   "metadata": {},
   "outputs": [],
   "source": [
    "X_train = enc_train.iloc[:, :-1].values\n",
    "y_train = enc_train.iloc[:, -1].values\n",
    "\n",
    "X_test = enc_test.iloc[:, :-1].values\n",
    "y_test = enc_test.iloc[:, -1].values\n"
   ]
  },
  {
   "cell_type": "code",
   "execution_count": 90,
   "id": "44a13e05-7fe7-4452-8462-d6d3b71011e4",
   "metadata": {},
   "outputs": [
    {
     "data": {
      "text/plain": [
       "RandomForestClassifier(n_estimators=600)"
      ]
     },
     "execution_count": 90,
     "metadata": {},
     "output_type": "execute_result"
    }
   ],
   "source": [
    "rfc.fit(X_train,y_train)"
   ]
  },
  {
   "cell_type": "code",
   "execution_count": 91,
   "id": "bce842aa-527e-450b-92ba-1cad205aa21c",
   "metadata": {},
   "outputs": [
    {
     "name": "stdout",
     "output_type": "stream",
     "text": [
      "Fold 1: Accuracy = 0.9446254071661238\n",
      "Fold 2: Accuracy = 0.9293478260869565\n",
      "Fold 3: Accuracy = 0.9326086956521739\n",
      "Fold 4: Accuracy = 0.9445652173913044\n",
      "Fold 5: Accuracy = 0.9315217391304348\n",
      "Mean Accuracy: 0.9365337770853988\n"
     ]
    }
   ],
   "source": [
    "# Perform cross-validation\n",
    "cv = StratifiedKFold(n_splits=5, shuffle=True, random_state=42)\n",
    "scores = cross_val_score(rfc, X_train, y_train, cv=cv, scoring='accuracy')\n",
    "\n",
    "# Print the accuracy scores for each fold\n",
    "for fold, score in enumerate(scores):\n",
    "    print(f\"Fold {fold+1}: Accuracy = {score}\")\n",
    "\n",
    "# Calculate and print the mean accuracy across all folds\n",
    "mean_accuracy = scores.mean()\n",
    "print(f\"Mean Accuracy: {mean_accuracy}\")"
   ]
  },
  {
   "cell_type": "markdown",
   "id": "0a5bc9e0-08e2-472d-b2e8-fa951c2c0150",
   "metadata": {},
   "source": [
    "### Predictions and Evaluation\n",
    "\n",
    "Let's predict off the y_test values and evaluate our model.\n",
    "\n",
    "** Predict the class of not.fully.paid for the X_test data.**"
   ]
  },
  {
   "cell_type": "code",
   "execution_count": 92,
   "id": "d99382d7-0ede-494d-9a99-d7f5010df62b",
   "metadata": {},
   "outputs": [],
   "source": [
    "predictions = rfc.predict(X_test)"
   ]
  },
  {
   "cell_type": "code",
   "execution_count": 93,
   "id": "54a411d0-1b99-4117-b294-4ae0b4620781",
   "metadata": {},
   "outputs": [
    {
     "name": "stdout",
     "output_type": "stream",
     "text": [
      "              precision    recall  f1-score   support\n",
      "\n",
      "           0       0.92      0.93      0.93       620\n",
      "           1       0.93      0.92      0.92       620\n",
      "\n",
      "    accuracy                           0.93      1240\n",
      "   macro avg       0.93      0.93      0.92      1240\n",
      "weighted avg       0.93      0.93      0.92      1240\n",
      "\n"
     ]
    }
   ],
   "source": [
    "print(classification_report(y_test,predictions))"
   ]
  },
  {
   "cell_type": "code",
   "execution_count": 94,
   "id": "3a02846a-c262-4c75-8d55-b1d130e2789a",
   "metadata": {},
   "outputs": [],
   "source": [
    "y_pred_proba = rfc.predict_proba(X_test)[:, 1].reshape(-1, 1)"
   ]
  },
  {
   "cell_type": "code",
   "execution_count": 95,
   "id": "99684c77-e2a4-48e3-9f60-696677d95d8f",
   "metadata": {},
   "outputs": [
    {
     "name": "stdout",
     "output_type": "stream",
     "text": [
      "[[0.         0.42       1.        ]\n",
      " [1.         0.80833333 1.        ]\n",
      " [1.         0.69666667 1.        ]\n",
      " ...\n",
      " [0.         0.         0.        ]\n",
      " [0.         0.         0.        ]\n",
      " [0.         0.         0.        ]]\n"
     ]
    }
   ],
   "source": [
    "result = np.concatenate((predictions.reshape(len(predictions), 1), y_pred_proba, y_test.reshape(len(y_test), 1)), axis=1)\n",
    "print(result)"
   ]
  },
  {
   "cell_type": "markdown",
   "id": "034a7ff6-ae34-462d-a37f-90a737eaa44a",
   "metadata": {},
   "source": [
    "### Making Confusion Matrix"
   ]
  },
  {
   "cell_type": "code",
   "execution_count": 96,
   "id": "00142ca2-5502-4279-a11f-25e7525681db",
   "metadata": {},
   "outputs": [
    {
     "name": "stdout",
     "output_type": "stream",
     "text": [
      "[[574  46]\n",
      " [ 47 573]]\n"
     ]
    }
   ],
   "source": [
    "cm_rf = confusion_matrix(y_test, predictions)\n",
    "print(cm_rf)"
   ]
  },
  {
   "cell_type": "code",
   "execution_count": 97,
   "id": "6a6c1c40-7f4c-4a60-a544-b4da52f0a09e",
   "metadata": {},
   "outputs": [
    {
     "data": {
      "image/png": "[encoded data removed]",
      "text/plain": [
       "<Figure size 576x432 with 1 Axes>"
      ]
     },
     "metadata": {},
     "output_type": "display_data"
    }
   ],
   "source": [
    "plt.figure(figsize=(8, 6))\n",
    "sns.set(font_scale=1.2)  # Adjust the font scale for better readability\n",
    "sns.heatmap(cm_rf, annot=True, fmt='d', cmap='Blues', cbar=False,\n",
    "            annot_kws={\"size\": 14}, linewidths=0.5, linecolor='gray')\n",
    "plt.xlabel('Predicted Labels', fontsize=16)\n",
    "plt.ylabel('True Labels', fontsize=16)\n",
    "plt.title('Confusion Matrix', fontsize=18)\n",
    "plt.show()"
   ]
  },
  {
   "cell_type": "code",
   "execution_count": 98,
   "id": "82c7fac9-cc72-458e-ad32-f942b7fbe953",
   "metadata": {},
   "outputs": [
    {
     "name": "stdout",
     "output_type": "stream",
     "text": [
      "              precision    recall  f1-score   support\n",
      "\n",
      "           0       0.92      0.93      0.93       620\n",
      "           1       0.93      0.92      0.92       620\n",
      "\n",
      "    accuracy                           0.93      1240\n",
      "   macro avg       0.93      0.93      0.92      1240\n",
      "weighted avg       0.93      0.93      0.92      1240\n",
      "\n"
     ]
    }
   ],
   "source": [
    "# Print classification report\n",
    "print(classification_report(y_test, predictions))"
   ]
  },
  {
   "cell_type": "markdown",
   "id": "f1d7df18-b57d-4c04-9552-0de7891baac4",
   "metadata": {},
   "source": [
    "### calculate the ROC curve and AUC (Area Under the Curve) for Random Forest model"
   ]
  },
  {
   "cell_type": "code",
   "execution_count": 99,
   "id": "0288296a-70aa-440b-aee1-44f3a87f828f",
   "metadata": {},
   "outputs": [
    {
     "name": "stdout",
     "output_type": "stream",
     "text": [
      "AUC: 0.9792221644120709\n"
     ]
    },
    {
     "data": {
      "image/png": "[encoded data removed]",
      "text/plain": [
       "<Figure size 432x288 with 1 Axes>"
      ]
     },
     "metadata": {},
     "output_type": "display_data"
    }
   ],
   "source": [
    "# Calculate the false positive rate, true positive rate, and thresholds\n",
    "fpr, tpr, thresholds = roc_curve(y_test, y_pred_proba)\n",
    "\n",
    "# Calculate the AUC (Area Under the Curve)\n",
    "auc_score = auc(fpr, tpr)\n",
    "\n",
    "# Print the AUC score\n",
    "print(\"AUC:\", auc_score)\n",
    "\n",
    "# Plot the ROC curve\n",
    "import matplotlib.pyplot as plt\n",
    "\n",
    "plt.figure()\n",
    "plt.plot(fpr, tpr, label='ROC curve (AUC = %0.2f)' % auc_score)\n",
    "plt.plot([0, 1], [0, 1], 'k--')\n",
    "plt.xlim([0.0, 1.0])\n",
    "plt.ylim([0.0, 1.05])\n",
    "plt.xlabel('False Positive Rate')\n",
    "plt.ylabel('True Positive Rate')\n",
    "plt.title('Receiver Operating Characteristic')\n",
    "plt.legend(loc='lower right')\n",
    "plt.show()"
   ]
  },
  {
   "cell_type": "markdown",
   "id": "f13d9505-3b74-42d0-b6b9-c7a14aa898d2",
   "metadata": {},
   "source": [
    "## 2- SVM Model\n",
    "\n",
    "training a Support Vector Machine Classifier. \n",
    "\n",
    "**Call the SVC() model from sklearn and fit the model to the training data.**"
   ]
  },
  {
   "cell_type": "code",
   "execution_count": 100,
   "id": "9c556b69-1388-4f3f-ab81-87a673654d75",
   "metadata": {},
   "outputs": [],
   "source": [
    "from sklearn.svm import SVC"
   ]
  },
  {
   "cell_type": "code",
   "execution_count": 101,
   "id": "ea10ee43-1b8e-4c35-9e65-550a7f95f576",
   "metadata": {},
   "outputs": [],
   "source": [
    "svc_model = SVC(probability= True, kernel= 'rbf')"
   ]
  },
  {
   "cell_type": "code",
   "execution_count": 102,
   "id": "4cd1bd57-4012-482d-af6b-3a81680b4f5f",
   "metadata": {},
   "outputs": [
    {
     "data": {
      "text/plain": [
       "SVC(probability=True)"
      ]
     },
     "execution_count": 102,
     "metadata": {},
     "output_type": "execute_result"
    }
   ],
   "source": [
    "svc_model.fit(X_train,y_train)"
   ]
  },
  {
   "cell_type": "code",
   "execution_count": 103,
   "id": "6222110c-1bad-48c8-9b3b-ea3e1bc6bd12",
   "metadata": {},
   "outputs": [
    {
     "name": "stdout",
     "output_type": "stream",
     "text": [
      "Fold 1: Accuracy = 0.9381107491856677\n",
      "Fold 2: Accuracy = 0.925\n",
      "Fold 3: Accuracy = 0.925\n",
      "Fold 4: Accuracy = 0.9456521739130435\n",
      "Fold 5: Accuracy = 0.9282608695652174\n",
      "Mean Accuracy: 0.9324047585327857\n"
     ]
    }
   ],
   "source": [
    "# Perform cross-validation\n",
    "cv = StratifiedKFold(n_splits=5, shuffle=True, random_state=42)\n",
    "scores = cross_val_score(svc_model, X_train, y_train, cv=cv, scoring='accuracy')\n",
    "\n",
    "# Print the accuracy scores for each fold\n",
    "for fold, score in enumerate(scores):\n",
    "    print(f\"Fold {fold+1}: Accuracy = {score}\")\n",
    "\n",
    "# Calculate and print the mean accuracy across all folds\n",
    "mean_accuracy = scores.mean()\n",
    "print(f\"Mean Accuracy: {mean_accuracy}\")\n"
   ]
  },
  {
   "cell_type": "code",
   "execution_count": 104,
   "id": "1fdcb3f4-238e-4c2b-912c-ca42bce86ea1",
   "metadata": {},
   "outputs": [],
   "source": [
    "predictions = svc_model.predict(X_test)"
   ]
  },
  {
   "cell_type": "code",
   "execution_count": 105,
   "id": "71505a3c-5fb5-4253-918f-f7c9d75aeb52",
   "metadata": {},
   "outputs": [
    {
     "name": "stdout",
     "output_type": "stream",
     "text": [
      "[[570  50]\n",
      " [ 57 563]]\n"
     ]
    }
   ],
   "source": [
    "print(confusion_matrix(y_test,predictions))"
   ]
  },
  {
   "cell_type": "code",
   "execution_count": 106,
   "id": "8744ca07-60d9-4bb0-befe-3f06580543ef",
   "metadata": {},
   "outputs": [
    {
     "name": "stdout",
     "output_type": "stream",
     "text": [
      "[[0.         0.48562792 1.        ]\n",
      " [1.         0.97276318 1.        ]\n",
      " [1.         0.93374956 1.        ]\n",
      " ...\n",
      " [0.         0.00256587 0.        ]\n",
      " [0.         0.00178291 0.        ]\n",
      " [0.         0.00803633 0.        ]]\n"
     ]
    }
   ],
   "source": [
    "y_pred_proba = svc_model.predict_proba(X_test)[:, 1].reshape(-1, 1)\n",
    "result = np.concatenate((predictions.reshape(len(predictions), 1), y_pred_proba, y_test.reshape(len(y_test), 1)), axis=1)\n",
    "print(result)"
   ]
  },
  {
   "cell_type": "code",
   "execution_count": 107,
   "id": "14795f08-5aea-405c-b229-cb009fe24d27",
   "metadata": {},
   "outputs": [
    {
     "name": "stdout",
     "output_type": "stream",
     "text": [
      "AUC: 0.970824661810614\n"
     ]
    },
    {
     "data": {
      "image/png": "[encoded data removed]",
      "text/plain": [
       "<Figure size 432x288 with 1 Axes>"
      ]
     },
     "metadata": {},
     "output_type": "display_data"
    }
   ],
   "source": [
    "# Calculate the false positive rate, true positive rate, and thresholds\n",
    "fpr, tpr, thresholds = roc_curve(y_test, y_pred_proba)\n",
    "\n",
    "# Calculate the AUC (Area Under the Curve)\n",
    "auc_score = auc(fpr, tpr)\n",
    "\n",
    "# Print the AUC score\n",
    "print(\"AUC:\", auc_score)\n",
    "\n",
    "# Plot the ROC curve\n",
    "import matplotlib.pyplot as plt\n",
    "\n",
    "plt.figure()\n",
    "plt.plot(fpr, tpr, label='ROC curve (AUC = %0.2f)' % auc_score)\n",
    "plt.plot([0, 1], [0, 1], 'k--')\n",
    "plt.xlim([0.0, 1.0])\n",
    "plt.ylim([0.0, 1.05])\n",
    "plt.xlabel('False Positive Rate')\n",
    "plt.ylabel('True Positive Rate')\n",
    "plt.title('Receiver Operating Characteristic')\n",
    "plt.legend(loc='lower right')\n",
    "plt.show()"
   ]
  },
  {
   "cell_type": "markdown",
   "id": "c0d41685-13c3-4a87-a866-0edee9c02171",
   "metadata": {},
   "source": [
    "## Training Deep Learning Models"
   ]
  },
  {
   "cell_type": "markdown",
   "id": "fe28fbec-6bf1-49e9-879b-c64178eba358",
   "metadata": {},
   "source": [
    "### ANN model"
   ]
  },
  {
   "cell_type": "code",
   "execution_count": 149,
   "id": "e3b111b4-2a34-4a36-ad57-eb1279c7e59f",
   "metadata": {},
   "outputs": [],
   "source": [
    "import tensorflow as tf\n",
    "import numpy as np\n",
    "import pandas as pd\n",
    "import matplotlib.pyplot as plt\n",
    "from sklearn.metrics import roc_curve, auc\n",
    "from sklearn.preprocessing import StandardScaler\n",
    "from tensorflow.keras.models import Sequential\n",
    "from tensorflow.keras.layers import Dense, Dropout\n",
    "from sklearn.model_selection import train_test_split"
   ]
  },
  {
   "cell_type": "code",
   "execution_count": 150,
   "id": "ca2fbfa0-a720-4cb0-918f-d1c2fdfab6b2",
   "metadata": {},
   "outputs": [],
   "source": [
    "# X_train, X_test, y_train, y_test\n",
    "# Loading data\n",
    "X_train = enc_train.iloc[:, :-1].values\n",
    "y_train = enc_train.iloc[:, -1].values\n",
    "\n",
    "X_test = enc_test.iloc[:, :-1].values\n",
    "y_test = enc_test.iloc[:, -1].values"
   ]
  },
  {
   "cell_type": "code",
   "execution_count": 151,
   "id": "6570b18a-1532-42fe-be19-600022a64ce2",
   "metadata": {},
   "outputs": [],
   "source": [
    "# Normalize the features\n",
    "scaler = StandardScaler()\n",
    "X_train_scaled = scaler.fit_transform(X_train)\n",
    "X_test_scaled = scaler.transform(X_test)"
   ]
  },
  {
   "cell_type": "code",
   "execution_count": 152,
   "id": "0b093e7d-5da4-482f-89ee-981852710210",
   "metadata": {},
   "outputs": [],
   "source": [
    "# ANN Model Definition with more hidden layers\n",
    "model_ann = Sequential([\n",
    "    Dense(128, activation='relu', input_shape=(X_train_scaled.shape[1],)),\n",
    "    Dropout(0.3),\n",
    "    Dense(64, activation='relu'),\n",
    "    Dropout(0.3),\n",
    "    Dense(32, activation='relu'),\n",
    "    Dropout(0.3),\n",
    "    Dense(16, activation='relu'),\n",
    "    Dense(1, activation='sigmoid') # Binary classification\n",
    "])\n",
    "\n",
    "# Compile the model\n",
    "model_ann.compile(optimizer='adam', loss='binary_crossentropy', metrics=['accuracy'])\n"
   ]
  },
  {
   "cell_type": "code",
   "execution_count": 153,
   "id": "8030d79d-bb05-437a-888a-d3751b2fd8d4",
   "metadata": {},
   "outputs": [],
   "source": [
    "# Compile the model\n",
    "model_ann.compile(optimizer='adam', loss='binary_crossentropy', metrics=['accuracy'])"
   ]
  },
  {
   "cell_type": "code",
   "execution_count": 154,
   "id": "9f986692-0afb-4cf8-a8b7-1e3ceedb13e5",
   "metadata": {},
   "outputs": [],
   "source": [
    "# Reshape data for ANN input\n",
    "X_train_reshaped = X_train_scaled.reshape(X_train_scaled.shape[0], X_train_scaled.shape[1], 1)\n",
    "X_test_reshaped = X_test_scaled.reshape(X_test_scaled.shape[0], X_test_scaled.shape[1], 1)"
   ]
  },
  {
   "cell_type": "code",
   "execution_count": 155,
   "id": "5214338d-2a1a-44b4-a933-693669b56de7",
   "metadata": {},
   "outputs": [],
   "source": [
    "# Convert the target to numpy arrays\n",
    "y_train_np = y_train.to_numpy()\n",
    "y_test_np = y_test.to_numpy()"
   ]
  },
  {
   "cell_type": "code",
   "execution_count": 156,
   "id": "1f606597-90fa-4906-abeb-7ce120532f3e",
   "metadata": {},
   "outputs": [
    {
     "name": "stdout",
     "output_type": "stream",
     "text": [
      "Epoch 1/70\n",
      "115/115 [==============================] - 2s 6ms/step - loss: 0.5125 - accuracy: 0.7288 - val_loss: 0.5265 - val_accuracy: 0.8024\n",
      "Epoch 2/70\n",
      "115/115 [==============================] - 0s 3ms/step - loss: 0.3059 - accuracy: 0.8543 - val_loss: 0.5072 - val_accuracy: 0.7666\n",
      "Epoch 3/70\n",
      "115/115 [==============================] - 0s 4ms/step - loss: 0.2599 - accuracy: 0.8861 - val_loss: 0.5127 - val_accuracy: 0.7872\n",
      "Epoch 4/70\n",
      "115/115 [==============================] - 0s 4ms/step - loss: 0.2224 - accuracy: 0.9000 - val_loss: 0.6042 - val_accuracy: 0.7524\n",
      "Epoch 5/70\n",
      "115/115 [==============================] - 0s 4ms/step - loss: 0.2027 - accuracy: 0.9130 - val_loss: 0.6095 - val_accuracy: 0.7687\n",
      "Epoch 6/70\n",
      "115/115 [==============================] - 0s 4ms/step - loss: 0.1980 - accuracy: 0.9152 - val_loss: 0.6209 - val_accuracy: 0.7557\n",
      "Epoch 7/70\n",
      "115/115 [==============================] - 0s 3ms/step - loss: 0.1793 - accuracy: 0.9247 - val_loss: 0.6267 - val_accuracy: 0.7709\n",
      "Epoch 8/70\n",
      "115/115 [==============================] - 0s 3ms/step - loss: 0.1704 - accuracy: 0.9291 - val_loss: 0.6567 - val_accuracy: 0.7644\n",
      "Epoch 9/70\n",
      "115/115 [==============================] - 0s 3ms/step - loss: 0.1549 - accuracy: 0.9356 - val_loss: 0.6924 - val_accuracy: 0.7546\n",
      "Epoch 10/70\n",
      "115/115 [==============================] - 0s 4ms/step - loss: 0.1514 - accuracy: 0.9364 - val_loss: 0.7489 - val_accuracy: 0.7568\n",
      "Epoch 11/70\n",
      "115/115 [==============================] - 0s 4ms/step - loss: 0.1509 - accuracy: 0.9323 - val_loss: 0.7067 - val_accuracy: 0.7611\n",
      "Epoch 12/70\n",
      "115/115 [==============================] - 0s 3ms/step - loss: 0.1346 - accuracy: 0.9467 - val_loss: 0.8179 - val_accuracy: 0.7459\n",
      "Epoch 13/70\n",
      "115/115 [==============================] - 0s 3ms/step - loss: 0.1307 - accuracy: 0.9470 - val_loss: 0.8393 - val_accuracy: 0.7438\n",
      "Epoch 14/70\n",
      "115/115 [==============================] - 0s 3ms/step - loss: 0.1313 - accuracy: 0.9476 - val_loss: 0.8378 - val_accuracy: 0.7275\n",
      "Epoch 15/70\n",
      "115/115 [==============================] - 0s 3ms/step - loss: 0.1170 - accuracy: 0.9492 - val_loss: 0.9075 - val_accuracy: 0.7296\n",
      "Epoch 16/70\n",
      "115/115 [==============================] - 0s 3ms/step - loss: 0.1264 - accuracy: 0.9476 - val_loss: 0.9115 - val_accuracy: 0.7340\n",
      "Epoch 17/70\n",
      "115/115 [==============================] - 0s 4ms/step - loss: 0.1123 - accuracy: 0.9519 - val_loss: 0.9270 - val_accuracy: 0.7351\n",
      "Epoch 18/70\n",
      "115/115 [==============================] - 0s 3ms/step - loss: 0.1138 - accuracy: 0.9524 - val_loss: 0.9519 - val_accuracy: 0.7351\n",
      "Epoch 19/70\n",
      "115/115 [==============================] - 0s 3ms/step - loss: 0.1089 - accuracy: 0.9535 - val_loss: 1.0021 - val_accuracy: 0.7253\n",
      "Epoch 20/70\n",
      "115/115 [==============================] - 0s 3ms/step - loss: 0.1100 - accuracy: 0.9535 - val_loss: 1.1644 - val_accuracy: 0.7079\n",
      "Epoch 21/70\n",
      "115/115 [==============================] - 0s 3ms/step - loss: 0.1076 - accuracy: 0.9565 - val_loss: 1.1143 - val_accuracy: 0.7307\n",
      "Epoch 22/70\n",
      "115/115 [==============================] - 0s 3ms/step - loss: 0.0936 - accuracy: 0.9598 - val_loss: 1.3063 - val_accuracy: 0.7253\n",
      "Epoch 23/70\n",
      "115/115 [==============================] - 0s 4ms/step - loss: 0.0912 - accuracy: 0.9587 - val_loss: 1.0644 - val_accuracy: 0.7709\n",
      "Epoch 24/70\n",
      "115/115 [==============================] - 0s 3ms/step - loss: 0.0990 - accuracy: 0.9598 - val_loss: 1.1540 - val_accuracy: 0.7492\n",
      "Epoch 25/70\n",
      "115/115 [==============================] - 0s 3ms/step - loss: 0.0904 - accuracy: 0.9644 - val_loss: 1.3830 - val_accuracy: 0.7372\n",
      "Epoch 26/70\n",
      "115/115 [==============================] - 0s 4ms/step - loss: 0.0889 - accuracy: 0.9625 - val_loss: 1.1356 - val_accuracy: 0.7742\n",
      "Epoch 27/70\n",
      "115/115 [==============================] - 0s 4ms/step - loss: 0.0846 - accuracy: 0.9644 - val_loss: 1.3683 - val_accuracy: 0.7514\n",
      "Epoch 28/70\n",
      "115/115 [==============================] - 0s 4ms/step - loss: 0.0779 - accuracy: 0.9668 - val_loss: 1.3350 - val_accuracy: 0.7503\n",
      "Epoch 29/70\n",
      "115/115 [==============================] - 0s 3ms/step - loss: 0.0859 - accuracy: 0.9644 - val_loss: 1.2157 - val_accuracy: 0.7470\n",
      "Epoch 30/70\n",
      "115/115 [==============================] - 0s 3ms/step - loss: 0.0810 - accuracy: 0.9666 - val_loss: 1.0981 - val_accuracy: 0.7948\n",
      "Epoch 31/70\n",
      "115/115 [==============================] - 1s 5ms/step - loss: 0.0675 - accuracy: 0.9709 - val_loss: 1.5215 - val_accuracy: 0.7481\n",
      "Epoch 32/70\n",
      "115/115 [==============================] - 0s 3ms/step - loss: 0.0760 - accuracy: 0.9663 - val_loss: 1.2129 - val_accuracy: 0.7861\n",
      "Epoch 33/70\n",
      "115/115 [==============================] - 0s 3ms/step - loss: 0.0709 - accuracy: 0.9728 - val_loss: 1.6214 - val_accuracy: 0.7286\n",
      "Epoch 34/70\n",
      "115/115 [==============================] - 0s 3ms/step - loss: 0.0725 - accuracy: 0.9707 - val_loss: 1.4095 - val_accuracy: 0.7459\n",
      "Epoch 35/70\n",
      "115/115 [==============================] - 0s 3ms/step - loss: 0.0750 - accuracy: 0.9696 - val_loss: 1.6582 - val_accuracy: 0.7275\n",
      "Epoch 36/70\n",
      "115/115 [==============================] - 0s 3ms/step - loss: 0.0731 - accuracy: 0.9709 - val_loss: 1.5337 - val_accuracy: 0.7503\n",
      "Epoch 37/70\n",
      "115/115 [==============================] - 0s 3ms/step - loss: 0.0715 - accuracy: 0.9728 - val_loss: 1.5030 - val_accuracy: 0.7296\n",
      "Epoch 38/70\n",
      "115/115 [==============================] - 0s 3ms/step - loss: 0.0686 - accuracy: 0.9717 - val_loss: 1.4607 - val_accuracy: 0.7514\n",
      "Epoch 39/70\n",
      "115/115 [==============================] - 0s 3ms/step - loss: 0.0655 - accuracy: 0.9755 - val_loss: 1.5065 - val_accuracy: 0.7470\n",
      "Epoch 40/70\n",
      "115/115 [==============================] - 0s 3ms/step - loss: 0.0666 - accuracy: 0.9712 - val_loss: 1.5797 - val_accuracy: 0.7557\n",
      "Epoch 41/70\n",
      "115/115 [==============================] - 0s 3ms/step - loss: 0.0571 - accuracy: 0.9761 - val_loss: 1.6624 - val_accuracy: 0.7535\n",
      "Epoch 42/70\n",
      "115/115 [==============================] - 0s 3ms/step - loss: 0.0555 - accuracy: 0.9791 - val_loss: 1.6197 - val_accuracy: 0.7687\n",
      "Epoch 43/70\n",
      "115/115 [==============================] - 0s 3ms/step - loss: 0.0592 - accuracy: 0.9755 - val_loss: 1.5616 - val_accuracy: 0.7579\n",
      "Epoch 44/70\n",
      "115/115 [==============================] - 0s 3ms/step - loss: 0.0601 - accuracy: 0.9777 - val_loss: 1.3694 - val_accuracy: 0.7883\n",
      "Epoch 45/70\n",
      "115/115 [==============================] - 0s 3ms/step - loss: 0.0642 - accuracy: 0.9755 - val_loss: 1.3752 - val_accuracy: 0.7731\n",
      "Epoch 46/70\n",
      "115/115 [==============================] - 0s 3ms/step - loss: 0.0533 - accuracy: 0.9791 - val_loss: 1.4417 - val_accuracy: 0.7818\n",
      "Epoch 47/70\n",
      "115/115 [==============================] - 0s 3ms/step - loss: 0.0558 - accuracy: 0.9774 - val_loss: 1.5863 - val_accuracy: 0.7611\n",
      "Epoch 48/70\n",
      "115/115 [==============================] - 0s 3ms/step - loss: 0.0497 - accuracy: 0.9799 - val_loss: 1.5713 - val_accuracy: 0.8002\n",
      "Epoch 49/70\n",
      "115/115 [==============================] - 0s 3ms/step - loss: 0.0530 - accuracy: 0.9777 - val_loss: 1.6841 - val_accuracy: 0.7752\n",
      "Epoch 50/70\n",
      "115/115 [==============================] - 0s 3ms/step - loss: 0.0516 - accuracy: 0.9818 - val_loss: 1.7776 - val_accuracy: 0.7611\n",
      "Epoch 51/70\n",
      "115/115 [==============================] - 0s 3ms/step - loss: 0.0510 - accuracy: 0.9812 - val_loss: 1.8911 - val_accuracy: 0.7524\n",
      "Epoch 52/70\n",
      "115/115 [==============================] - 0s 3ms/step - loss: 0.0512 - accuracy: 0.9783 - val_loss: 1.6744 - val_accuracy: 0.7720\n",
      "Epoch 53/70\n",
      "115/115 [==============================] - 0s 3ms/step - loss: 0.0551 - accuracy: 0.9793 - val_loss: 1.8922 - val_accuracy: 0.7416\n",
      "Epoch 54/70\n",
      "115/115 [==============================] - 0s 3ms/step - loss: 0.0543 - accuracy: 0.9777 - val_loss: 1.7774 - val_accuracy: 0.7481\n",
      "Epoch 55/70\n",
      "115/115 [==============================] - 0s 3ms/step - loss: 0.0447 - accuracy: 0.9812 - val_loss: 2.1999 - val_accuracy: 0.7231\n",
      "Epoch 56/70\n",
      "115/115 [==============================] - 0s 3ms/step - loss: 0.0513 - accuracy: 0.9812 - val_loss: 2.2352 - val_accuracy: 0.7296\n",
      "Epoch 57/70\n",
      "115/115 [==============================] - 0s 3ms/step - loss: 0.0473 - accuracy: 0.9821 - val_loss: 2.1921 - val_accuracy: 0.7351\n",
      "Epoch 58/70\n",
      "115/115 [==============================] - 0s 3ms/step - loss: 0.0439 - accuracy: 0.9834 - val_loss: 2.2473 - val_accuracy: 0.7481\n",
      "Epoch 59/70\n",
      "115/115 [==============================] - 0s 3ms/step - loss: 0.0432 - accuracy: 0.9842 - val_loss: 2.3052 - val_accuracy: 0.7448\n",
      "Epoch 60/70\n",
      "115/115 [==============================] - 0s 3ms/step - loss: 0.0514 - accuracy: 0.9812 - val_loss: 2.3125 - val_accuracy: 0.7286\n",
      "Epoch 61/70\n",
      "115/115 [==============================] - 1s 5ms/step - loss: 0.0561 - accuracy: 0.9791 - val_loss: 2.0325 - val_accuracy: 0.7568\n",
      "Epoch 62/70\n",
      "115/115 [==============================] - 0s 4ms/step - loss: 0.0495 - accuracy: 0.9832 - val_loss: 1.7522 - val_accuracy: 0.7676\n",
      "Epoch 63/70\n",
      "115/115 [==============================] - 0s 4ms/step - loss: 0.0366 - accuracy: 0.9878 - val_loss: 1.9447 - val_accuracy: 0.7655\n",
      "Epoch 64/70\n",
      "115/115 [==============================] - 0s 4ms/step - loss: 0.0382 - accuracy: 0.9853 - val_loss: 2.2926 - val_accuracy: 0.7438\n",
      "Epoch 65/70\n",
      "115/115 [==============================] - 0s 4ms/step - loss: 0.0401 - accuracy: 0.9842 - val_loss: 2.2314 - val_accuracy: 0.7492\n",
      "Epoch 66/70\n",
      "115/115 [==============================] - 0s 3ms/step - loss: 0.0484 - accuracy: 0.9823 - val_loss: 1.9857 - val_accuracy: 0.7492\n",
      "Epoch 67/70\n",
      "115/115 [==============================] - 0s 4ms/step - loss: 0.0385 - accuracy: 0.9870 - val_loss: 1.9988 - val_accuracy: 0.7666\n",
      "Epoch 68/70\n",
      "115/115 [==============================] - 0s 4ms/step - loss: 0.0401 - accuracy: 0.9823 - val_loss: 2.3221 - val_accuracy: 0.7470\n",
      "Epoch 69/70\n",
      "115/115 [==============================] - 0s 4ms/step - loss: 0.0433 - accuracy: 0.9812 - val_loss: 2.2404 - val_accuracy: 0.7481\n",
      "Epoch 70/70\n",
      "115/115 [==============================] - 0s 3ms/step - loss: 0.0433 - accuracy: 0.9826 - val_loss: 2.2512 - val_accuracy: 0.7481\n"
     ]
    },
    {
     "data": {
      "text/plain": [
       "<keras.callbacks.History at 0x7f4de9e5b790>"
      ]
     },
     "execution_count": 156,
     "metadata": {},
     "output_type": "execute_result"
    }
   ],
   "source": [
    "# Train the model\n",
    "model_ann.fit(X_train_reshaped, y_train_np, epochs=70, batch_size=32, validation_split=0.2)\n"
   ]
  },
  {
   "cell_type": "code",
   "execution_count": 157,
   "id": "c5dc4465-04e4-4bca-8395-5ed7aaaa22be",
   "metadata": {},
   "outputs": [
    {
     "name": "stdout",
     "output_type": "stream",
     "text": [
      "39/39 [==============================] - 0s 2ms/step - loss: 0.7300 - accuracy: 0.8702\n",
      "Test Accuracy: 0.8701612949371338\n"
     ]
    }
   ],
   "source": [
    "# Evaluate the model\n",
    "loss, accuracy = model_ann.evaluate(X_test_reshaped, y_test_np)\n",
    "print(f'Test Accuracy: {accuracy}')"
   ]
  },
  {
   "cell_type": "code",
   "execution_count": 158,
   "id": "e0b1dacb-9b9b-4463-a1dc-51b3d8c04a69",
   "metadata": {},
   "outputs": [
    {
     "name": "stdout",
     "output_type": "stream",
     "text": [
      "39/39 [==============================] - 0s 2ms/step\n"
     ]
    }
   ],
   "source": [
    "# Predict probabilities for ROC curve\n",
    "y_pred_proba_ann = model_ann.predict(X_test_reshaped).ravel()\n"
   ]
  },
  {
   "cell_type": "code",
   "execution_count": 159,
   "id": "ba9fd9e2-a0b0-4e59-983b-4922aa3b7e7f",
   "metadata": {},
   "outputs": [],
   "source": [
    "# Calculate ROC curve\n",
    "fpr_ann, tpr_ann, thresholds_ann = roc_curve(y_test_np, y_pred_proba_ann)\n",
    "roc_auc_ann = auc(fpr_ann, tpr_ann)\n"
   ]
  },
  {
   "cell_type": "code",
   "execution_count": 160,
   "id": "34466ac5-83a1-4ad3-aeb4-c215afec105b",
   "metadata": {},
   "outputs": [
    {
     "data": {
      "image/png": "[encoded data removed]",
      "text/plain": [
       "<Figure size 432x288 with 1 Axes>"
      ]
     },
     "metadata": {},
     "output_type": "display_data"
    }
   ],
   "source": [
    "# Plot ROC curve\n",
    "plt.figure()\n",
    "plt.plot(fpr_ann, tpr_ann, color='darkred', lw=2, label='ROC curve (area = %0.2f)' % roc_auc_ann)\n",
    "plt.plot([0, 1], [0, 1], color='green', lw=2, linestyle='--')\n",
    "plt.xlim([0.0, 1.0])\n",
    "plt.ylim([0.0, 1.05])\n",
    "plt.xlabel('False Positive Rate')\n",
    "plt.ylabel('True Positive Rate')\n",
    "plt.title('ANN - Receiver Operating Characteristic')\n",
    "plt.legend(loc=\"lower right\")\n",
    "plt.show()"
   ]
  },
  {
   "cell_type": "markdown",
   "id": "627d3b90-ed9a-445a-aa99-448dd99be291",
   "metadata": {},
   "source": [
    "### CNN model"
   ]
  },
  {
   "cell_type": "code",
   "execution_count": 162,
   "id": "751befd1-e58b-4480-aea8-27235d5860a2",
   "metadata": {},
   "outputs": [],
   "source": [
    "import tensorflow as tf\n",
    "from tensorflow.keras.models import Sequential\n",
    "from tensorflow.keras.layers import Dense, Conv1D, Flatten, Dropout, MaxPooling2D\n",
    "from sklearn.model_selection import train_test_split\n",
    "from sklearn.preprocessing import StandardScaler\n",
    "from tensorflow.keras.models import Sequential\n",
    "from tensorflow.keras.utils import to_categorical"
   ]
  },
  {
   "cell_type": "code",
   "execution_count": 163,
   "id": "a18cd6bc-5c82-44c3-ba3b-d5dbe83fab18",
   "metadata": {},
   "outputs": [],
   "source": [
    "# Loading data\n",
    "X_train = enc_train.iloc[:, :-1].values\n",
    "y_train = enc_train.iloc[:, -1].values\n",
    "\n",
    "X_test = enc_test.iloc[:, :-1].values\n",
    "y_test = enc_test.iloc[:, -1].values"
   ]
  },
  {
   "cell_type": "code",
   "execution_count": 164,
   "id": "b31595f6-eeda-4039-97be-4d823d10a21b",
   "metadata": {},
   "outputs": [],
   "source": [
    "# Normalize the features\n",
    "scaler = StandardScaler()\n",
    "X_train_scaled = scaler.fit_transform(X_train)\n",
    "X_test_scaled = scaler.transform(X_test)"
   ]
  },
  {
   "cell_type": "code",
   "execution_count": 165,
   "id": "13c50680-b786-4473-966b-4d3803e1cbf1",
   "metadata": {},
   "outputs": [],
   "source": [
    "# Reshape data for CNN input\n",
    "X_train_reshaped = X_train_scaled.reshape(X_train_scaled.shape[0], X_train_scaled.shape[1], 1)\n",
    "X_test_reshaped = X_test_scaled.reshape(X_test_scaled.shape[0], X_test_scaled.shape[1], 1)"
   ]
  },
  {
   "cell_type": "code",
   "execution_count": 166,
   "id": "2cb445bc-a5e1-4ff9-8a31-d8c8fa99b7b8",
   "metadata": {},
   "outputs": [],
   "source": [
    "# Convert the target to numpy arrays\n",
    "y_train_np = y_train.to_numpy()\n",
    "y_test_np = y_test.to_numpy()"
   ]
  },
  {
   "cell_type": "code",
   "execution_count": 167,
   "id": "15b5766d-fc60-4b32-a1d8-59fd9b297d00",
   "metadata": {},
   "outputs": [],
   "source": [
    "# Define the CNN model\n",
    "model_cnn = Sequential([\n",
    "    Conv1D(64, kernel_size=3, activation='relu', input_shape=(X_train_reshaped.shape[1], 1)),\n",
    "    Dropout(0.5),\n",
    "    Flatten(),\n",
    "    Dense(128, activation='relu', input_shape=(X_train_scaled.shape[1],)),\n",
    "    Dropout(0.3),\n",
    "    Dense(64, activation='relu'),\n",
    "    Dropout(0.3),\n",
    "    Dense(32, activation='relu'),\n",
    "    Dropout(0.3),\n",
    "    Dense(16, activation='relu'),\n",
    "    Dense(1, activation='sigmoid') # Binary classification\n",
    "])"
   ]
  },
  {
   "cell_type": "code",
   "execution_count": 168,
   "id": "8bca04da-0e29-4472-a32a-4ef986dd6e41",
   "metadata": {},
   "outputs": [],
   "source": [
    "# Compile the model\n",
    "model_cnn.compile(optimizer='adam', loss='binary_crossentropy', metrics=['accuracy'])"
   ]
  },
  {
   "cell_type": "code",
   "execution_count": 171,
   "id": "307f30cd-1d21-4158-9c40-abfbb11fcdbf",
   "metadata": {},
   "outputs": [
    {
     "name": "stdout",
     "output_type": "stream",
     "text": [
      "Epoch 1/70\n",
      "115/115 [==============================] - 2s 14ms/step - loss: 0.0776 - accuracy: 0.9723 - val_loss: 3.0286 - val_accuracy: 0.6743\n",
      "Epoch 2/70\n",
      "115/115 [==============================] - 2s 13ms/step - loss: 0.0803 - accuracy: 0.9671 - val_loss: 3.1395 - val_accuracy: 0.6927\n",
      "Epoch 3/70\n",
      "115/115 [==============================] - 2s 15ms/step - loss: 0.0655 - accuracy: 0.9739 - val_loss: 3.7152 - val_accuracy: 0.6982\n",
      "Epoch 4/70\n",
      "115/115 [==============================] - 2s 14ms/step - loss: 0.0701 - accuracy: 0.9693 - val_loss: 3.6828 - val_accuracy: 0.6971\n",
      "Epoch 5/70\n",
      "115/115 [==============================] - 2s 15ms/step - loss: 0.0779 - accuracy: 0.9682 - val_loss: 4.5561 - val_accuracy: 0.6374\n",
      "Epoch 6/70\n",
      "115/115 [==============================] - 2s 19ms/step - loss: 0.0765 - accuracy: 0.9682 - val_loss: 5.7520 - val_accuracy: 0.6145\n",
      "Epoch 7/70\n",
      "115/115 [==============================] - 2s 15ms/step - loss: 0.0674 - accuracy: 0.9734 - val_loss: 4.2632 - val_accuracy: 0.6830\n",
      "Epoch 8/70\n",
      "115/115 [==============================] - 2s 17ms/step - loss: 0.0717 - accuracy: 0.9731 - val_loss: 4.6572 - val_accuracy: 0.6265\n",
      "Epoch 9/70\n",
      "115/115 [==============================] - 2s 17ms/step - loss: 0.0796 - accuracy: 0.9663 - val_loss: 3.1935 - val_accuracy: 0.7144\n",
      "Epoch 10/70\n",
      "115/115 [==============================] - 2s 16ms/step - loss: 0.0642 - accuracy: 0.9720 - val_loss: 3.7287 - val_accuracy: 0.7155\n",
      "Epoch 11/70\n",
      "115/115 [==============================] - 2s 15ms/step - loss: 0.0773 - accuracy: 0.9698 - val_loss: 2.5903 - val_accuracy: 0.7155\n",
      "Epoch 12/70\n",
      "115/115 [==============================] - 2s 16ms/step - loss: 0.0632 - accuracy: 0.9745 - val_loss: 3.1358 - val_accuracy: 0.7199\n",
      "Epoch 13/70\n",
      "115/115 [==============================] - 2s 16ms/step - loss: 0.0633 - accuracy: 0.9739 - val_loss: 3.5385 - val_accuracy: 0.7068\n",
      "Epoch 14/70\n",
      "115/115 [==============================] - 2s 16ms/step - loss: 0.0607 - accuracy: 0.9766 - val_loss: 2.8258 - val_accuracy: 0.7546\n",
      "Epoch 15/70\n",
      "115/115 [==============================] - 2s 16ms/step - loss: 0.0648 - accuracy: 0.9745 - val_loss: 3.6278 - val_accuracy: 0.7101\n",
      "Epoch 16/70\n",
      "115/115 [==============================] - 2s 17ms/step - loss: 0.0680 - accuracy: 0.9731 - val_loss: 2.8883 - val_accuracy: 0.7666\n",
      "Epoch 17/70\n",
      "115/115 [==============================] - 2s 17ms/step - loss: 0.0578 - accuracy: 0.9772 - val_loss: 3.5533 - val_accuracy: 0.7362\n",
      "Epoch 18/70\n",
      "115/115 [==============================] - 2s 17ms/step - loss: 0.0587 - accuracy: 0.9766 - val_loss: 3.4655 - val_accuracy: 0.7014\n",
      "Epoch 19/70\n",
      "115/115 [==============================] - 2s 16ms/step - loss: 0.0628 - accuracy: 0.9745 - val_loss: 2.8366 - val_accuracy: 0.7264\n",
      "Epoch 20/70\n",
      "115/115 [==============================] - 2s 17ms/step - loss: 0.0571 - accuracy: 0.9774 - val_loss: 3.0636 - val_accuracy: 0.6992\n",
      "Epoch 21/70\n",
      "115/115 [==============================] - 2s 17ms/step - loss: 0.0606 - accuracy: 0.9747 - val_loss: 3.3984 - val_accuracy: 0.6884\n",
      "Epoch 22/70\n",
      "115/115 [==============================] - 2s 16ms/step - loss: 0.0587 - accuracy: 0.9780 - val_loss: 2.5613 - val_accuracy: 0.7177\n",
      "Epoch 23/70\n",
      "115/115 [==============================] - 2s 17ms/step - loss: 0.0598 - accuracy: 0.9761 - val_loss: 2.1893 - val_accuracy: 0.7351\n",
      "Epoch 24/70\n",
      "115/115 [==============================] - 2s 17ms/step - loss: 0.0608 - accuracy: 0.9745 - val_loss: 2.6632 - val_accuracy: 0.7318\n",
      "Epoch 25/70\n",
      "115/115 [==============================] - 2s 17ms/step - loss: 0.0613 - accuracy: 0.9793 - val_loss: 3.9369 - val_accuracy: 0.6526\n",
      "Epoch 26/70\n",
      "115/115 [==============================] - 2s 19ms/step - loss: 0.0550 - accuracy: 0.9772 - val_loss: 2.5737 - val_accuracy: 0.7459\n",
      "Epoch 27/70\n",
      "115/115 [==============================] - 2s 19ms/step - loss: 0.0573 - accuracy: 0.9769 - val_loss: 2.5637 - val_accuracy: 0.7112\n",
      "Epoch 28/70\n",
      "115/115 [==============================] - 2s 18ms/step - loss: 0.0549 - accuracy: 0.9777 - val_loss: 2.5856 - val_accuracy: 0.7220\n",
      "Epoch 29/70\n",
      "115/115 [==============================] - 2s 18ms/step - loss: 0.0537 - accuracy: 0.9750 - val_loss: 2.8383 - val_accuracy: 0.7307\n",
      "Epoch 30/70\n",
      "115/115 [==============================] - 2s 17ms/step - loss: 0.0473 - accuracy: 0.9829 - val_loss: 3.5268 - val_accuracy: 0.7101\n",
      "Epoch 31/70\n",
      "115/115 [==============================] - 2s 18ms/step - loss: 0.0555 - accuracy: 0.9788 - val_loss: 3.1987 - val_accuracy: 0.7101\n",
      "Epoch 32/70\n",
      "115/115 [==============================] - 2s 16ms/step - loss: 0.0505 - accuracy: 0.9807 - val_loss: 3.8119 - val_accuracy: 0.7242\n",
      "Epoch 33/70\n",
      "115/115 [==============================] - 2s 15ms/step - loss: 0.0451 - accuracy: 0.9802 - val_loss: 2.9813 - val_accuracy: 0.7492\n",
      "Epoch 34/70\n",
      "115/115 [==============================] - 2s 16ms/step - loss: 0.0504 - accuracy: 0.9793 - val_loss: 3.4245 - val_accuracy: 0.7470\n",
      "Epoch 35/70\n",
      "115/115 [==============================] - 2s 18ms/step - loss: 0.0453 - accuracy: 0.9823 - val_loss: 4.0905 - val_accuracy: 0.7307\n",
      "Epoch 36/70\n",
      "115/115 [==============================] - 2s 18ms/step - loss: 0.0469 - accuracy: 0.9821 - val_loss: 4.3171 - val_accuracy: 0.7101\n",
      "Epoch 37/70\n",
      "115/115 [==============================] - 2s 17ms/step - loss: 0.0484 - accuracy: 0.9796 - val_loss: 4.1768 - val_accuracy: 0.7090\n",
      "Epoch 38/70\n",
      "115/115 [==============================] - 2s 17ms/step - loss: 0.0492 - accuracy: 0.9774 - val_loss: 4.0300 - val_accuracy: 0.7134\n",
      "Epoch 39/70\n",
      "115/115 [==============================] - 2s 17ms/step - loss: 0.0510 - accuracy: 0.9785 - val_loss: 3.7393 - val_accuracy: 0.7047\n",
      "Epoch 40/70\n",
      "115/115 [==============================] - 2s 17ms/step - loss: 0.0395 - accuracy: 0.9842 - val_loss: 4.1174 - val_accuracy: 0.7524\n",
      "Epoch 41/70\n",
      "115/115 [==============================] - 2s 17ms/step - loss: 0.0470 - accuracy: 0.9804 - val_loss: 4.0498 - val_accuracy: 0.7275\n",
      "Epoch 42/70\n",
      "115/115 [==============================] - 2s 17ms/step - loss: 0.0492 - accuracy: 0.9821 - val_loss: 3.7786 - val_accuracy: 0.7220\n",
      "Epoch 43/70\n",
      "115/115 [==============================] - 2s 18ms/step - loss: 0.0443 - accuracy: 0.9840 - val_loss: 5.4968 - val_accuracy: 0.6558\n",
      "Epoch 44/70\n",
      "115/115 [==============================] - 2s 17ms/step - loss: 0.0418 - accuracy: 0.9840 - val_loss: 4.6745 - val_accuracy: 0.6873\n",
      "Epoch 45/70\n",
      "115/115 [==============================] - 2s 17ms/step - loss: 0.0398 - accuracy: 0.9842 - val_loss: 4.0717 - val_accuracy: 0.7134\n",
      "Epoch 46/70\n",
      "115/115 [==============================] - 2s 17ms/step - loss: 0.0510 - accuracy: 0.9774 - val_loss: 3.9283 - val_accuracy: 0.7231\n",
      "Epoch 47/70\n",
      "115/115 [==============================] - 2s 17ms/step - loss: 0.0404 - accuracy: 0.9832 - val_loss: 4.7187 - val_accuracy: 0.7058\n",
      "Epoch 48/70\n",
      "115/115 [==============================] - 2s 17ms/step - loss: 0.0410 - accuracy: 0.9826 - val_loss: 4.2298 - val_accuracy: 0.7340\n",
      "Epoch 49/70\n",
      "115/115 [==============================] - 2s 17ms/step - loss: 0.0383 - accuracy: 0.9851 - val_loss: 3.8071 - val_accuracy: 0.7188\n",
      "Epoch 50/70\n",
      "115/115 [==============================] - 2s 17ms/step - loss: 0.0425 - accuracy: 0.9851 - val_loss: 3.5701 - val_accuracy: 0.7296\n",
      "Epoch 51/70\n",
      "115/115 [==============================] - 2s 18ms/step - loss: 0.0382 - accuracy: 0.9864 - val_loss: 3.8720 - val_accuracy: 0.6960\n",
      "Epoch 52/70\n",
      "115/115 [==============================] - 2s 18ms/step - loss: 0.0367 - accuracy: 0.9872 - val_loss: 3.5222 - val_accuracy: 0.7220\n",
      "Epoch 53/70\n",
      "115/115 [==============================] - 2s 18ms/step - loss: 0.0421 - accuracy: 0.9837 - val_loss: 4.2625 - val_accuracy: 0.7101\n",
      "Epoch 54/70\n",
      "115/115 [==============================] - 2s 16ms/step - loss: 0.0373 - accuracy: 0.9840 - val_loss: 5.2540 - val_accuracy: 0.6971\n",
      "Epoch 55/70\n",
      "115/115 [==============================] - 2s 18ms/step - loss: 0.0443 - accuracy: 0.9842 - val_loss: 5.3532 - val_accuracy: 0.6764\n",
      "Epoch 56/70\n",
      "115/115 [==============================] - 2s 19ms/step - loss: 0.0400 - accuracy: 0.9840 - val_loss: 5.7573 - val_accuracy: 0.6710\n",
      "Epoch 57/70\n",
      "115/115 [==============================] - 2s 16ms/step - loss: 0.0406 - accuracy: 0.9856 - val_loss: 3.5577 - val_accuracy: 0.7047\n",
      "Epoch 58/70\n",
      "115/115 [==============================] - 2s 17ms/step - loss: 0.0305 - accuracy: 0.9897 - val_loss: 4.9814 - val_accuracy: 0.6927\n",
      "Epoch 59/70\n",
      "115/115 [==============================] - 2s 18ms/step - loss: 0.0399 - accuracy: 0.9861 - val_loss: 4.9610 - val_accuracy: 0.7231\n",
      "Epoch 60/70\n",
      "115/115 [==============================] - 2s 18ms/step - loss: 0.0398 - accuracy: 0.9812 - val_loss: 4.7505 - val_accuracy: 0.7166\n",
      "Epoch 61/70\n",
      "115/115 [==============================] - 2s 17ms/step - loss: 0.0369 - accuracy: 0.9848 - val_loss: 4.0134 - val_accuracy: 0.7253\n",
      "Epoch 62/70\n",
      "115/115 [==============================] - 2s 18ms/step - loss: 0.0388 - accuracy: 0.9853 - val_loss: 4.7075 - val_accuracy: 0.6960\n",
      "Epoch 63/70\n",
      "115/115 [==============================] - 2s 17ms/step - loss: 0.0435 - accuracy: 0.9823 - val_loss: 3.3294 - val_accuracy: 0.7188\n",
      "Epoch 64/70\n",
      "115/115 [==============================] - 2s 16ms/step - loss: 0.0378 - accuracy: 0.9872 - val_loss: 4.8131 - val_accuracy: 0.6493\n",
      "Epoch 65/70\n",
      "115/115 [==============================] - 2s 16ms/step - loss: 0.0372 - accuracy: 0.9851 - val_loss: 4.5534 - val_accuracy: 0.6721\n",
      "Epoch 66/70\n",
      "115/115 [==============================] - 2s 18ms/step - loss: 0.0326 - accuracy: 0.9875 - val_loss: 4.6103 - val_accuracy: 0.6884\n",
      "Epoch 67/70\n",
      "115/115 [==============================] - 2s 18ms/step - loss: 0.0383 - accuracy: 0.9867 - val_loss: 4.2400 - val_accuracy: 0.6960\n",
      "Epoch 68/70\n",
      "115/115 [==============================] - 2s 18ms/step - loss: 0.0366 - accuracy: 0.9859 - val_loss: 4.8754 - val_accuracy: 0.6992\n",
      "Epoch 69/70\n",
      "115/115 [==============================] - 2s 18ms/step - loss: 0.0373 - accuracy: 0.9842 - val_loss: 4.7889 - val_accuracy: 0.6754\n",
      "Epoch 70/70\n",
      "115/115 [==============================] - 2s 17ms/step - loss: 0.0348 - accuracy: 0.9870 - val_loss: 3.9088 - val_accuracy: 0.7242\n"
     ]
    },
    {
     "data": {
      "text/plain": [
       "<keras.callbacks.History at 0x7f4dc155c490>"
      ]
     },
     "execution_count": 171,
     "metadata": {},
     "output_type": "execute_result"
    }
   ],
   "source": [
    "# Train the model\n",
    "model_cnn.fit(X_train_reshaped, y_train_np, epochs=70, batch_size=32, validation_split=0.2)"
   ]
  },
  {
   "cell_type": "code",
   "execution_count": 172,
   "id": "fed37b5c-24e9-4b72-857e-3253fb52aaaf",
   "metadata": {},
   "outputs": [
    {
     "name": "stdout",
     "output_type": "stream",
     "text": [
      "39/39 [==============================] - 0s 4ms/step - loss: 1.1036 - accuracy: 0.8782\n",
      "Test Accuracy: 0.8782258033752441\n"
     ]
    }
   ],
   "source": [
    "# Evaluate the model\n",
    "loss, accuracy = model_cnn.evaluate(X_test_reshaped, y_test_np)\n",
    "print(f'Test Accuracy: {accuracy}')"
   ]
  },
  {
   "cell_type": "code",
   "execution_count": 173,
   "id": "fd58b34f-d8b5-47d9-95d0-0a4b6c04f100",
   "metadata": {},
   "outputs": [
    {
     "name": "stdout",
     "output_type": "stream",
     "text": [
      "39/39 [==============================] - 0s 3ms/step\n"
     ]
    }
   ],
   "source": [
    "# Get the predicted probabilities for the positive class\n",
    "predicted_probabilities = model_cnn.predict(X_test_reshaped)"
   ]
  },
  {
   "cell_type": "code",
   "execution_count": 174,
   "id": "50239117-9deb-4df3-b2f8-5b8ee3df2846",
   "metadata": {},
   "outputs": [],
   "source": [
    "# Convert probabilities to predicted classes (0 or 1) based on a 0.5 threshold\n",
    "predicted_classes = (predicted_probabilities >= 0.5).astype(int)"
   ]
  },
  {
   "cell_type": "code",
   "execution_count": 175,
   "id": "6473b9f8-3fa6-4b33-a4f2-47fabb5a9871",
   "metadata": {},
   "outputs": [],
   "source": [
    "# Flatten arrays for concatenation\n",
    "predicted_probabilities_flat = predicted_probabilities.flatten()\n",
    "predicted_classes_flat = predicted_classes.flatten()\n"
   ]
  },
  {
   "cell_type": "code",
   "execution_count": 176,
   "id": "a1f13fd3-393b-4c56-ad61-8733abe6b79c",
   "metadata": {},
   "outputs": [],
   "source": [
    "# Concatenate the predicted classes, predicted probabilities, and actual test labels\n",
    "result = np.column_stack((predicted_classes_flat, predicted_probabilities_flat, y_test_np))\n"
   ]
  },
  {
   "cell_type": "code",
   "execution_count": 177,
   "id": "8931de22-386a-4f44-b7fe-47421f48164e",
   "metadata": {},
   "outputs": [],
   "source": [
    "# Optionally, convert to a DataFrame for easier viewing\n",
    "result_df = pd.DataFrame(result, columns=['Predicted_Class', 'Predicted_Probability', 'Actual_Class'])"
   ]
  },
  {
   "cell_type": "code",
   "execution_count": 178,
   "id": "a5277898-f3ab-4603-a49e-9da87023bd46",
   "metadata": {},
   "outputs": [
    {
     "name": "stdout",
     "output_type": "stream",
     "text": [
      "   Predicted_Class  Predicted_Probability  Actual_Class\n",
      "0              0.0               0.001675           1.0\n",
      "1              1.0               0.999771           1.0\n",
      "2              1.0               0.997022           1.0\n",
      "3              1.0               0.999993           1.0\n",
      "4              1.0               0.979559           1.0\n"
     ]
    }
   ],
   "source": [
    "# Display the first few rows of the result\n",
    "print(result_df.head())"
   ]
  },
  {
   "cell_type": "code",
   "execution_count": 179,
   "id": "efad6158-8995-42b5-ba25-b48096e092cd",
   "metadata": {},
   "outputs": [
    {
     "name": "stdout",
     "output_type": "stream",
     "text": [
      "39/39 [==============================] - 0s 4ms/step\n"
     ]
    }
   ],
   "source": [
    "# Predict probabilities for ROC curve\n",
    "y_pred_proba = model_cnn.predict(X_test_reshaped).ravel()"
   ]
  },
  {
   "cell_type": "code",
   "execution_count": 180,
   "id": "2646712b-c84f-4a67-8f68-2ce6b9849511",
   "metadata": {},
   "outputs": [
    {
     "data": {
      "image/png": "[encoded data removed]",
      "text/plain": [
       "<Figure size 432x288 with 1 Axes>"
      ]
     },
     "metadata": {},
     "output_type": "display_data"
    }
   ],
   "source": [
    "# Calculate ROC curve\n",
    "fpr, tpr, thresholds = roc_curve(y_test_np, y_pred_proba)\n",
    "roc_auc = auc(fpr, tpr)\n",
    "\n",
    "# Plot ROC curve\n",
    "plt.figure()\n",
    "plt.plot(fpr, tpr, color='darkred', lw=2, label='ROC curve (area = %0.2f)' % roc_auc)\n",
    "plt.plot([0, 1], [0, 1], color='green', lw=2, linestyle='--')\n",
    "plt.xlim([0.0, 1.0])\n",
    "plt.ylim([0.0, 1.05])\n",
    "plt.xlabel('False Positive Rate')\n",
    "plt.ylabel('True Positive Rate')\n",
    "plt.title('CNN - Receiver Operating Characteristic')\n",
    "plt.legend(loc=\"lower right\")\n",
    "plt.show()"
   ]
  },
  {
   "cell_type": "markdown",
   "id": "1614f439-4862-43c9-b6d4-27d655814952",
   "metadata": {},
   "source": [
    "### Implementing Grey Wolf Optimizer"
   ]
  },
  {
   "cell_type": "markdown",
   "id": "661102f4-6406-4508-b3b2-dcdec5bd1f64",
   "metadata": {},
   "source": [
    "### * INCOMPLETE SECTOIN *"
   ]
  },
  {
   "cell_type": "code",
   "execution_count": 122,
   "id": "84cf237d-75c2-47e0-8950-5772d6842e35",
   "metadata": {},
   "outputs": [],
   "source": [
    "def create_model(hyperparameters):\n",
    "    model = Sequential([\n",
    "        Conv1D(hyperparameters['conv_filters'], kernel_size=3, activation='relu', input_shape=(input_shape, 1)),\n",
    "        Flatten(),\n",
    "        Dense(hyperparameters['dense_neurons'], activation='relu'),\n",
    "        Dense(1, activation='sigmoid')\n",
    "    ])\n",
    "    model.compile(optimizer='adam', loss='binary_crossentropy', metrics=['accuracy'])\n",
    "    return model\n"
   ]
  },
  {
   "cell_type": "code",
   "execution_count": 123,
   "id": "bb35757f-ab79-47fc-8483-b8a4cfb457a1",
   "metadata": {},
   "outputs": [],
   "source": [
    "def objective_function(hyperparameters):\n",
    "    model = create_model(hyperparameters)\n",
    "    model.fit(X_train, y_train, epochs=10, batch_size=32, verbose=0)\n",
    "    loss, accuracy = model.evaluate(X_test, y_test, verbose=0)\n",
    "    return -accuracy  # Since GWO minimizes the function, and we want to maximize accuracy"
   ]
  },
  {
   "cell_type": "code",
   "execution_count": 124,
   "id": "a5395941-7a89-437d-be7c-ce43b2fb109f",
   "metadata": {},
   "outputs": [
    {
     "ename": "IndentationError",
     "evalue": "expected an indented block (1065354549.py, line 19)",
     "output_type": "error",
     "traceback": [
      "\u001b[0;36m  Input \u001b[0;32mIn [124]\u001b[0;36m\u001b[0m\n\u001b[0;31m    return self.alpha\u001b[0m\n\u001b[0m    ^\u001b[0m\n\u001b[0;31mIndentationError\u001b[0m\u001b[0;31m:\u001b[0m expected an indented block\n"
     ]
    }
   ],
   "source": [
    "class GreyWolfOptimizer:\n",
    "    def __init__(self, objective_func, lb, ub, dim, num_wolves, num_iterations):\n",
    "        self.objective_func = objective_function\n",
    "        self.lb = lb  # Lower bound of hyperparameters\n",
    "        self.ub = ub  # Upper bound of hyperparameters\n",
    "        self.dim = dim  # Number of dimensions (hyperparameters)\n",
    "        self.num_wolves = num_wolves\n",
    "        self.num_iterations = num_iterations\n",
    "        self.alpha, self.beta, self.delta = None, None, None  # Top three wolves\n",
    "        self.wolves = np.random.uniform(lb, ub, (num_wolves, dim))  # Initialize wolf positions\n",
    "\n",
    "    def optimize(self):\n",
    "        for _ in range(self.num_iterations):\n",
    "            # Evaluate wolves and update alpha, beta, delta\n",
    "            # Update positions of wolves\n",
    "            # ...\n",
    "\n",
    "        # Return the best hyperparameters (position of the alpha wolf)\n",
    "        return self.alpha\n",
    "\n",
    "# Example usage\n",
    "def objective_function(hyperparameters):\n",
    "    # Build, train, and evaluate your model\n",
    "    pass\n",
    "\n",
    "gwo = GreyWolfOptimizer(\n",
    "    objective_func=objective_function, \n",
    "    lb=[0.001, 10],  # Example lower bounds\n",
    "    ub=[0.01, 100],  # Example upper bounds\n",
    "    dim=2,  # Number of hyperparameters\n",
    "    num_wolves=10,\n",
    "    num_iterations=20\n",
    ")\n",
    "best_hyperparams = gwo.optimize()\n"
   ]
  },
  {
   "cell_type": "code",
   "execution_count": null,
   "id": "99a0b11d-404c-4355-a598-d863d09bea0f",
   "metadata": {},
   "outputs": [],
   "source": [
    "def objective_function(hyperparams):\n",
    "    # Create and compile the model with given hyperparameters\n",
    "    model = Sequential([\n",
    "        Conv1D(hyperparams['conv_filters'], kernel_size=3, activation='relu', input_shape=(X_train_reshaped.shape[1], 1)),\n",
    "        Dropout(0.5),\n",
    "        Flatten(),\n",
    "        Dense(hyperparams['dense_neurons'], activation='relu'),\n",
    "        Dense(1, activation='sigmoid')\n",
    "    ])\n",
    "    model.compile(optimizer='adam', loss='binary_crossentropy', metrics=['accuracy'])\n",
    "\n",
    "    # Fit the model (consider using a smaller number of epochs for speed)\n",
    "    model.fit(X_train_reshaped, y_train_np, epochs=5, batch_size=32, verbose=0)\n",
    "    \n",
    "    # Evaluate the model\n",
    "    loss, accuracy = model.evaluate(X_test_reshaped, y_test_np, verbose=0)\n",
    "    return accuracy  # or return -loss if you want to minimize loss\n"
   ]
  },
  {
   "cell_type": "code",
   "execution_count": null,
   "id": "054d6e9b-ea8e-4453-ba41-d389620fefd3",
   "metadata": {},
   "outputs": [],
   "source": [
    "def grey_wolf_optimizer(objective_func, hyperparam_space, num_wolves, num_iterations):\n",
    "    # Initialize wolves (solutions)\n",
    "    # For each iteration:\n",
    "    #   Evaluate wolves using the objective function\n",
    "    #   Update the position of wolves based on GWO/ICA algorithm\n",
    "    #   ...\n",
    "    # Return the best solution (hyperparameters)\n",
    "    pass\n"
   ]
  },
  {
   "cell_type": "code",
   "execution_count": null,
   "id": "7ce5ce2f-68c7-4590-aff7-1ab7a9db17b5",
   "metadata": {},
   "outputs": [],
   "source": [
    "best_hyperparams = grey_wolf_optimizer(\n",
    "    objective_function=objective_function, \n",
    "    hyperparam_space={'conv_filters': [16, 32, 64], 'dense_neurons': [10, 50, 100]},\n",
    "    num_wolves=5,\n",
    "    num_iterations=10\n",
    ")\n"
   ]
  },
  {
   "cell_type": "code",
   "execution_count": null,
   "id": "6326c8b1-f81d-45e3-88fc-195fff3c9882",
   "metadata": {},
   "outputs": [],
   "source": [
    "final_model = Sequential([\n",
    "    Conv1D(best_hyperparams['conv_filters'], kernel_size=3, activation='relu', input_shape=(X_train_reshaped.shape[1], 1)),\n",
    "    Dropout(0.5),\n",
    "    Flatten(),\n",
    "    Dense(best_hyperparams['dense_neurons'], activation='relu'),\n",
    "    Dense(1, activation='sigmoid')\n",
    "])\n",
    "final_model.compile(optimizer='adam', loss='binary_crossentropy', metrics=['accuracy'])\n",
    "final_model.fit(X_train_reshaped, y_train_np, epochs=10, batch_size=32, validation_split=0.2)\n"
   ]
  },
  {
   "cell_type": "markdown",
   "id": "0ea288ae-7480-46d2-b2a5-c6e17fd548b5",
   "metadata": {},
   "source": [
    "### CNN-Random search\n",
    "#### Random Search technique for hyperparameter optimization for CNN model\n",
    "here is the complete code to utilize the random search technique for hyperparameter optimization in CNN and train the model with the best-found hyperparameters"
   ]
  },
  {
   "cell_type": "code",
   "execution_count": 181,
   "id": "84f7a7d6-6278-40dc-9088-902c16fd9856",
   "metadata": {},
   "outputs": [],
   "source": [
    "import numpy as np\n",
    "import pandas as pd\n",
    "import tensorflow as tf\n",
    "from tensorflow.keras.models import Sequential\n",
    "from tensorflow.keras.layers import Dense, Conv1D, Flatten, Dropout\n",
    "from sklearn.model_selection import train_test_split\n",
    "from sklearn.preprocessing import StandardScaler\n",
    "import keras_tuner as kt\n",
    "from keras_tuner import RandomSearch\n"
   ]
  },
  {
   "cell_type": "code",
   "execution_count": 182,
   "id": "b44c7e16-aa01-40e6-b3fe-b3cdd3df1bfb",
   "metadata": {},
   "outputs": [],
   "source": [
    "# Load data\n",
    "X_train = enc_train.iloc[:, :-1].values\n",
    "y_train = enc_train.iloc[:, -1].values\n",
    "X_test = enc_test.iloc[:, :-1].values\n",
    "y_test = enc_test.iloc[:, -1].values"
   ]
  },
  {
   "cell_type": "code",
   "execution_count": 183,
   "id": "82e2e61d-3638-4ef6-97f7-94a202c57e77",
   "metadata": {},
   "outputs": [],
   "source": [
    "# Normalize the features\n",
    "scaler = StandardScaler()\n",
    "X_train_scaled = scaler.fit_transform(X_train)\n",
    "X_test_scaled = scaler.transform(X_test)"
   ]
  },
  {
   "cell_type": "code",
   "execution_count": 184,
   "id": "3711fa4d-8fb4-4551-b6d0-f81eef9f4c9e",
   "metadata": {},
   "outputs": [],
   "source": [
    "# Reshape data for CNN input\n",
    "X_train_reshaped = X_train_scaled.reshape(X_train_scaled.shape[0], X_train_scaled.shape[1], 1)\n",
    "X_test_reshaped = X_test_scaled.reshape(X_test_scaled.shape[0], X_test_scaled.shape[1], 1)"
   ]
  },
  {
   "cell_type": "code",
   "execution_count": 185,
   "id": "c5d798ae-d4e8-4500-9ca4-4dfb0b92084f",
   "metadata": {},
   "outputs": [],
   "source": [
    "# Define the model builder function\n",
    "def build_model(hp):\n",
    "    model = Sequential()\n",
    "    model.add(Conv1D(filters=hp.Int('conv_filters', min_value=32, max_value=128, step=32),\n",
    "                     kernel_size=hp.Choice('kernel_size', values=[3, 5]),\n",
    "                     activation='relu',\n",
    "                     input_shape=(X_train_reshaped.shape[1], 1)))\n",
    "    model.add(Flatten())\n",
    "    model.add(Dense(units=hp.Int('dense_units', min_value=50, max_value=150, step=50),\n",
    "                    activation='relu'))\n",
    "    model.add(Dense(1, activation='sigmoid'))\n",
    "    \n",
    "    \n",
    "    \n",
    "    model.compile(optimizer='adam', loss='binary_crossentropy', metrics=['accuracy'])\n",
    "    return model"
   ]
  },
  {
   "cell_type": "code",
   "execution_count": 186,
   "id": "61951cae-e2e1-4c2b-9801-622cd60a6c97",
   "metadata": {},
   "outputs": [
    {
     "name": "stdout",
     "output_type": "stream",
     "text": [
      "Reloading Tuner from my_dir/cnn_hyperparam_optimization/tuner0.json\n"
     ]
    }
   ],
   "source": [
    "# Set up the Random Search tuner\n",
    "tuner = RandomSearch(\n",
    "    build_model,\n",
    "    objective='val_accuracy',\n",
    "    max_trials=10,\n",
    "    executions_per_trial=1,\n",
    "    directory='my_dir',\n",
    "    project_name='cnn_hyperparam_optimization'\n",
    ")"
   ]
  },
  {
   "cell_type": "code",
   "execution_count": 187,
   "id": "297f822e-6b11-4c2a-8ece-c8e8476a14f9",
   "metadata": {},
   "outputs": [],
   "source": [
    "# Perform hyperparameter tuning\n",
    "tuner.search(X_train_reshaped, y_train, epochs=30, validation_split=0.2)"
   ]
  },
  {
   "cell_type": "code",
   "execution_count": 188,
   "id": "c2a73f28-07bb-4b4b-a270-e2f3d0fbc240",
   "metadata": {},
   "outputs": [],
   "source": [
    "# Get the best hyperparameters\n",
    "best_hps = tuner.get_best_hyperparameters(num_trials=1)[0]"
   ]
  },
  {
   "cell_type": "code",
   "execution_count": 189,
   "id": "ea6eddda-2506-4d67-8eb8-5757292bdbec",
   "metadata": {
    "tags": []
   },
   "outputs": [],
   "source": [
    "# Build the model with the best hyperparameters\n",
    "model = tuner.hypermodel.build(best_hps)"
   ]
  },
  {
   "cell_type": "code",
   "execution_count": 190,
   "id": "9598da31-4fc4-4fb2-bebe-958b60fbbbcd",
   "metadata": {},
   "outputs": [
    {
     "name": "stdout",
     "output_type": "stream",
     "text": [
      "Epoch 1/20\n",
      "115/115 [==============================] - 3s 20ms/step - loss: 0.2849 - accuracy: 0.8663 - val_loss: 0.9163 - val_accuracy: 0.6417\n",
      "Epoch 2/20\n",
      "115/115 [==============================] - 2s 19ms/step - loss: 0.1983 - accuracy: 0.9147 - val_loss: 1.4449 - val_accuracy: 0.5212\n",
      "Epoch 3/20\n",
      "115/115 [==============================] - 2s 19ms/step - loss: 0.1732 - accuracy: 0.9277 - val_loss: 1.1357 - val_accuracy: 0.6037\n",
      "Epoch 4/20\n",
      "115/115 [==============================] - 2s 21ms/step - loss: 0.1444 - accuracy: 0.9410 - val_loss: 0.8213 - val_accuracy: 0.7144\n",
      "Epoch 5/20\n",
      "115/115 [==============================] - 3s 23ms/step - loss: 0.1337 - accuracy: 0.9424 - val_loss: 1.1160 - val_accuracy: 0.6862\n",
      "Epoch 6/20\n",
      "115/115 [==============================] - 2s 21ms/step - loss: 0.1160 - accuracy: 0.9503 - val_loss: 1.1731 - val_accuracy: 0.6591\n",
      "Epoch 7/20\n",
      "115/115 [==============================] - 2s 20ms/step - loss: 0.1104 - accuracy: 0.9563 - val_loss: 1.0747 - val_accuracy: 0.7101\n",
      "Epoch 8/20\n",
      "115/115 [==============================] - 2s 20ms/step - loss: 0.0974 - accuracy: 0.9625 - val_loss: 1.2917 - val_accuracy: 0.7144\n",
      "Epoch 9/20\n",
      "115/115 [==============================] - 2s 20ms/step - loss: 0.0884 - accuracy: 0.9601 - val_loss: 1.4343 - val_accuracy: 0.6710\n",
      "Epoch 10/20\n",
      "115/115 [==============================] - 2s 20ms/step - loss: 0.0794 - accuracy: 0.9668 - val_loss: 1.4120 - val_accuracy: 0.6754\n",
      "Epoch 11/20\n",
      "115/115 [==============================] - 2s 20ms/step - loss: 0.0682 - accuracy: 0.9742 - val_loss: 1.9130 - val_accuracy: 0.6145\n",
      "Epoch 12/20\n",
      "115/115 [==============================] - 2s 20ms/step - loss: 0.0632 - accuracy: 0.9777 - val_loss: 1.9981 - val_accuracy: 0.6612\n",
      "Epoch 13/20\n",
      "115/115 [==============================] - 2s 20ms/step - loss: 0.0628 - accuracy: 0.9750 - val_loss: 2.1887 - val_accuracy: 0.6200\n",
      "Epoch 14/20\n",
      "115/115 [==============================] - 3s 22ms/step - loss: 0.0532 - accuracy: 0.9799 - val_loss: 1.6842 - val_accuracy: 0.7144\n",
      "Epoch 15/20\n",
      "115/115 [==============================] - 2s 21ms/step - loss: 0.0516 - accuracy: 0.9810 - val_loss: 1.9307 - val_accuracy: 0.6656\n",
      "Epoch 16/20\n",
      "115/115 [==============================] - 2s 21ms/step - loss: 0.0482 - accuracy: 0.9823 - val_loss: 1.9352 - val_accuracy: 0.7068\n",
      "Epoch 17/20\n",
      "115/115 [==============================] - 2s 19ms/step - loss: 0.0416 - accuracy: 0.9856 - val_loss: 2.4303 - val_accuracy: 0.6612\n",
      "Epoch 18/20\n",
      "115/115 [==============================] - 2s 21ms/step - loss: 0.0358 - accuracy: 0.9872 - val_loss: 2.1269 - val_accuracy: 0.6982\n",
      "Epoch 19/20\n",
      "115/115 [==============================] - 3s 22ms/step - loss: 0.0347 - accuracy: 0.9886 - val_loss: 2.2082 - val_accuracy: 0.7188\n",
      "Epoch 20/20\n",
      "115/115 [==============================] - 2s 19ms/step - loss: 0.0284 - accuracy: 0.9910 - val_loss: 2.6423 - val_accuracy: 0.6819\n"
     ]
    },
    {
     "data": {
      "text/plain": [
       "<keras.callbacks.History at 0x7f4dc2ed8910>"
      ]
     },
     "execution_count": 190,
     "metadata": {},
     "output_type": "execute_result"
    }
   ],
   "source": [
    "# Convert y_train from Pandas Categorical to NumPy array\n",
    "y_train_np = y_train.to_numpy()\n",
    "\n",
    "# Train the final model with the NumPy array\n",
    "model.fit(X_train_reshaped, y_train_np, epochs=20, batch_size=32, validation_split=0.2)"
   ]
  },
  {
   "cell_type": "code",
   "execution_count": 191,
   "id": "ba749382-0ce0-4a08-b962-b27793b31588",
   "metadata": {},
   "outputs": [
    {
     "name": "stdout",
     "output_type": "stream",
     "text": [
      "39/39 [==============================] - 0s 4ms/step - loss: 0.8187 - accuracy: 0.8653\n",
      "Test Accuracy: 0.8653225898742676\n"
     ]
    }
   ],
   "source": [
    "# Convert y_test from Pandas Categorical to NumPy array if it's not already\n",
    "y_test_np = y_test.to_numpy()\n",
    "\n",
    "# Evaluate the model\n",
    "loss, accuracy = model.evaluate(X_test_reshaped, y_test_np)\n",
    "print(f'Test Accuracy: {accuracy}')"
   ]
  },
  {
   "cell_type": "code",
   "execution_count": 192,
   "id": "b2e218af-1038-41a7-aa78-867b680fc86d",
   "metadata": {},
   "outputs": [
    {
     "name": "stdout",
     "output_type": "stream",
     "text": [
      "39/39 [==============================] - 0s 3ms/step\n"
     ]
    }
   ],
   "source": [
    "import matplotlib.pyplot as plt\n",
    "from sklearn.metrics import roc_curve, auc\n",
    "\n",
    "# Predict probabilities\n",
    "y_pred_proba = model.predict(X_test_reshaped).ravel()"
   ]
  },
  {
   "cell_type": "code",
   "execution_count": 193,
   "id": "79e4f48b-2a8e-4553-b981-fc88bcf27350",
   "metadata": {},
   "outputs": [
    {
     "data": {
      "image/png": "[encoded data removed]",
      "text/plain": [
       "<Figure size 432x288 with 1 Axes>"
      ]
     },
     "metadata": {},
     "output_type": "display_data"
    }
   ],
   "source": [
    "# Calculate ROC curve\n",
    "fpr, tpr, thresholds = roc_curve(y_test_np, y_pred_proba)\n",
    "roc_auc = auc(fpr, tpr)\n",
    "\n",
    "# Plot ROC curve\n",
    "plt.figure()\n",
    "plt.plot(fpr, tpr, color='darkblue', lw=2, label='ROC curve (area = %0.2f)' % roc_auc)\n",
    "plt.plot([0, 1], [0, 1], color='navy', lw=2, linestyle='--')\n",
    "plt.xlim([0.0, 1.0])\n",
    "plt.ylim([0.0, 1.05])\n",
    "plt.xlabel('False Positive Rate')\n",
    "plt.ylabel('True Positive Rate')\n",
    "plt.title('Receiver Operating Characteristic CNN-Random Search')\n",
    "plt.legend(loc=\"lower right\")\n",
    "plt.show()"
   ]
  },
  {
   "cell_type": "markdown",
   "id": "97af1528-fa37-4c9b-b6b1-642d38310995",
   "metadata": {},
   "source": [
    "### CNN-Genetic\n",
    "#### Genetic Algorithm for Hyperparameter tuning\n",
    "Genetic Algorithm Implementation for Hyperparameter Tuning:\n",
    "\n",
    "- Initialization: Created an initial population of individuals, where each individual represents a set of hyperparameters for the CNN model.\n",
    "- Fitness Function: Defined compute_fitness, which evaluates the performance of the CNN model (using accuracy as the metric) based on the individual's hyperparameters.\n",
    "- Selection: Implemented a process to retain the best-performing individuals (top 2 in this case) in each generation.\n",
    "- Crossover and Mutation: Applied genetic operations to generate new individuals (offspring) by combining and mutating the hyperparameters of selected individuals.\n",
    "- Iterations: Repeated this process for a specified number of generations (5 in the example).\n",
    "- Best Hyperparameters: Identified the best set of hyperparameters after all generations.\n",
    "- Final Model Training and Evaluation:\n",
    "\n",
    "Used the best-found hyperparameters to build and train the final CNN model.\n",
    "Evaluated the model's performance on the test dataset."
   ]
  },
  {
   "cell_type": "code",
   "execution_count": 182,
   "id": "244a73ed-2c01-43ad-b7b3-cd22ae1161c0",
   "metadata": {},
   "outputs": [],
   "source": [
    "import numpy as np\n",
    "import pandas as pd\n",
    "import tensorflow as tf\n",
    "from tensorflow.keras.models import Sequential\n",
    "from tensorflow.keras.layers import Dense, Conv1D, Flatten, Dropout\n",
    "from sklearn.preprocessing import StandardScaler\n",
    "import random"
   ]
  },
  {
   "cell_type": "code",
   "execution_count": 183,
   "id": "8018d722-ac22-47ac-909c-48ae7805f5c9",
   "metadata": {},
   "outputs": [],
   "source": [
    "# Assuming you have loaded your data into enc_train and enc_test\n",
    "X_train = enc_train.iloc[:, :-1].values\n",
    "y_train = enc_train.iloc[:, -1].values\n",
    "X_test = enc_test.iloc[:, :-1].values\n",
    "y_test = enc_test.iloc[:, -1].values"
   ]
  },
  {
   "cell_type": "code",
   "execution_count": 184,
   "id": "a418c14c-51d1-4b62-b68a-3ef7df13b9f3",
   "metadata": {},
   "outputs": [],
   "source": [
    "# Convert to NumPy arrays and ensure dtype is float32\n",
    "X_train = np.array(X_train, dtype='float32')\n",
    "X_test = np.array(X_test, dtype='float32')\n",
    "y_train = np.array(y_train, dtype='float32')\n",
    "y_test = np.array(y_test, dtype='float32')"
   ]
  },
  {
   "cell_type": "code",
   "execution_count": 185,
   "id": "ed830522-5e21-4547-8bba-7dc15bf5faa9",
   "metadata": {},
   "outputs": [],
   "source": [
    "# Normalize the features\n",
    "scaler = StandardScaler()\n",
    "X_train_scaled = scaler.fit_transform(X_train)\n",
    "X_test_scaled = scaler.transform(X_test)"
   ]
  },
  {
   "cell_type": "code",
   "execution_count": 186,
   "id": "9aa689e5-d2ae-4f92-ab94-379174f78d57",
   "metadata": {},
   "outputs": [],
   "source": [
    "# Reshape data for CNN input\n",
    "X_train_reshaped = X_train_scaled.reshape(X_train_scaled.shape[0], X_train_scaled.shape[1], 1)\n",
    "X_test_reshaped = X_test_scaled.reshape(X_test_scaled.shape[0], X_test_scaled.shape[1], 1)"
   ]
  },
  {
   "cell_type": "code",
   "execution_count": 187,
   "id": "07fedd02-ac95-44e0-8da6-7aaf80b7d92d",
   "metadata": {},
   "outputs": [],
   "source": [
    "# Define the CNN model\n",
    "def build_model(hyperparameters):\n",
    "    model = Sequential([\n",
    "        Conv1D(hyperparameters['conv_filters'], kernel_size=3, activation='relu', input_shape=(X_train_reshaped.shape[1], 1)),\n",
    "        Flatten(),\n",
    "        Dense(hyperparameters['dense_units'], activation='relu'),\n",
    "        Dense(1, activation='sigmoid')\n",
    "    ])\n",
    "    model.compile(optimizer='adam', loss='binary_crossentropy', metrics=['accuracy'])\n",
    "    return model"
   ]
  },
  {
   "cell_type": "code",
   "execution_count": 188,
   "id": "b9bd77f6-299e-4fe5-a69c-fc20f48bd045",
   "metadata": {},
   "outputs": [],
   "source": [
    "# Genetic Algorithm Functions\n",
    "def create_individual():\n",
    "    return {'conv_filters': random.choice([32, 64, 128]), 'dense_units': random.choice([50, 100, 150])}\n",
    "\n",
    "def compute_fitness(individual):\n",
    "    model = build_model(individual)\n",
    "    model.fit(X_train_reshaped, y_train, epochs=5, verbose=0)  # Reduced epochs for faster computation\n",
    "    loss, accuracy = model.evaluate(X_test_reshaped, y_test, verbose=0)\n",
    "    return accuracy\n",
    "\n",
    "def crossover(ind1, ind2):\n",
    "    child = ind1.copy()\n",
    "    for key in ind1:\n",
    "        child[key] = ind1[key] if random.random() > 0.5 else ind2[key]\n",
    "    return child\n",
    "\n",
    "def mutate(individual):\n",
    "    mutation_key = random.choice(list(individual.keys()))\n",
    "    individual[mutation_key] = create_individual()[mutation_key]\n",
    "    return individual"
   ]
  },
  {
   "cell_type": "code",
   "execution_count": 189,
   "id": "c95de10d-d1d6-43c1-be6f-b8b103429e72",
   "metadata": {},
   "outputs": [],
   "source": [
    "# Running the Genetic Algorithm\n",
    "population_size = 10\n",
    "num_generations = 5\n",
    "population = [create_individual() for _ in range(population_size)]"
   ]
  },
  {
   "cell_type": "code",
   "execution_count": 190,
   "id": "7928fb56-cb30-46fc-8f7a-2a23f515e4ba",
   "metadata": {},
   "outputs": [
    {
     "name": "stdout",
     "output_type": "stream",
     "text": [
      "Generation 0\n",
      "Generation 1\n",
      "Generation 2\n",
      "Generation 3\n",
      "Generation 4\n",
      "Best Hyperparameters: {'conv_filters': 128, 'dense_units': 150}\n"
     ]
    }
   ],
   "source": [
    "for generation in range(num_generations):\n",
    "    print(f\"Generation {generation}\")\n",
    "    fitness_scores = [compute_fitness(individual) for individual in population]\n",
    "    sorted_population = [x for _, x in sorted(zip(fitness_scores, population), key=lambda pair: pair[0], reverse=True)]\n",
    "    population = sorted_population[:2]  # Keep the top 2\n",
    "    while len(population) < population_size:\n",
    "        if random.random() > 0.1:  # 90% crossover\n",
    "            ind1, ind2 = random.sample(population[:4], 2)  # Select from top 4\n",
    "            child = crossover(ind1, ind2)\n",
    "        else:  # 10% mutation\n",
    "            child = mutate(random.choice(population))\n",
    "        population.append(child)\n",
    "\n",
    "best_individual = population[0]\n",
    "print(\"Best Hyperparameters:\", best_individual)\n"
   ]
  },
  {
   "cell_type": "code",
   "execution_count": 191,
   "id": "4ab3fb1b-4e3f-494c-be55-cefe5e3284c3",
   "metadata": {},
   "outputs": [
    {
     "name": "stdout",
     "output_type": "stream",
     "text": [
      "Epoch 1/30\n",
      "115/115 [==============================] - 5s 31ms/step - loss: 0.2889 - accuracy: 0.8598 - val_loss: 0.4819 - val_accuracy: 0.8165\n",
      "Epoch 2/30\n",
      "115/115 [==============================] - 3s 29ms/step - loss: 0.1924 - accuracy: 0.9166 - val_loss: 0.9932 - val_accuracy: 0.6526\n",
      "Epoch 3/30\n",
      "115/115 [==============================] - 3s 27ms/step - loss: 0.1708 - accuracy: 0.9261 - val_loss: 1.0196 - val_accuracy: 0.6754\n",
      "Epoch 4/30\n",
      "115/115 [==============================] - 4s 31ms/step - loss: 0.1472 - accuracy: 0.9391 - val_loss: 1.1695 - val_accuracy: 0.6743\n",
      "Epoch 5/30\n",
      "115/115 [==============================] - 4s 32ms/step - loss: 0.1358 - accuracy: 0.9454 - val_loss: 1.1359 - val_accuracy: 0.6764\n",
      "Epoch 6/30\n",
      "115/115 [==============================] - 4s 31ms/step - loss: 0.1174 - accuracy: 0.9519 - val_loss: 0.9177 - val_accuracy: 0.7546\n",
      "Epoch 7/30\n",
      "115/115 [==============================] - 4s 30ms/step - loss: 0.1079 - accuracy: 0.9563 - val_loss: 1.9813 - val_accuracy: 0.5472\n",
      "Epoch 8/30\n",
      "115/115 [==============================] - 3s 29ms/step - loss: 0.0989 - accuracy: 0.9584 - val_loss: 1.3410 - val_accuracy: 0.7101\n",
      "Epoch 9/30\n",
      "115/115 [==============================] - 4s 33ms/step - loss: 0.0865 - accuracy: 0.9658 - val_loss: 1.6422 - val_accuracy: 0.6982\n",
      "Epoch 10/30\n",
      "115/115 [==============================] - 4s 33ms/step - loss: 0.0817 - accuracy: 0.9682 - val_loss: 1.6394 - val_accuracy: 0.6786\n",
      "Epoch 11/30\n",
      "115/115 [==============================] - 3s 29ms/step - loss: 0.0705 - accuracy: 0.9704 - val_loss: 1.7688 - val_accuracy: 0.6808\n",
      "Epoch 12/30\n",
      "115/115 [==============================] - 3s 30ms/step - loss: 0.0656 - accuracy: 0.9734 - val_loss: 2.0881 - val_accuracy: 0.6482\n",
      "Epoch 13/30\n",
      "115/115 [==============================] - 3s 29ms/step - loss: 0.0610 - accuracy: 0.9772 - val_loss: 1.9001 - val_accuracy: 0.6808\n",
      "Epoch 14/30\n",
      "115/115 [==============================] - 3s 30ms/step - loss: 0.0527 - accuracy: 0.9788 - val_loss: 1.8492 - val_accuracy: 0.7090\n",
      "Epoch 15/30\n",
      "115/115 [==============================] - 3s 30ms/step - loss: 0.0472 - accuracy: 0.9810 - val_loss: 2.1473 - val_accuracy: 0.7079\n",
      "Epoch 16/30\n",
      "115/115 [==============================] - 4s 32ms/step - loss: 0.0464 - accuracy: 0.9818 - val_loss: 2.1594 - val_accuracy: 0.6830\n",
      "Epoch 17/30\n",
      "115/115 [==============================] - 4s 31ms/step - loss: 0.0343 - accuracy: 0.9883 - val_loss: 2.5017 - val_accuracy: 0.6612\n",
      "Epoch 18/30\n",
      "115/115 [==============================] - 4s 33ms/step - loss: 0.0335 - accuracy: 0.9880 - val_loss: 3.3091 - val_accuracy: 0.6265\n",
      "Epoch 19/30\n",
      "115/115 [==============================] - 4s 33ms/step - loss: 0.0373 - accuracy: 0.9864 - val_loss: 2.3347 - val_accuracy: 0.7079\n",
      "Epoch 20/30\n",
      "115/115 [==============================] - 4s 32ms/step - loss: 0.0348 - accuracy: 0.9883 - val_loss: 3.0302 - val_accuracy: 0.6634\n",
      "Epoch 21/30\n",
      "115/115 [==============================] - 3s 29ms/step - loss: 0.0198 - accuracy: 0.9948 - val_loss: 3.0179 - val_accuracy: 0.6927\n",
      "Epoch 22/30\n",
      "115/115 [==============================] - 3s 29ms/step - loss: 0.0256 - accuracy: 0.9918 - val_loss: 3.0286 - val_accuracy: 0.6873\n",
      "Epoch 23/30\n",
      "115/115 [==============================] - 4s 31ms/step - loss: 0.0251 - accuracy: 0.9918 - val_loss: 3.7559 - val_accuracy: 0.6330\n",
      "Epoch 24/30\n",
      "115/115 [==============================] - 3s 30ms/step - loss: 0.0220 - accuracy: 0.9935 - val_loss: 3.4708 - val_accuracy: 0.6623\n",
      "Epoch 25/30\n",
      "115/115 [==============================] - 3s 29ms/step - loss: 0.0192 - accuracy: 0.9935 - val_loss: 4.2277 - val_accuracy: 0.6254\n",
      "Epoch 26/30\n",
      "115/115 [==============================] - 4s 31ms/step - loss: 0.0199 - accuracy: 0.9948 - val_loss: 3.9606 - val_accuracy: 0.6493\n",
      "Epoch 27/30\n",
      "115/115 [==============================] - 4s 31ms/step - loss: 0.0202 - accuracy: 0.9940 - val_loss: 3.2803 - val_accuracy: 0.7003\n",
      "Epoch 28/30\n",
      "115/115 [==============================] - 3s 29ms/step - loss: 0.0215 - accuracy: 0.9951 - val_loss: 3.3316 - val_accuracy: 0.6992\n",
      "Epoch 29/30\n",
      "115/115 [==============================] - 3s 28ms/step - loss: 0.0190 - accuracy: 0.9951 - val_loss: 3.6676 - val_accuracy: 0.6775\n",
      "Epoch 30/30\n",
      "115/115 [==============================] - 3s 29ms/step - loss: 0.0262 - accuracy: 0.9918 - val_loss: 3.8704 - val_accuracy: 0.6374\n",
      "39/39 [==============================] - 0s 4ms/step - loss: 1.1371 - accuracy: 0.8516\n",
      "Final Model Accuracy: 0.85161292552948\n",
      "39/39 [==============================] - 0s 6ms/step\n"
     ]
    },
    {
     "data": {
      "image/png": "[encoded data removed]",
      "text/plain": [
       "<Figure size 432x288 with 1 Axes>"
      ]
     },
     "metadata": {},
     "output_type": "display_data"
    }
   ],
   "source": [
    "import numpy as np\n",
    "import pandas as pd\n",
    "import tensorflow as tf\n",
    "from tensorflow.keras.models import Sequential\n",
    "from tensorflow.keras.layers import Dense, Conv1D, Flatten, Dropout\n",
    "from sklearn.preprocessing import StandardScaler\n",
    "from sklearn.metrics import roc_curve, auc\n",
    "import matplotlib.pyplot as plt\n",
    "import random\n",
    "\n",
    "# Train the final model with the best hyperparameters\n",
    "final_model = build_model(best_individual)\n",
    "final_model.fit(X_train_reshaped, y_train, epochs=30, validation_split=0.2)\n",
    "\n",
    "# Evaluate the final model\n",
    "final_loss, final_accuracy = final_model.evaluate(X_test_reshaped, y_test)\n",
    "print(\"Final Model Accuracy:\", final_accuracy)\n",
    "\n",
    "# Predict probabilities for ROC curve\n",
    "y_pred_proba = final_model.predict(X_test_reshaped).ravel()\n",
    "\n",
    "# Calculate ROC curve\n",
    "fpr, tpr, thresholds = roc_curve(y_test, y_pred_proba)\n",
    "roc_auc = auc(fpr, tpr)\n",
    "\n",
    "# Plot ROC curve\n",
    "plt.figure()\n",
    "plt.plot(fpr, tpr, color='darkorange', lw=2, label='ROC curve (area = %0.2f)' % roc_auc)\n",
    "plt.plot([0, 1], [0, 1], color='navy', lw=2, linestyle='--')\n",
    "plt.xlim([0.0, 1.0])\n",
    "plt.ylim([0.0, 1.05])\n",
    "plt.xlabel('False Positive Rate')\n",
    "plt.ylabel('True Positive Rate')\n",
    "plt.title('Receiver Operating Characteristic CNN-Genetic')\n",
    "plt.legend(loc=\"lower right\")\n",
    "plt.show()\n"
   ]
  },
  {
   "cell_type": "markdown",
   "id": "6ffe9fc1-0cf6-4406-9a5b-2cd3e3b67df9",
   "metadata": {},
   "source": [
    "### CNN-Bayesian Optimization"
   ]
  },
  {
   "cell_type": "code",
   "execution_count": 226,
   "id": "72038e1d-4bf2-4758-bb28-2bed14baa9ed",
   "metadata": {},
   "outputs": [
    {
     "name": "stdout",
     "output_type": "stream",
     "text": [
      "Reloading Tuner from keras_tuner_dir/cnn_optimization/tuner0.json\n",
      "Best hyperparameters: {'conv_filters': 96, 'kernel_size': 5, 'dense_units': 50, 'dropout': 0.35000000000000003}\n",
      "Epoch 1/50\n",
      "115/115 [==============================] - 4s 12ms/step - loss: 0.3121 - accuracy: 0.8421 - val_loss: 0.6117 - val_accuracy: 0.7134\n",
      "Epoch 2/50\n",
      "115/115 [==============================] - 1s 7ms/step - loss: 0.2186 - accuracy: 0.9008 - val_loss: 0.8085 - val_accuracy: 0.6667\n",
      "Epoch 3/50\n",
      "115/115 [==============================] - 1s 7ms/step - loss: 0.1949 - accuracy: 0.9111 - val_loss: 0.7076 - val_accuracy: 0.7448\n",
      "Epoch 4/50\n",
      "115/115 [==============================] - 1s 8ms/step - loss: 0.1824 - accuracy: 0.9201 - val_loss: 0.8814 - val_accuracy: 0.6580\n",
      "Epoch 5/50\n",
      "115/115 [==============================] - 1s 9ms/step - loss: 0.1736 - accuracy: 0.9318 - val_loss: 1.1742 - val_accuracy: 0.6482\n",
      "Epoch 6/50\n",
      "115/115 [==============================] - 1s 7ms/step - loss: 0.1590 - accuracy: 0.9380 - val_loss: 1.0093 - val_accuracy: 0.6895\n",
      "Epoch 7/50\n",
      "115/115 [==============================] - 1s 8ms/step - loss: 0.1579 - accuracy: 0.9340 - val_loss: 0.9292 - val_accuracy: 0.6895\n",
      "Epoch 8/50\n",
      "115/115 [==============================] - 1s 9ms/step - loss: 0.1432 - accuracy: 0.9451 - val_loss: 1.3121 - val_accuracy: 0.6308\n",
      "Epoch 9/50\n",
      "115/115 [==============================] - 1s 8ms/step - loss: 0.1434 - accuracy: 0.9421 - val_loss: 1.2905 - val_accuracy: 0.6526\n",
      "Epoch 10/50\n",
      "115/115 [==============================] - 1s 8ms/step - loss: 0.1340 - accuracy: 0.9451 - val_loss: 1.3166 - val_accuracy: 0.6526\n",
      "Epoch 11/50\n",
      "115/115 [==============================] - 1s 7ms/step - loss: 0.1301 - accuracy: 0.9443 - val_loss: 1.4126 - val_accuracy: 0.6254\n",
      "Epoch 12/50\n",
      "115/115 [==============================] - 1s 7ms/step - loss: 0.1228 - accuracy: 0.9492 - val_loss: 1.3276 - val_accuracy: 0.6276\n",
      "Epoch 13/50\n",
      "115/115 [==============================] - 1s 8ms/step - loss: 0.1134 - accuracy: 0.9568 - val_loss: 1.3847 - val_accuracy: 0.6493\n",
      "Epoch 14/50\n",
      "115/115 [==============================] - 1s 8ms/step - loss: 0.1117 - accuracy: 0.9533 - val_loss: 1.2991 - val_accuracy: 0.6906\n",
      "Epoch 15/50\n",
      "115/115 [==============================] - 1s 8ms/step - loss: 0.1159 - accuracy: 0.9514 - val_loss: 1.7560 - val_accuracy: 0.6232\n",
      "Epoch 16/50\n",
      "115/115 [==============================] - 1s 8ms/step - loss: 0.1101 - accuracy: 0.9563 - val_loss: 1.5901 - val_accuracy: 0.6211\n",
      "Epoch 17/50\n",
      "115/115 [==============================] - 1s 8ms/step - loss: 0.1002 - accuracy: 0.9568 - val_loss: 1.5164 - val_accuracy: 0.6775\n",
      "Epoch 18/50\n",
      "115/115 [==============================] - 1s 8ms/step - loss: 0.0994 - accuracy: 0.9617 - val_loss: 1.5780 - val_accuracy: 0.7068\n",
      "Epoch 19/50\n",
      "115/115 [==============================] - 1s 8ms/step - loss: 0.0973 - accuracy: 0.9606 - val_loss: 1.9503 - val_accuracy: 0.6460\n",
      "Epoch 20/50\n",
      "115/115 [==============================] - 1s 8ms/step - loss: 0.0980 - accuracy: 0.9603 - val_loss: 1.6784 - val_accuracy: 0.6732\n",
      "Epoch 21/50\n",
      "115/115 [==============================] - 1s 9ms/step - loss: 0.0979 - accuracy: 0.9595 - val_loss: 1.8555 - val_accuracy: 0.6547\n",
      "Epoch 22/50\n",
      "115/115 [==============================] - 1s 8ms/step - loss: 0.0906 - accuracy: 0.9628 - val_loss: 1.5466 - val_accuracy: 0.7318\n",
      "Epoch 23/50\n",
      "115/115 [==============================] - 1s 8ms/step - loss: 0.0867 - accuracy: 0.9674 - val_loss: 1.5925 - val_accuracy: 0.7123\n",
      "Epoch 24/50\n",
      "115/115 [==============================] - 1s 8ms/step - loss: 0.0894 - accuracy: 0.9622 - val_loss: 1.6917 - val_accuracy: 0.7220\n",
      "Epoch 25/50\n",
      "115/115 [==============================] - 1s 9ms/step - loss: 0.0809 - accuracy: 0.9696 - val_loss: 1.9422 - val_accuracy: 0.7014\n",
      "Epoch 26/50\n",
      "115/115 [==============================] - 1s 8ms/step - loss: 0.0911 - accuracy: 0.9611 - val_loss: 1.3960 - val_accuracy: 0.7752\n",
      "Epoch 27/50\n",
      "115/115 [==============================] - 1s 8ms/step - loss: 0.0765 - accuracy: 0.9688 - val_loss: 1.6376 - val_accuracy: 0.7329\n",
      "Epoch 28/50\n",
      "115/115 [==============================] - 1s 8ms/step - loss: 0.0748 - accuracy: 0.9693 - val_loss: 1.9764 - val_accuracy: 0.7177\n",
      "Epoch 29/50\n",
      "115/115 [==============================] - 1s 8ms/step - loss: 0.0722 - accuracy: 0.9696 - val_loss: 2.4222 - val_accuracy: 0.6558\n",
      "Epoch 30/50\n",
      "115/115 [==============================] - 1s 8ms/step - loss: 0.0714 - accuracy: 0.9679 - val_loss: 2.0641 - val_accuracy: 0.6819\n",
      "Epoch 31/50\n",
      "115/115 [==============================] - 1s 9ms/step - loss: 0.0711 - accuracy: 0.9707 - val_loss: 2.4811 - val_accuracy: 0.6743\n",
      "Epoch 32/50\n",
      "115/115 [==============================] - 1s 8ms/step - loss: 0.0742 - accuracy: 0.9698 - val_loss: 2.3996 - val_accuracy: 0.6982\n",
      "Epoch 33/50\n",
      "115/115 [==============================] - 1s 8ms/step - loss: 0.0620 - accuracy: 0.9755 - val_loss: 2.4071 - val_accuracy: 0.6916\n",
      "Epoch 34/50\n",
      "115/115 [==============================] - 1s 8ms/step - loss: 0.0612 - accuracy: 0.9723 - val_loss: 2.7295 - val_accuracy: 0.6721\n",
      "Epoch 35/50\n",
      "115/115 [==============================] - 1s 8ms/step - loss: 0.0631 - accuracy: 0.9753 - val_loss: 2.4647 - val_accuracy: 0.6982\n",
      "Epoch 36/50\n",
      "115/115 [==============================] - 1s 8ms/step - loss: 0.0633 - accuracy: 0.9720 - val_loss: 2.5389 - val_accuracy: 0.6623\n",
      "Epoch 37/50\n",
      "115/115 [==============================] - 1s 8ms/step - loss: 0.0565 - accuracy: 0.9774 - val_loss: 2.5597 - val_accuracy: 0.6927\n",
      "Epoch 38/50\n",
      "115/115 [==============================] - 1s 9ms/step - loss: 0.0611 - accuracy: 0.9753 - val_loss: 2.4832 - val_accuracy: 0.6982\n",
      "Epoch 39/50\n",
      "115/115 [==============================] - 1s 8ms/step - loss: 0.0634 - accuracy: 0.9747 - val_loss: 2.9838 - val_accuracy: 0.6840\n",
      "Epoch 40/50\n",
      "115/115 [==============================] - 1s 8ms/step - loss: 0.0618 - accuracy: 0.9747 - val_loss: 3.2543 - val_accuracy: 0.6428\n",
      "Epoch 41/50\n",
      "115/115 [==============================] - 1s 8ms/step - loss: 0.0608 - accuracy: 0.9736 - val_loss: 2.6986 - val_accuracy: 0.7047\n",
      "Epoch 42/50\n",
      "115/115 [==============================] - 1s 8ms/step - loss: 0.0576 - accuracy: 0.9766 - val_loss: 2.7915 - val_accuracy: 0.7047\n",
      "Epoch 43/50\n",
      "115/115 [==============================] - 1s 8ms/step - loss: 0.0567 - accuracy: 0.9785 - val_loss: 3.1535 - val_accuracy: 0.6645\n",
      "Epoch 44/50\n",
      "115/115 [==============================] - 1s 8ms/step - loss: 0.0533 - accuracy: 0.9785 - val_loss: 2.6699 - val_accuracy: 0.7025\n",
      "Epoch 45/50\n",
      "115/115 [==============================] - 1s 8ms/step - loss: 0.0471 - accuracy: 0.9812 - val_loss: 3.0661 - val_accuracy: 0.6819\n",
      "Epoch 46/50\n",
      "115/115 [==============================] - 1s 8ms/step - loss: 0.0495 - accuracy: 0.9793 - val_loss: 2.5182 - val_accuracy: 0.7242\n",
      "Epoch 47/50\n",
      "115/115 [==============================] - 1s 8ms/step - loss: 0.0525 - accuracy: 0.9802 - val_loss: 3.2805 - val_accuracy: 0.6754\n",
      "Epoch 48/50\n",
      "115/115 [==============================] - 1s 8ms/step - loss: 0.0490 - accuracy: 0.9799 - val_loss: 2.9270 - val_accuracy: 0.6862\n",
      "Epoch 49/50\n",
      "115/115 [==============================] - 1s 8ms/step - loss: 0.0517 - accuracy: 0.9777 - val_loss: 2.7601 - val_accuracy: 0.7351\n",
      "Epoch 50/50\n",
      "115/115 [==============================] - 1s 8ms/step - loss: 0.0463 - accuracy: 0.9793 - val_loss: 2.8575 - val_accuracy: 0.7199\n",
      "39/39 [==============================] - 0s 3ms/step - loss: 0.8799 - accuracy: 0.8774\n",
      "Final Optimized Model Accuracy: 0.8774193525314331\n",
      "39/39 [==============================] - 0s 3ms/step\n"
     ]
    },
    {
     "data": {
      "image/png": "[encoded data removed]",
      "text/plain": [
       "<Figure size 432x288 with 1 Axes>"
      ]
     },
     "metadata": {},
     "output_type": "display_data"
    }
   ],
   "source": [
    "import keras_tuner as kt\n",
    "from tensorflow.keras.models import Sequential\n",
    "from tensorflow.keras.layers import Dense, Conv1D, Flatten, Dropout\n",
    "from sklearn.metrics import roc_curve, auc\n",
    "import matplotlib.pyplot as plt\n",
    "\n",
    "# Assuming X_train_reshaped, y_train, X_test_reshaped, y_test are already defined\n",
    "\n",
    "def build_model(hp):\n",
    "    model = Sequential([\n",
    "        Conv1D(\n",
    "            filters=hp.Int('conv_filters', min_value=32, max_value=128, step=32),\n",
    "            kernel_size=hp.Choice('kernel_size', values=[3, 5]),\n",
    "            activation='relu',\n",
    "            input_shape=(X_train_reshaped.shape[1], 1)\n",
    "        ),\n",
    "        Flatten(),\n",
    "        Dense(\n",
    "            units=hp.Int('dense_units', min_value=50, max_value=150, step=50),\n",
    "            activation='relu'\n",
    "        ),\n",
    "        Dropout(hp.Float('dropout', min_value=0.0, max_value=0.5, default=0.25, step=0.05)),\n",
    "        Dense(1, activation='sigmoid')\n",
    "    ])\n",
    "    model.compile(\n",
    "        optimizer='adam',\n",
    "        loss='binary_crossentropy',\n",
    "        metrics=['accuracy']\n",
    "    )\n",
    "    return model\n",
    "\n",
    "tuner = kt.BayesianOptimization(\n",
    "    build_model,\n",
    "    objective='val_accuracy',\n",
    "    max_trials=10,  # Adjust the number of trials\n",
    "    directory='keras_tuner_dir',\n",
    "    project_name='cnn_optimization'\n",
    ")\n",
    "\n",
    "tuner.search(\n",
    "    X_train_reshaped, y_train,\n",
    "    epochs=30,\n",
    "    validation_split=0.2\n",
    ")\n",
    "\n",
    "best_hps = tuner.get_best_hyperparameters(num_trials=1)[0]\n",
    "print(f\"Best hyperparameters: {best_hps.values}\")\n",
    "\n",
    "# Build the model with the best hyperparameters and train it on the data\n",
    "optimized_cnn_model = tuner.hypermodel.build(best_hps)\n",
    "history = optimized_cnn_model.fit(X_train_reshaped, y_train, epochs=50, validation_split=0.2)\n",
    "\n",
    "# Evaluate the final optimized model\n",
    "loss, accuracy = optimized_cnn_model.evaluate(X_test_reshaped, y_test)\n",
    "print(\"Final Optimized Model Accuracy:\", accuracy)\n",
    "\n",
    "# Predict probabilities for ROC curve for the optimized model\n",
    "y_pred_proba_optimized = optimized_cnn_model.predict(X_test_reshaped).ravel()\n",
    "\n",
    "# Compute ROC Curve and AUC for the optimized model\n",
    "fpr_optimized, tpr_optimized, thresholds = roc_curve(y_test, y_pred_proba_optimized)\n",
    "roc_auc_optimized = auc(fpr_optimized, tpr_optimized)\n",
    "\n",
    "# Plot ROC curve for the optimized model\n",
    "plt.figure()\n",
    "plt.plot(fpr_optimized, tpr_optimized, color='darkred', lw=2, label='ROC curve (area = %0.2f)' % roc_auc_optimized)\n",
    "plt.plot([0, 1], [0, 1], color='navy', lw=2, linestyle='--')\n",
    "plt.xlim([0.0, 1.0])\n",
    "plt.ylim([0.0, 1.05])\n",
    "plt.xlabel('False Positive Rate')\n",
    "plt.ylabel('True Positive Rate')\n",
    "plt.title('Receiver Operating Characteristic Optimized CNN')\n",
    "plt.legend(loc=\"lower right\")\n",
    "plt.show()\n"
   ]
  },
  {
   "cell_type": "code",
   "execution_count": null,
   "id": "dd18f670-3104-429a-b5d5-4800154d760e",
   "metadata": {},
   "outputs": [],
   "source": []
  },
  {
   "cell_type": "code",
   "execution_count": null,
   "id": "d7465c08-6e5b-4748-9f87-60b8b128138d",
   "metadata": {},
   "outputs": [],
   "source": []
  },
  {
   "cell_type": "code",
   "execution_count": null,
   "id": "dbe774a8-ac84-4dac-b57b-acba5b7e6582",
   "metadata": {},
   "outputs": [],
   "source": []
  },
  {
   "cell_type": "code",
   "execution_count": null,
   "id": "7d70b5df-cc62-4940-9aec-ac70e6afabbf",
   "metadata": {},
   "outputs": [],
   "source": []
  },
  {
   "cell_type": "markdown",
   "id": "0d3d2d22-4588-4b19-8313-12757911e4e1",
   "metadata": {},
   "source": [
    "### CNN-AutoML\n",
    "#### Using AutoML for optimizing CNN model"
   ]
  },
  {
   "cell_type": "code",
   "execution_count": 166,
   "id": "7c17ced3-edde-4854-b520-6d6d7216edfa",
   "metadata": {},
   "outputs": [],
   "source": [
    "# Assuming your data is already loaded into enc_train and enc_test\n",
    "X_train = enc_train.iloc[:, :-1].values\n",
    "y_train = enc_train.iloc[:, -1].values\n",
    "X_test = enc_test.iloc[:, :-1].values\n",
    "y_test = enc_test.iloc[:, -1].values"
   ]
  },
  {
   "cell_type": "code",
   "execution_count": 167,
   "id": "330e90cb-b536-4991-874e-d8b8463ed153",
   "metadata": {},
   "outputs": [],
   "source": [
    "# Convert to NumPy arrays and ensure dtype is float32\n",
    "X_train = np.array(X_train, dtype='float32')\n",
    "X_test = np.array(X_test, dtype='float32')\n",
    "y_train = np.array(y_train, dtype='float32')\n",
    "y_test = np.array(y_test, dtype='float32')\n"
   ]
  },
  {
   "cell_type": "code",
   "execution_count": 168,
   "id": "e68d04fd-c38b-4b31-96ec-d6e92d0a287f",
   "metadata": {},
   "outputs": [],
   "source": [
    "# Normalize the features\n",
    "scaler = StandardScaler()\n",
    "X_train_scaled = scaler.fit_transform(X_train)\n",
    "X_test_scaled = scaler.transform(X_test)"
   ]
  },
  {
   "cell_type": "code",
   "execution_count": 174,
   "id": "5cc54d4d-231b-4aaf-a35e-b9f5b3bf87b7",
   "metadata": {},
   "outputs": [
    {
     "name": "stdout",
     "output_type": "stream",
     "text": [
      "Using TensorFlow backend\n",
      "Reloading Tuner from ./structured_data_classifier/tuner0.json\n",
      "WARNING:tensorflow:From /home/ashimashi/anaconda3/lib/python3.9/site-packages/tensorflow/python/autograph/pyct/static_analysis/liveness.py:83: Analyzer.lamba_check (from tensorflow.python.autograph.pyct.static_analysis.liveness) is deprecated and will be removed after 2023-09-23.\n",
      "Instructions for updating:\n",
      "Lambda fuctions will be no more assumed to be used in the statement where they are used, or at least in the same block. https://github.com/tensorflow/tensorflow/issues/56089\n",
      "Epoch 1/10\n",
      "144/144 [==============================] - 3s 5ms/step - loss: 0.5543 - accuracy: 0.8496\n",
      "Epoch 2/10\n",
      "144/144 [==============================] - 1s 6ms/step - loss: 0.5452 - accuracy: 0.7264\n",
      "Epoch 3/10\n",
      "144/144 [==============================] - 1s 5ms/step - loss: 0.4132 - accuracy: 0.8166\n",
      "Epoch 4/10\n",
      "144/144 [==============================] - 1s 5ms/step - loss: 0.3401 - accuracy: 0.7859\n",
      "Epoch 5/10\n",
      "144/144 [==============================] - 1s 5ms/step - loss: 0.3320 - accuracy: 0.7879\n",
      "Epoch 6/10\n",
      "144/144 [==============================] - 1s 5ms/step - loss: 0.3119 - accuracy: 0.8203\n",
      "Epoch 7/10\n",
      "144/144 [==============================] - 1s 6ms/step - loss: 0.2394 - accuracy: 0.8792\n",
      "Epoch 8/10\n",
      "144/144 [==============================] - 1s 5ms/step - loss: 0.2496 - accuracy: 0.8502\n",
      "Epoch 9/10\n",
      "144/144 [==============================] - 1s 5ms/step - loss: 0.2506 - accuracy: 0.8646\n",
      "Epoch 10/10\n",
      "144/144 [==============================] - 1s 4ms/step - loss: 0.2647 - accuracy: 0.8702\n"
     ]
    },
    {
     "name": "stderr",
     "output_type": "stream",
     "text": [
      "WARNING:absl:Found untraced functions such as _update_step_xla while saving (showing 1 of 1). These functions will not be directly callable after loading.\n"
     ]
    },
    {
     "name": "stdout",
     "output_type": "stream",
     "text": [
      "INFO:tensorflow:Assets written to: ./structured_data_classifier/best_model/assets\n"
     ]
    },
    {
     "name": "stderr",
     "output_type": "stream",
     "text": [
      "INFO:tensorflow:Assets written to: ./structured_data_classifier/best_model/assets\n"
     ]
    },
    {
     "name": "stdout",
     "output_type": "stream",
     "text": [
      "39/39 [==============================] - 1s 5ms/step - loss: 0.3161 - accuracy: 0.8653\n",
      "Test Accuracy: 0.8653225898742676\n",
      "Model: \"model\"\n",
      "_________________________________________________________________\n",
      " Layer (type)                Output Shape              Param #   \n",
      "=================================================================\n",
      " input_1 (InputLayer)        [(None, 52)]              0         \n",
      "                                                                 \n",
      " multi_category_encoding (Mu  (None, 52)               0         \n",
      " ltiCategoryEncoding)                                            \n",
      "                                                                 \n",
      " normalization (Normalizatio  (None, 52)               105       \n",
      " n)                                                              \n",
      "                                                                 \n",
      " dense (Dense)               (None, 512)               27136     \n",
      "                                                                 \n",
      " re_lu (ReLU)                (None, 512)               0         \n",
      "                                                                 \n",
      " dense_1 (Dense)             (None, 32)                16416     \n",
      "                                                                 \n",
      " re_lu_1 (ReLU)              (None, 32)                0         \n",
      "                                                                 \n",
      " dense_2 (Dense)             (None, 32)                1056      \n",
      "                                                                 \n",
      " re_lu_2 (ReLU)              (None, 32)                0         \n",
      "                                                                 \n",
      " dropout (Dropout)           (None, 32)                0         \n",
      "                                                                 \n",
      " dense_3 (Dense)             (None, 1)                 33        \n",
      "                                                                 \n",
      " classification_head_1 (Acti  (None, 1)                0         \n",
      " vation)                                                         \n",
      "                                                                 \n",
      "=================================================================\n",
      "Total params: 44,746\n",
      "Trainable params: 44,641\n",
      "Non-trainable params: 105\n",
      "_________________________________________________________________\n",
      "39/39 [==============================] - 1s 4ms/step - loss: 0.3161 - accuracy: 0.8653\n",
      "Test Accuracy: 0.8653225898742676\n",
      "39/39 [==============================] - 1s 4ms/step\n"
     ]
    },
    {
     "data": {
      "image/png": "[encoded data removed]",
      "text/plain": [
       "<Figure size 432x288 with 1 Axes>"
      ]
     },
     "metadata": {},
     "output_type": "display_data"
    }
   ],
   "source": [
    "import numpy as np\n",
    "import pandas as pd\n",
    "from sklearn.preprocessing import StandardScaler\n",
    "from sklearn.metrics import roc_curve, auc\n",
    "import matplotlib.pyplot as plt\n",
    "import autokeras as ak\n",
    "\n",
    "\n",
    "# Convert to NumPy arrays and ensure dtype is float32\n",
    "X_train = np.array(X_train, dtype='float32')\n",
    "X_test = np.array(X_test, dtype='float32')\n",
    "y_train = np.array(y_train, dtype='float32')\n",
    "y_test = np.array(y_test, dtype='float32')\n",
    "\n",
    "# Normalize the features\n",
    "scaler = StandardScaler()\n",
    "X_train_scaled = scaler.fit_transform(X_train)\n",
    "X_test_scaled = scaler.transform(X_test)\n",
    "\n",
    "# Initialize the AutoKeras structured data classifier (or another appropriate classifier)\n",
    "clf = ak.StructuredDataClassifier(max_trials=10, loss='binary_crossentropy', metrics=['accuracy'])\n",
    "\n",
    "# Fit the model\n",
    "clf.fit(X_train_scaled, y_train, epochs=10)\n",
    "\n",
    "# Evaluate the best model\n",
    "loss, accuracy = clf.evaluate(X_test_scaled, y_test)\n",
    "print(f\"Test Accuracy: {accuracy}\")\n",
    "\n",
    "# Export the best model\n",
    "model = clf.export_model()\n",
    "model.summary()\n",
    "\n",
    "# Evaluate the model with correct data\n",
    "loss, accuracy = model.evaluate(X_test_scaled, y_test)\n",
    "print(f'Test Accuracy: {accuracy}')\n",
    "\n",
    "# Predict probabilities for ROC curve\n",
    "y_pred_proba = model.predict(X_test_scaled).ravel()\n",
    "\n",
    "# Calculate ROC curve\n",
    "fpr, tpr, thresholds = roc_curve(y_test, y_pred_proba)\n",
    "roc_auc = auc(fpr, tpr)\n",
    "\n",
    "# Plot ROC curve\n",
    "plt.figure()\n",
    "plt.plot(fpr, tpr, color='green', lw=2, label='ROC curve (area = %0.2f)' % roc_auc)\n",
    "plt.plot([0, 1], [0, 1], color='navy', lw=2, linestyle='--')\n",
    "plt.xlim([0.0, 1.0])\n",
    "plt.ylim([0.0, 1.05])\n",
    "plt.xlabel('False Positive Rate')\n",
    "plt.ylabel('True Positive Rate')\n",
    "plt.title('Receiver Operating Characteristic')\n",
    "plt.legend(loc=\"lower right\")\n",
    "plt.show()\n"
   ]
  },
  {
   "cell_type": "markdown",
   "id": "fd0a4cc4-a474-4351-b31d-1fbe0232f63d",
   "metadata": {},
   "source": [
    "### LSTM and BiLSTM"
   ]
  },
  {
   "cell_type": "code",
   "execution_count": 196,
   "id": "dc004385-7afc-4f73-84c9-ffdade0419cb",
   "metadata": {},
   "outputs": [],
   "source": [
    "from tensorflow.keras.layers import LSTM, Bidirectional"
   ]
  },
  {
   "cell_type": "code",
   "execution_count": 197,
   "id": "f742996b-1e3f-4083-8e53-ab88b2532532",
   "metadata": {},
   "outputs": [],
   "source": [
    "# LSTM Model\n",
    "def build_lstm_model(input_shape):\n",
    "    model = Sequential()\n",
    "    model.add(LSTM(50, return_sequences=True, input_shape=input_shape))\n",
    "    model.add(LSTM(50))\n",
    "    model.add(Dense(50, activation='relu'))\n",
    "    model.add(Dense(1, activation='sigmoid'))\n",
    "    model.compile(optimizer='adam', loss='binary_crossentropy', metrics=['accuracy'])\n",
    "    return model"
   ]
  },
  {
   "cell_type": "code",
   "execution_count": 198,
   "id": "2143b343-9f1e-4e2f-b2f9-611beab7f0d2",
   "metadata": {},
   "outputs": [],
   "source": [
    "# BiLSTM Model\n",
    "def build_bilstm_model(input_shape):\n",
    "    model = Sequential()\n",
    "    model.add(Bidirectional(LSTM(50, return_sequences=True), input_shape=input_shape))\n",
    "    model.add(Bidirectional(LSTM(50)))\n",
    "    model.add(Dense(50, activation='relu'))\n",
    "    model.add(Dense(1, activation='sigmoid'))\n",
    "    model.compile(optimizer='adam', loss='binary_crossentropy', metrics=['accuracy'])\n",
    "    return model"
   ]
  },
  {
   "cell_type": "code",
   "execution_count": 199,
   "id": "7cbac37a-bd32-4b31-9ce4-8627ce248a7d",
   "metadata": {},
   "outputs": [
    {
     "name": "stdout",
     "output_type": "stream",
     "text": [
      "Epoch 1/30\n",
      "115/115 [==============================] - 13s 75ms/step - loss: 0.4681 - accuracy: 0.7622 - val_loss: 1.1256 - val_accuracy: 0.6232\n",
      "Epoch 2/30\n",
      "115/115 [==============================] - 8s 71ms/step - loss: 0.3529 - accuracy: 0.8280 - val_loss: 1.1902 - val_accuracy: 0.6254\n",
      "Epoch 3/30\n",
      "115/115 [==============================] - 8s 68ms/step - loss: 0.3387 - accuracy: 0.8220 - val_loss: 1.3962 - val_accuracy: 0.5396\n",
      "Epoch 4/30\n",
      "115/115 [==============================] - 16s 141ms/step - loss: 0.3225 - accuracy: 0.8386 - val_loss: 1.3336 - val_accuracy: 0.5429\n",
      "Epoch 5/30\n",
      "115/115 [==============================] - 20s 174ms/step - loss: 0.3152 - accuracy: 0.8391 - val_loss: 1.7008 - val_accuracy: 0.5385\n",
      "Epoch 6/30\n",
      "115/115 [==============================] - 21s 182ms/step - loss: 0.3041 - accuracy: 0.8478 - val_loss: 1.3003 - val_accuracy: 0.6135\n",
      "Epoch 7/30\n",
      "115/115 [==============================] - 29s 249ms/step - loss: 0.2946 - accuracy: 0.8495 - val_loss: 1.7317 - val_accuracy: 0.5548\n",
      "Epoch 8/30\n",
      "115/115 [==============================] - 21s 187ms/step - loss: 0.2887 - accuracy: 0.8571 - val_loss: 1.8160 - val_accuracy: 0.5081\n",
      "Epoch 9/30\n",
      "115/115 [==============================] - 30s 265ms/step - loss: 0.2787 - accuracy: 0.8535 - val_loss: 1.3848 - val_accuracy: 0.5896\n",
      "Epoch 10/30\n",
      "115/115 [==============================] - 19s 165ms/step - loss: 0.2731 - accuracy: 0.8660 - val_loss: 1.2706 - val_accuracy: 0.6145\n",
      "Epoch 11/30\n",
      "115/115 [==============================] - 20s 175ms/step - loss: 0.2599 - accuracy: 0.8674 - val_loss: 2.0830 - val_accuracy: 0.5092\n",
      "Epoch 12/30\n",
      "115/115 [==============================] - 28s 245ms/step - loss: 0.2557 - accuracy: 0.8720 - val_loss: 1.9669 - val_accuracy: 0.5570\n",
      "Epoch 13/30\n",
      "115/115 [==============================] - 32s 280ms/step - loss: 0.2551 - accuracy: 0.8750 - val_loss: 1.8665 - val_accuracy: 0.4951\n",
      "Epoch 14/30\n",
      "115/115 [==============================] - 22s 191ms/step - loss: 0.2464 - accuracy: 0.8764 - val_loss: 1.8538 - val_accuracy: 0.4810\n",
      "Epoch 15/30\n",
      "115/115 [==============================] - 24s 204ms/step - loss: 0.2378 - accuracy: 0.8875 - val_loss: 1.8854 - val_accuracy: 0.5212\n",
      "Epoch 16/30\n",
      "115/115 [==============================] - 23s 198ms/step - loss: 0.2345 - accuracy: 0.8894 - val_loss: 1.9709 - val_accuracy: 0.5157\n",
      "Epoch 17/30\n",
      "115/115 [==============================] - 26s 229ms/step - loss: 0.2319 - accuracy: 0.8948 - val_loss: 2.0421 - val_accuracy: 0.5233\n",
      "Epoch 18/30\n",
      "115/115 [==============================] - 10s 87ms/step - loss: 0.2245 - accuracy: 0.8967 - val_loss: 2.2307 - val_accuracy: 0.4799\n",
      "Epoch 19/30\n",
      "115/115 [==============================] - 9s 79ms/step - loss: 0.2161 - accuracy: 0.9060 - val_loss: 2.2781 - val_accuracy: 0.4919\n",
      "Epoch 20/30\n",
      "115/115 [==============================] - 9s 81ms/step - loss: 0.2143 - accuracy: 0.9035 - val_loss: 2.1152 - val_accuracy: 0.5147\n",
      "Epoch 21/30\n",
      "115/115 [==============================] - 10s 83ms/step - loss: 0.2086 - accuracy: 0.9095 - val_loss: 2.2615 - val_accuracy: 0.5049\n",
      "Epoch 22/30\n",
      "115/115 [==============================] - 9s 74ms/step - loss: 0.2097 - accuracy: 0.9057 - val_loss: 2.1706 - val_accuracy: 0.5103\n",
      "Epoch 23/30\n",
      "115/115 [==============================] - 8s 74ms/step - loss: 0.2036 - accuracy: 0.9111 - val_loss: 2.6142 - val_accuracy: 0.4680\n",
      "Epoch 24/30\n",
      "115/115 [==============================] - 9s 74ms/step - loss: 0.1882 - accuracy: 0.9149 - val_loss: 2.3139 - val_accuracy: 0.5190\n",
      "Epoch 25/30\n",
      "115/115 [==============================] - 8s 74ms/step - loss: 0.1853 - accuracy: 0.9182 - val_loss: 2.8570 - val_accuracy: 0.4463\n",
      "Epoch 26/30\n",
      "115/115 [==============================] - 8s 72ms/step - loss: 0.1853 - accuracy: 0.9187 - val_loss: 2.7090 - val_accuracy: 0.4919\n",
      "Epoch 27/30\n",
      "115/115 [==============================] - 9s 81ms/step - loss: 0.1800 - accuracy: 0.9236 - val_loss: 2.4336 - val_accuracy: 0.4767\n",
      "Epoch 28/30\n",
      "115/115 [==============================] - 9s 78ms/step - loss: 0.1734 - accuracy: 0.9274 - val_loss: 2.8841 - val_accuracy: 0.4560\n",
      "Epoch 29/30\n",
      "115/115 [==============================] - 9s 74ms/step - loss: 0.1803 - accuracy: 0.9207 - val_loss: 2.9476 - val_accuracy: 0.5005\n",
      "Epoch 30/30\n",
      "115/115 [==============================] - 8s 73ms/step - loss: 0.1750 - accuracy: 0.9266 - val_loss: 2.5278 - val_accuracy: 0.5190\n",
      "39/39 [==============================] - 2s 46ms/step - loss: 0.7656 - accuracy: 0.8024\n",
      "LSTM Model Accuracy: 0.8024193644523621\n",
      "Epoch 1/30\n",
      "115/115 [==============================] - 21s 118ms/step - loss: 0.4502 - accuracy: 0.7606 - val_loss: 1.8047 - val_accuracy: 0.5624\n",
      "Epoch 2/30\n",
      "115/115 [==============================] - 11s 98ms/step - loss: 0.3158 - accuracy: 0.8334 - val_loss: 1.7224 - val_accuracy: 0.5516\n",
      "Epoch 3/30\n",
      "115/115 [==============================] - 11s 98ms/step - loss: 0.2913 - accuracy: 0.8495 - val_loss: 1.7315 - val_accuracy: 0.5548\n",
      "Epoch 4/30\n",
      "115/115 [==============================] - 12s 104ms/step - loss: 0.2706 - accuracy: 0.8690 - val_loss: 2.7688 - val_accuracy: 0.4897\n",
      "Epoch 5/30\n",
      "115/115 [==============================] - 13s 114ms/step - loss: 0.2654 - accuracy: 0.8731 - val_loss: 2.2594 - val_accuracy: 0.5212\n",
      "Epoch 6/30\n",
      "115/115 [==============================] - 13s 110ms/step - loss: 0.2446 - accuracy: 0.8886 - val_loss: 2.4531 - val_accuracy: 0.4940\n",
      "Epoch 7/30\n",
      "115/115 [==============================] - 13s 112ms/step - loss: 0.2441 - accuracy: 0.8883 - val_loss: 2.7544 - val_accuracy: 0.4756\n",
      "Epoch 8/30\n",
      "115/115 [==============================] - 13s 112ms/step - loss: 0.2294 - accuracy: 0.9000 - val_loss: 3.0148 - val_accuracy: 0.4712\n",
      "Epoch 9/30\n",
      "115/115 [==============================] - 13s 115ms/step - loss: 0.2348 - accuracy: 0.8875 - val_loss: 2.7972 - val_accuracy: 0.4929\n",
      "Epoch 10/30\n",
      "115/115 [==============================] - 12s 106ms/step - loss: 0.2215 - accuracy: 0.8962 - val_loss: 2.4614 - val_accuracy: 0.5244\n",
      "Epoch 11/30\n",
      "115/115 [==============================] - 14s 119ms/step - loss: 0.2168 - accuracy: 0.9027 - val_loss: 2.7351 - val_accuracy: 0.4549\n",
      "Epoch 12/30\n",
      "115/115 [==============================] - 15s 130ms/step - loss: 0.2072 - accuracy: 0.9103 - val_loss: 2.3051 - val_accuracy: 0.5016\n",
      "Epoch 13/30\n",
      "115/115 [==============================] - 13s 114ms/step - loss: 0.2008 - accuracy: 0.9079 - val_loss: 3.4379 - val_accuracy: 0.4321\n",
      "Epoch 14/30\n",
      "115/115 [==============================] - 13s 113ms/step - loss: 0.1990 - accuracy: 0.9114 - val_loss: 2.9904 - val_accuracy: 0.5016\n",
      "Epoch 15/30\n",
      "115/115 [==============================] - 13s 115ms/step - loss: 0.1798 - accuracy: 0.9283 - val_loss: 3.3415 - val_accuracy: 0.4126\n",
      "Epoch 16/30\n",
      "115/115 [==============================] - 13s 115ms/step - loss: 0.1740 - accuracy: 0.9264 - val_loss: 3.0978 - val_accuracy: 0.5385\n",
      "Epoch 17/30\n",
      "115/115 [==============================] - 12s 109ms/step - loss: 0.1716 - accuracy: 0.9285 - val_loss: 3.1514 - val_accuracy: 0.4864\n",
      "Epoch 18/30\n",
      "115/115 [==============================] - 13s 113ms/step - loss: 0.1583 - accuracy: 0.9323 - val_loss: 3.1773 - val_accuracy: 0.4691\n",
      "Epoch 19/30\n",
      "115/115 [==============================] - 14s 126ms/step - loss: 0.1568 - accuracy: 0.9340 - val_loss: 3.4039 - val_accuracy: 0.4745\n",
      "Epoch 20/30\n",
      "115/115 [==============================] - 14s 122ms/step - loss: 0.1536 - accuracy: 0.9321 - val_loss: 3.0346 - val_accuracy: 0.4940\n",
      "Epoch 21/30\n",
      "115/115 [==============================] - 14s 124ms/step - loss: 0.1497 - accuracy: 0.9383 - val_loss: 3.5278 - val_accuracy: 0.4539\n",
      "Epoch 22/30\n",
      "115/115 [==============================] - 14s 123ms/step - loss: 0.1383 - accuracy: 0.9435 - val_loss: 3.6557 - val_accuracy: 0.4495\n",
      "Epoch 23/30\n",
      "115/115 [==============================] - 15s 128ms/step - loss: 0.1303 - accuracy: 0.9424 - val_loss: 2.9521 - val_accuracy: 0.5147\n",
      "Epoch 24/30\n",
      "115/115 [==============================] - 15s 127ms/step - loss: 0.1288 - accuracy: 0.9495 - val_loss: 3.3422 - val_accuracy: 0.4799\n",
      "Epoch 25/30\n",
      "115/115 [==============================] - 15s 128ms/step - loss: 0.1245 - accuracy: 0.9457 - val_loss: 3.6828 - val_accuracy: 0.4669\n",
      "Epoch 26/30\n",
      "115/115 [==============================] - 15s 128ms/step - loss: 0.1174 - accuracy: 0.9514 - val_loss: 3.7278 - val_accuracy: 0.4777\n",
      "Epoch 27/30\n",
      "115/115 [==============================] - 14s 122ms/step - loss: 0.1134 - accuracy: 0.9543 - val_loss: 3.3808 - val_accuracy: 0.4853\n",
      "Epoch 28/30\n",
      "115/115 [==============================] - 14s 122ms/step - loss: 0.1123 - accuracy: 0.9546 - val_loss: 4.0784 - val_accuracy: 0.4235\n",
      "Epoch 29/30\n",
      "115/115 [==============================] - 14s 124ms/step - loss: 0.1060 - accuracy: 0.9530 - val_loss: 3.9616 - val_accuracy: 0.4354\n",
      "Epoch 30/30\n",
      "115/115 [==============================] - 14s 124ms/step - loss: 0.0985 - accuracy: 0.9603 - val_loss: 3.3937 - val_accuracy: 0.4864\n",
      "39/39 [==============================] - 2s 45ms/step - loss: 0.9480 - accuracy: 0.8073\n",
      "BiLSTM Model Accuracy: 0.8072580695152283\n"
     ]
    }
   ],
   "source": [
    "# Train and Evaluate LSTM Model\n",
    "lstm_model = build_lstm_model(X_train_reshaped.shape[1:])\n",
    "lstm_model.fit(X_train_reshaped, y_train, epochs=30, validation_split=0.2)\n",
    "lstm_loss, lstm_accuracy = lstm_model.evaluate(X_test_reshaped, y_test)\n",
    "print(f\"LSTM Model Accuracy: {lstm_accuracy}\")\n",
    "\n",
    "# Train and Evaluate BiLSTM Model\n",
    "bilstm_model = build_bilstm_model(X_train_reshaped.shape[1:])\n",
    "bilstm_model.fit(X_train_reshaped, y_train, epochs=30, validation_split=0.2)\n",
    "bilstm_loss, bilstm_accuracy = bilstm_model.evaluate(X_test_reshaped, y_test)\n",
    "print(f\"BiLSTM Model Accuracy: {bilstm_accuracy}\")"
   ]
  },
  {
   "cell_type": "code",
   "execution_count": 200,
   "id": "6d362342-47b1-49e6-a8b0-32205b623eeb",
   "metadata": {},
   "outputs": [
    {
     "name": "stdout",
     "output_type": "stream",
     "text": [
      "39/39 [==============================] - 3s 31ms/step\n"
     ]
    }
   ],
   "source": [
    "# Predict probabilities for LSTM\n",
    "lstm_pred_proba = lstm_model.predict(X_test_reshaped).ravel()\n",
    "\n",
    "# Calculate ROC curve for LSTM\n",
    "lstm_fpr, lstm_tpr, _ = roc_curve(y_test, lstm_pred_proba)\n",
    "lstm_roc_auc = auc(lstm_fpr, lstm_tpr)\n"
   ]
  },
  {
   "cell_type": "code",
   "execution_count": 201,
   "id": "5cb33719-8503-4a7e-be16-592741c9411f",
   "metadata": {},
   "outputs": [
    {
     "name": "stdout",
     "output_type": "stream",
     "text": [
      "39/39 [==============================] - 4s 44ms/step\n"
     ]
    }
   ],
   "source": [
    "# Predict probabilities for BiLSTM\n",
    "bilstm_pred_proba = bilstm_model.predict(X_test_reshaped).ravel()\n",
    "\n",
    "# Calculate ROC curve for BiLSTM\n",
    "bilstm_fpr, bilstm_tpr, _ = roc_curve(y_test, bilstm_pred_proba)\n",
    "bilstm_roc_auc = auc(bilstm_fpr, bilstm_tpr)\n"
   ]
  },
  {
   "cell_type": "code",
   "execution_count": 202,
   "id": "530c2aa3-4662-4df7-a51d-632947b6e4bc",
   "metadata": {},
   "outputs": [
    {
     "data": {
      "image/png": "[encoded data removed]",
      "text/plain": [
       "<Figure size 432x288 with 1 Axes>"
      ]
     },
     "metadata": {},
     "output_type": "display_data"
    }
   ],
   "source": [
    "# Plot ROC curves\n",
    "plt.figure()\n",
    "plt.plot(lstm_fpr, lstm_tpr, color='blue', lw=2, label='LSTM ROC curve (area = %0.2f)' % lstm_roc_auc)\n",
    "plt.plot(bilstm_fpr, bilstm_tpr, color='green', lw=2, label='BiLSTM ROC curve (area = %0.2f)' % bilstm_roc_auc)\n",
    "plt.plot([0, 1], [0, 1], color='navy', lw=2, linestyle='--')\n",
    "plt.xlim([0.0, 1.0])\n",
    "plt.ylim([0.0, 1.05])\n",
    "plt.xlabel('False Positive Rate')\n",
    "plt.ylabel('True Positive Rate')\n",
    "plt.title('Receiver Operating Characteristic')\n",
    "plt.legend(loc=\"lower right\")\n",
    "plt.show()\n"
   ]
  },
  {
   "cell_type": "markdown",
   "id": "e823b807-21e5-4e2e-8e71-5530149b2ed5",
   "metadata": {},
   "source": [
    "### LSTM-Bayesian Optimization"
   ]
  },
  {
   "cell_type": "code",
   "execution_count": 221,
   "id": "89af9c2f-ec58-42b1-8e25-14824288197f",
   "metadata": {},
   "outputs": [
    {
     "name": "stdout",
     "output_type": "stream",
     "text": [
      "Trial 10 Complete [00h 03m 54s]\n",
      "val_accuracy: 0.6427795886993408\n",
      "\n",
      "Best val_accuracy So Far: 0.6427795886993408\n",
      "Total elapsed time: 00h 51m 55s\n"
     ]
    }
   ],
   "source": [
    "import keras_tuner as kt\n",
    "from tensorflow.keras.models import Sequential\n",
    "from tensorflow.keras.layers import LSTM, Dense, Dropout\n",
    "\n",
    "def build_lstm_model(hp):\n",
    "    model = Sequential()\n",
    "    model.add(LSTM(\n",
    "        units=hp.Int('units', min_value=30, max_value=100, step=10),\n",
    "        return_sequences=True,\n",
    "        input_shape=(X_train_reshaped.shape[1], X_train_reshaped.shape[2])\n",
    "    ))\n",
    "    model.add(Dropout(hp.Float('dropout_1', min_value=0.0, max_value=0.5, step=0.1)))\n",
    "    model.add(LSTM(\n",
    "        units=hp.Int('units', min_value=30, max_value=100, step=10),\n",
    "        return_sequences=False\n",
    "    ))\n",
    "    model.add(Dropout(hp.Float('dropout_2', min_value=0.0, max_value=0.5, step=0.1)))\n",
    "    model.add(Dense(\n",
    "        units=hp.Int('dense_units', min_value=30, max_value=100, step=10),\n",
    "        activation='relu'\n",
    "    ))\n",
    "    model.add(Dense(1, activation='sigmoid'))\n",
    "\n",
    "    model.compile(\n",
    "        optimizer='adam',\n",
    "        loss='binary_crossentropy',\n",
    "        metrics=['accuracy']\n",
    "    )\n",
    "    return model\n",
    "\n",
    "tuner_lstm = kt.BayesianOptimization(\n",
    "    build_lstm_model,\n",
    "    objective='val_accuracy',\n",
    "    max_trials=10,\n",
    "    directory='keras_tuner_dir',\n",
    "    project_name='lstm_optimization'\n",
    ")\n",
    "\n",
    "tuner_lstm.search(\n",
    "    X_train_reshaped, y_train,\n",
    "    epochs=30,\n",
    "    validation_split=0.2\n",
    ")\n",
    "\n",
    "best_hps_lstm = tuner_lstm.get_best_hyperparameters(num_trials=1)[0]\n"
   ]
  },
  {
   "cell_type": "markdown",
   "id": "d6327e0f-c0a9-438c-86b6-56b8e91a72ef",
   "metadata": {},
   "source": [
    "### BiLSTM-Bayesian Optimization"
   ]
  },
  {
   "cell_type": "code",
   "execution_count": 222,
   "id": "3f9fd3a2-13cb-4f2d-a98a-8e00d328d919",
   "metadata": {},
   "outputs": [
    {
     "name": "stdout",
     "output_type": "stream",
     "text": [
      "Trial 10 Complete [00h 08m 56s]\n",
      "val_accuracy: 0.5439739227294922\n",
      "\n",
      "Best val_accuracy So Far: 0.567861020565033\n",
      "Total elapsed time: 01h 29m 42s\n"
     ]
    }
   ],
   "source": [
    "from tensorflow.keras.layers import Bidirectional\n",
    "\n",
    "def build_bilstm_model(hp):\n",
    "    model = Sequential()\n",
    "    model.add(Bidirectional(LSTM(\n",
    "        units=hp.Int('units', min_value=30, max_value=100, step=10),\n",
    "        return_sequences=True),\n",
    "        input_shape=(X_train_reshaped.shape[1], X_train_reshaped.shape[2])\n",
    "    ))\n",
    "    model.add(Dropout(hp.Float('dropout_1', min_value=0.0, max_value=0.5, step=0.1)))\n",
    "    model.add(Bidirectional(LSTM(\n",
    "        units=hp.Int('units', min_value=30, max_value=100, step=10),\n",
    "        return_sequences=False)\n",
    "    ))\n",
    "    model.add(Dropout(hp.Float('dropout_2', min_value=0.0, max_value=0.5, step=0.1)))\n",
    "    model.add(Dense(\n",
    "        units=hp.Int('dense_units', min_value=30, max_value=100, step=10),\n",
    "        activation='relu'\n",
    "    ))\n",
    "    model.add(Dense(1, activation='sigmoid'))\n",
    "\n",
    "    model.compile(\n",
    "        optimizer='adam',\n",
    "        loss='binary_crossentropy',\n",
    "        metrics=['accuracy']\n",
    "    )\n",
    "    return model\n",
    "\n",
    "tuner_bilstm = kt.BayesianOptimization(\n",
    "    build_bilstm_model,\n",
    "    objective='val_accuracy',\n",
    "    max_trials=10,\n",
    "    directory='keras_tuner_dir',\n",
    "    project_name='bilstm_optimization'\n",
    ")\n",
    "\n",
    "tuner_bilstm.search(\n",
    "    X_train_reshaped, y_train,\n",
    "    epochs=30,\n",
    "    validation_split=0.2\n",
    ")\n",
    "\n",
    "best_hps_bilstm = tuner_bilstm.get_best_hyperparameters(num_trials=1)[0]\n"
   ]
  },
  {
   "cell_type": "code",
   "execution_count": 223,
   "id": "c44c162b-c8d1-418c-b108-42cd41eb3395",
   "metadata": {},
   "outputs": [
    {
     "name": "stdout",
     "output_type": "stream",
     "text": [
      "Epoch 1/50\n",
      "115/115 [==============================] - 17s 89ms/step - loss: 0.5250 - accuracy: 0.7226 - val_loss: 1.1709 - val_accuracy: 0.5516\n",
      "Epoch 2/50\n",
      "115/115 [==============================] - 8s 66ms/step - loss: 0.3706 - accuracy: 0.8171 - val_loss: 1.0356 - val_accuracy: 0.6059\n",
      "Epoch 3/50\n",
      "115/115 [==============================] - 8s 67ms/step - loss: 0.3483 - accuracy: 0.8247 - val_loss: 1.2354 - val_accuracy: 0.6167\n",
      "Epoch 4/50\n",
      "115/115 [==============================] - 8s 72ms/step - loss: 0.3361 - accuracy: 0.8285 - val_loss: 1.5593 - val_accuracy: 0.5516\n",
      "Epoch 5/50\n",
      "115/115 [==============================] - 8s 71ms/step - loss: 0.3286 - accuracy: 0.8326 - val_loss: 1.4805 - val_accuracy: 0.6189\n",
      "Epoch 6/50\n",
      "115/115 [==============================] - 8s 69ms/step - loss: 0.3204 - accuracy: 0.8375 - val_loss: 1.6368 - val_accuracy: 0.6080\n",
      "Epoch 7/50\n",
      "115/115 [==============================] - 8s 68ms/step - loss: 0.3122 - accuracy: 0.8378 - val_loss: 1.5482 - val_accuracy: 0.6124\n",
      "Epoch 8/50\n",
      "115/115 [==============================] - 8s 67ms/step - loss: 0.3174 - accuracy: 0.8418 - val_loss: 1.6216 - val_accuracy: 0.6037\n",
      "Epoch 9/50\n",
      "115/115 [==============================] - 8s 69ms/step - loss: 0.3037 - accuracy: 0.8448 - val_loss: 1.8397 - val_accuracy: 0.5679\n",
      "Epoch 10/50\n",
      "115/115 [==============================] - 8s 73ms/step - loss: 0.3036 - accuracy: 0.8481 - val_loss: 1.6863 - val_accuracy: 0.6048\n",
      "Epoch 11/50\n",
      "115/115 [==============================] - 8s 68ms/step - loss: 0.3000 - accuracy: 0.8465 - val_loss: 1.9207 - val_accuracy: 0.5494\n",
      "Epoch 12/50\n",
      "115/115 [==============================] - 9s 74ms/step - loss: 0.2985 - accuracy: 0.8527 - val_loss: 1.6234 - val_accuracy: 0.6232\n",
      "Epoch 13/50\n",
      "115/115 [==============================] - 9s 74ms/step - loss: 0.2924 - accuracy: 0.8489 - val_loss: 1.7752 - val_accuracy: 0.5461\n",
      "Epoch 14/50\n",
      "115/115 [==============================] - 8s 72ms/step - loss: 0.2833 - accuracy: 0.8571 - val_loss: 1.8174 - val_accuracy: 0.5733\n",
      "Epoch 15/50\n",
      "115/115 [==============================] - 8s 67ms/step - loss: 0.2818 - accuracy: 0.8601 - val_loss: 1.7643 - val_accuracy: 0.5679\n",
      "Epoch 16/50\n",
      "115/115 [==============================] - 8s 69ms/step - loss: 0.2817 - accuracy: 0.8603 - val_loss: 1.6596 - val_accuracy: 0.6189\n",
      "Epoch 17/50\n",
      "115/115 [==============================] - 8s 71ms/step - loss: 0.2811 - accuracy: 0.8622 - val_loss: 1.7238 - val_accuracy: 0.6091\n",
      "Epoch 18/50\n",
      "115/115 [==============================] - 8s 69ms/step - loss: 0.2830 - accuracy: 0.8538 - val_loss: 1.3449 - val_accuracy: 0.6417\n",
      "Epoch 19/50\n",
      "115/115 [==============================] - 8s 66ms/step - loss: 0.2718 - accuracy: 0.8636 - val_loss: 1.8573 - val_accuracy: 0.5581\n",
      "Epoch 20/50\n",
      "115/115 [==============================] - 8s 66ms/step - loss: 0.2757 - accuracy: 0.8601 - val_loss: 1.8841 - val_accuracy: 0.5537\n",
      "Epoch 21/50\n",
      "115/115 [==============================] - 8s 66ms/step - loss: 0.2707 - accuracy: 0.8693 - val_loss: 1.7658 - val_accuracy: 0.6004\n",
      "Epoch 22/50\n",
      "115/115 [==============================] - 8s 68ms/step - loss: 0.2632 - accuracy: 0.8707 - val_loss: 2.0471 - val_accuracy: 0.5559\n",
      "Epoch 23/50\n",
      "115/115 [==============================] - 8s 66ms/step - loss: 0.2581 - accuracy: 0.8747 - val_loss: 1.5306 - val_accuracy: 0.6156\n",
      "Epoch 24/50\n",
      "115/115 [==============================] - 8s 66ms/step - loss: 0.2501 - accuracy: 0.8742 - val_loss: 1.6544 - val_accuracy: 0.6254\n",
      "Epoch 25/50\n",
      "115/115 [==============================] - 8s 66ms/step - loss: 0.2497 - accuracy: 0.8793 - val_loss: 1.5664 - val_accuracy: 0.5874\n",
      "Epoch 26/50\n",
      "115/115 [==============================] - 8s 67ms/step - loss: 0.2473 - accuracy: 0.8826 - val_loss: 2.8258 - val_accuracy: 0.4224\n",
      "Epoch 27/50\n",
      "115/115 [==============================] - 8s 67ms/step - loss: 0.2459 - accuracy: 0.8902 - val_loss: 1.9546 - val_accuracy: 0.5505\n",
      "Epoch 28/50\n",
      "115/115 [==============================] - 8s 71ms/step - loss: 0.2393 - accuracy: 0.8962 - val_loss: 1.9970 - val_accuracy: 0.5592\n",
      "Epoch 29/50\n",
      "115/115 [==============================] - 8s 66ms/step - loss: 0.2407 - accuracy: 0.8902 - val_loss: 2.1803 - val_accuracy: 0.5461\n",
      "Epoch 30/50\n",
      "115/115 [==============================] - 8s 66ms/step - loss: 0.2389 - accuracy: 0.8965 - val_loss: 2.2362 - val_accuracy: 0.5277\n",
      "Epoch 31/50\n",
      "115/115 [==============================] - 8s 67ms/step - loss: 0.2327 - accuracy: 0.8951 - val_loss: 2.7110 - val_accuracy: 0.5071\n",
      "Epoch 32/50\n",
      "115/115 [==============================] - 8s 66ms/step - loss: 0.2318 - accuracy: 0.8948 - val_loss: 2.3350 - val_accuracy: 0.5364\n",
      "Epoch 33/50\n",
      "115/115 [==============================] - 8s 66ms/step - loss: 0.2313 - accuracy: 0.8970 - val_loss: 2.2927 - val_accuracy: 0.4897\n",
      "Epoch 34/50\n",
      "115/115 [==============================] - 8s 67ms/step - loss: 0.2232 - accuracy: 0.8992 - val_loss: 2.4360 - val_accuracy: 0.5342\n",
      "Epoch 35/50\n",
      "115/115 [==============================] - 8s 66ms/step - loss: 0.2258 - accuracy: 0.8992 - val_loss: 2.2646 - val_accuracy: 0.5201\n",
      "Epoch 36/50\n",
      "115/115 [==============================] - 8s 66ms/step - loss: 0.2172 - accuracy: 0.9060 - val_loss: 2.1152 - val_accuracy: 0.5233\n",
      "Epoch 37/50\n",
      "115/115 [==============================] - 8s 67ms/step - loss: 0.2185 - accuracy: 0.9041 - val_loss: 2.3768 - val_accuracy: 0.5223\n",
      "Epoch 38/50\n",
      "115/115 [==============================] - 8s 66ms/step - loss: 0.2168 - accuracy: 0.9082 - val_loss: 2.4958 - val_accuracy: 0.5179\n",
      "Epoch 39/50\n",
      "115/115 [==============================] - 8s 66ms/step - loss: 0.2079 - accuracy: 0.9092 - val_loss: 2.7444 - val_accuracy: 0.4463\n",
      "Epoch 40/50\n",
      "115/115 [==============================] - 8s 66ms/step - loss: 0.2087 - accuracy: 0.9092 - val_loss: 2.2108 - val_accuracy: 0.5440\n",
      "Epoch 41/50\n",
      "115/115 [==============================] - 8s 67ms/step - loss: 0.2074 - accuracy: 0.9092 - val_loss: 2.2847 - val_accuracy: 0.5179\n",
      "Epoch 42/50\n",
      "115/115 [==============================] - 8s 67ms/step - loss: 0.2015 - accuracy: 0.9101 - val_loss: 2.6933 - val_accuracy: 0.4799\n",
      "Epoch 43/50\n",
      "115/115 [==============================] - 8s 66ms/step - loss: 0.2001 - accuracy: 0.9128 - val_loss: 2.1421 - val_accuracy: 0.5592\n",
      "Epoch 44/50\n",
      "115/115 [==============================] - 8s 67ms/step - loss: 0.2013 - accuracy: 0.9174 - val_loss: 2.1757 - val_accuracy: 0.5331\n",
      "Epoch 45/50\n",
      "115/115 [==============================] - 8s 66ms/step - loss: 0.2009 - accuracy: 0.9103 - val_loss: 2.5798 - val_accuracy: 0.5092\n",
      "Epoch 46/50\n",
      "115/115 [==============================] - 8s 66ms/step - loss: 0.1973 - accuracy: 0.9152 - val_loss: 3.2067 - val_accuracy: 0.4495\n",
      "Epoch 47/50\n",
      "115/115 [==============================] - 8s 67ms/step - loss: 0.1996 - accuracy: 0.9130 - val_loss: 2.7429 - val_accuracy: 0.5331\n",
      "Epoch 48/50\n",
      "115/115 [==============================] - 8s 67ms/step - loss: 0.2028 - accuracy: 0.9111 - val_loss: 2.4619 - val_accuracy: 0.5016\n",
      "Epoch 49/50\n",
      "115/115 [==============================] - 8s 66ms/step - loss: 0.1937 - accuracy: 0.9179 - val_loss: 3.0662 - val_accuracy: 0.4539\n",
      "Epoch 50/50\n",
      "115/115 [==============================] - 8s 66ms/step - loss: 0.2065 - accuracy: 0.9098 - val_loss: 2.5215 - val_accuracy: 0.5136\n",
      "Epoch 1/50\n",
      "115/115 [==============================] - 32s 133ms/step - loss: 0.4172 - accuracy: 0.7791 - val_loss: 1.9185 - val_accuracy: 0.5798\n",
      "Epoch 2/50\n",
      "115/115 [==============================] - 13s 116ms/step - loss: 0.3125 - accuracy: 0.8397 - val_loss: 2.0139 - val_accuracy: 0.5527\n",
      "Epoch 3/50\n",
      "115/115 [==============================] - 14s 119ms/step - loss: 0.2859 - accuracy: 0.8459 - val_loss: 2.4546 - val_accuracy: 0.4484\n",
      "Epoch 4/50\n",
      "115/115 [==============================] - 13s 117ms/step - loss: 0.2792 - accuracy: 0.8582 - val_loss: 2.4360 - val_accuracy: 0.4669\n",
      "Epoch 5/50\n",
      "115/115 [==============================] - 13s 116ms/step - loss: 0.2704 - accuracy: 0.8592 - val_loss: 2.8542 - val_accuracy: 0.5190\n",
      "Epoch 6/50\n",
      "115/115 [==============================] - 13s 117ms/step - loss: 0.2643 - accuracy: 0.8704 - val_loss: 3.4197 - val_accuracy: 0.4549\n",
      "Epoch 7/50\n",
      "115/115 [==============================] - 13s 115ms/step - loss: 0.2518 - accuracy: 0.8720 - val_loss: 3.4440 - val_accuracy: 0.5233\n",
      "Epoch 8/50\n",
      "115/115 [==============================] - 14s 118ms/step - loss: 0.2484 - accuracy: 0.8802 - val_loss: 3.4439 - val_accuracy: 0.4756\n",
      "Epoch 9/50\n",
      "115/115 [==============================] - 15s 134ms/step - loss: 0.2409 - accuracy: 0.8815 - val_loss: 4.1159 - val_accuracy: 0.4517\n",
      "Epoch 10/50\n",
      "115/115 [==============================] - 14s 122ms/step - loss: 0.2360 - accuracy: 0.8837 - val_loss: 3.4896 - val_accuracy: 0.5320\n",
      "Epoch 11/50\n",
      "115/115 [==============================] - 14s 123ms/step - loss: 0.2268 - accuracy: 0.8927 - val_loss: 3.3822 - val_accuracy: 0.4973\n",
      "Epoch 12/50\n",
      "115/115 [==============================] - 13s 117ms/step - loss: 0.2242 - accuracy: 0.8938 - val_loss: 3.7824 - val_accuracy: 0.4962\n",
      "Epoch 13/50\n",
      "115/115 [==============================] - 14s 119ms/step - loss: 0.2161 - accuracy: 0.9011 - val_loss: 3.3279 - val_accuracy: 0.4625\n",
      "Epoch 14/50\n",
      "115/115 [==============================] - 13s 111ms/step - loss: 0.2136 - accuracy: 0.9005 - val_loss: 2.5484 - val_accuracy: 0.4940\n",
      "Epoch 15/50\n",
      "115/115 [==============================] - 13s 111ms/step - loss: 0.2028 - accuracy: 0.9092 - val_loss: 3.6676 - val_accuracy: 0.5233\n",
      "Epoch 16/50\n",
      "115/115 [==============================] - 13s 114ms/step - loss: 0.1987 - accuracy: 0.9122 - val_loss: 3.3230 - val_accuracy: 0.5136\n",
      "Epoch 17/50\n",
      "115/115 [==============================] - 13s 111ms/step - loss: 0.1980 - accuracy: 0.9125 - val_loss: 3.9555 - val_accuracy: 0.4940\n",
      "Epoch 18/50\n",
      "115/115 [==============================] - 13s 111ms/step - loss: 0.1845 - accuracy: 0.9193 - val_loss: 3.8417 - val_accuracy: 0.4593\n",
      "Epoch 19/50\n",
      "115/115 [==============================] - 13s 112ms/step - loss: 0.1738 - accuracy: 0.9253 - val_loss: 3.7523 - val_accuracy: 0.4604\n",
      "Epoch 20/50\n",
      "115/115 [==============================] - 13s 116ms/step - loss: 0.1708 - accuracy: 0.9245 - val_loss: 3.3729 - val_accuracy: 0.4940\n",
      "Epoch 21/50\n",
      "115/115 [==============================] - 13s 111ms/step - loss: 0.1729 - accuracy: 0.9291 - val_loss: 3.1683 - val_accuracy: 0.4365\n",
      "Epoch 22/50\n",
      "115/115 [==============================] - 13s 113ms/step - loss: 0.1768 - accuracy: 0.9220 - val_loss: 3.6778 - val_accuracy: 0.3898\n",
      "Epoch 23/50\n",
      "115/115 [==============================] - 13s 110ms/step - loss: 0.1669 - accuracy: 0.9261 - val_loss: 4.3781 - val_accuracy: 0.4756\n",
      "Epoch 24/50\n",
      "115/115 [==============================] - 13s 110ms/step - loss: 0.1534 - accuracy: 0.9345 - val_loss: 3.4086 - val_accuracy: 0.4940\n",
      "Epoch 25/50\n",
      "115/115 [==============================] - 13s 111ms/step - loss: 0.1577 - accuracy: 0.9348 - val_loss: 4.0784 - val_accuracy: 0.4159\n",
      "Epoch 26/50\n",
      "115/115 [==============================] - 13s 113ms/step - loss: 0.1517 - accuracy: 0.9351 - val_loss: 4.8639 - val_accuracy: 0.4343\n",
      "Epoch 27/50\n",
      "115/115 [==============================] - 13s 114ms/step - loss: 0.1482 - accuracy: 0.9364 - val_loss: 4.5207 - val_accuracy: 0.4452\n",
      "Epoch 28/50\n",
      "115/115 [==============================] - 13s 115ms/step - loss: 0.1426 - accuracy: 0.9429 - val_loss: 4.0461 - val_accuracy: 0.4539\n",
      "Epoch 29/50\n",
      "115/115 [==============================] - 13s 117ms/step - loss: 0.1350 - accuracy: 0.9399 - val_loss: 4.1274 - val_accuracy: 0.4539\n",
      "Epoch 30/50\n",
      "115/115 [==============================] - 14s 120ms/step - loss: 0.1272 - accuracy: 0.9478 - val_loss: 4.0144 - val_accuracy: 0.4430\n",
      "Epoch 31/50\n",
      "115/115 [==============================] - 13s 115ms/step - loss: 0.1345 - accuracy: 0.9421 - val_loss: 3.3618 - val_accuracy: 0.4625\n",
      "Epoch 32/50\n",
      "115/115 [==============================] - 13s 116ms/step - loss: 0.1394 - accuracy: 0.9413 - val_loss: 3.5900 - val_accuracy: 0.4506\n",
      "Epoch 33/50\n",
      "115/115 [==============================] - 13s 117ms/step - loss: 0.1215 - accuracy: 0.9476 - val_loss: 4.3522 - val_accuracy: 0.4354\n",
      "Epoch 34/50\n",
      "115/115 [==============================] - 13s 114ms/step - loss: 0.1285 - accuracy: 0.9497 - val_loss: 3.6955 - val_accuracy: 0.5223\n",
      "Epoch 35/50\n",
      "115/115 [==============================] - 13s 117ms/step - loss: 0.1182 - accuracy: 0.9516 - val_loss: 4.1743 - val_accuracy: 0.4387\n",
      "Epoch 36/50\n",
      "115/115 [==============================] - 13s 116ms/step - loss: 0.1147 - accuracy: 0.9535 - val_loss: 4.3715 - val_accuracy: 0.4419\n",
      "Epoch 37/50\n",
      "115/115 [==============================] - 13s 118ms/step - loss: 0.1116 - accuracy: 0.9527 - val_loss: 4.7648 - val_accuracy: 0.4604\n",
      "Epoch 38/50\n",
      "115/115 [==============================] - 13s 111ms/step - loss: 0.1170 - accuracy: 0.9522 - val_loss: 4.6458 - val_accuracy: 0.4419\n",
      "Epoch 39/50\n",
      "115/115 [==============================] - 13s 113ms/step - loss: 0.1175 - accuracy: 0.9503 - val_loss: 4.3760 - val_accuracy: 0.4712\n",
      "Epoch 40/50\n",
      "115/115 [==============================] - 13s 110ms/step - loss: 0.1139 - accuracy: 0.9549 - val_loss: 4.9027 - val_accuracy: 0.4864\n",
      "Epoch 41/50\n",
      "115/115 [==============================] - 13s 109ms/step - loss: 0.1119 - accuracy: 0.9543 - val_loss: 4.5086 - val_accuracy: 0.4506\n",
      "Epoch 42/50\n",
      "115/115 [==============================] - 13s 111ms/step - loss: 0.0981 - accuracy: 0.9584 - val_loss: 4.9859 - val_accuracy: 0.4267\n",
      "Epoch 43/50\n",
      "115/115 [==============================] - 13s 110ms/step - loss: 0.1007 - accuracy: 0.9590 - val_loss: 5.6066 - val_accuracy: 0.4061\n",
      "Epoch 44/50\n",
      "115/115 [==============================] - 13s 109ms/step - loss: 0.0892 - accuracy: 0.9628 - val_loss: 5.5840 - val_accuracy: 0.4387\n",
      "Epoch 45/50\n",
      "115/115 [==============================] - 13s 111ms/step - loss: 0.0870 - accuracy: 0.9630 - val_loss: 5.9316 - val_accuracy: 0.4311\n",
      "Epoch 46/50\n",
      "115/115 [==============================] - 13s 117ms/step - loss: 0.1122 - accuracy: 0.9549 - val_loss: 4.9179 - val_accuracy: 0.4723\n",
      "Epoch 47/50\n",
      "115/115 [==============================] - 13s 117ms/step - loss: 0.0894 - accuracy: 0.9633 - val_loss: 5.4577 - val_accuracy: 0.4191\n",
      "Epoch 48/50\n",
      "115/115 [==============================] - 13s 115ms/step - loss: 0.0905 - accuracy: 0.9628 - val_loss: 5.4009 - val_accuracy: 0.4419\n",
      "Epoch 49/50\n",
      "115/115 [==============================] - 14s 118ms/step - loss: 0.1072 - accuracy: 0.9563 - val_loss: 4.8156 - val_accuracy: 0.4897\n",
      "Epoch 50/50\n",
      "115/115 [==============================] - 13s 113ms/step - loss: 0.0818 - accuracy: 0.9671 - val_loss: 5.5357 - val_accuracy: 0.4560\n"
     ]
    }
   ],
   "source": [
    "# Build and train LSTM model\n",
    "optimized_lstm_model = tuner_lstm.hypermodel.build(best_hps_lstm)\n",
    "history_lstm = optimized_lstm_model.fit(X_train_reshaped, y_train, epochs=50, validation_split=0.2)\n",
    "\n",
    "# Build and train BiLSTM model\n",
    "optimized_bilstm_model = tuner_bilstm.hypermodel.build(best_hps_bilstm)\n",
    "history_bilstm = optimized_bilstm_model.fit(X_train_reshaped, y_train, epochs=50, validation_split=0.2)\n"
   ]
  },
  {
   "cell_type": "code",
   "execution_count": 224,
   "id": "7226119a-02e2-4cf6-9cfe-234003d08c3a",
   "metadata": {},
   "outputs": [
    {
     "name": "stdout",
     "output_type": "stream",
     "text": [
      "39/39 [==============================] - 2s 28ms/step\n",
      "39/39 [==============================] - 4s 41ms/step\n"
     ]
    }
   ],
   "source": [
    "from sklearn.metrics import roc_curve, auc\n",
    "import matplotlib.pyplot as plt\n",
    "\n",
    "def compute_roc_auc(model, X_test, y_test):\n",
    "    y_pred_proba = model.predict(X_test).ravel()\n",
    "    fpr, tpr, _ = roc_curve(y_test, y_pred_proba)\n",
    "    roc_auc = auc(fpr, tpr)\n",
    "    return fpr, tpr, roc_auc\n",
    "\n",
    "# Compute ROC for LSTM\n",
    "lstm_fpr, lstm_tpr, lstm_roc_auc = compute_roc_auc(optimized_lstm_model, X_test_reshaped, y_test)\n",
    "\n",
    "# Compute ROC for BiLSTM\n",
    "bilstm_fpr, bilstm_tpr, bilstm_roc_auc = compute_roc_auc(optimized_bilstm_model, X_test_reshaped, y_test)\n"
   ]
  },
  {
   "cell_type": "code",
   "execution_count": 225,
   "id": "cc736d62-0c0c-483b-b04a-7488470510f7",
   "metadata": {},
   "outputs": [
    {
     "name": "stdout",
     "output_type": "stream",
     "text": [
      "39/39 [==============================] - 1s 26ms/step\n",
      "39/39 [==============================] - 2s 38ms/step\n"
     ]
    },
    {
     "data": {
      "image/png": "[encoded data removed]",
      "text/plain": [
       "<Figure size 576x432 with 1 Axes>"
      ]
     },
     "metadata": {},
     "output_type": "display_data"
    }
   ],
   "source": [
    "# Compute ROC for LSTM\n",
    "lstm_fpr, lstm_tpr, lstm_roc_auc = compute_roc_auc(optimized_lstm_model, X_test_reshaped, y_test)\n",
    "\n",
    "# Compute ROC for BiLSTM\n",
    "bilstm_fpr, bilstm_tpr, bilstm_roc_auc = compute_roc_auc(optimized_bilstm_model, X_test_reshaped, y_test)\n",
    "\n",
    "# Plot ROC curves\n",
    "plt.figure(figsize=(8, 6))\n",
    "plt.plot(lstm_fpr, lstm_tpr, color='blue', lw=2, label=f'LSTM ROC curve (area = {lstm_roc_auc:.2f})')\n",
    "plt.plot(bilstm_fpr, bilstm_tpr, color='green', lw=2, label=f'BiLSTM ROC curve (area = {bilstm_roc_auc:.2f})')\n",
    "plt.plot([0, 1], [0, 1], color='navy', lw=2, linestyle='--')\n",
    "plt.xlim([0.0, 1.0])\n",
    "plt.ylim([0.0, 1.05])\n",
    "plt.xlabel('False Positive Rate')\n",
    "plt.ylabel('True Positive Rate')\n",
    "plt.title('Receiver Operating Characteristic')\n",
    "plt.legend(loc=\"lower right\")\n",
    "plt.show()"
   ]
  },
  {
   "cell_type": "code",
   "execution_count": null,
   "id": "108be324-282b-45ac-9195-d72f47e6cf57",
   "metadata": {},
   "outputs": [],
   "source": []
  }
 ],
 "metadata": {
  "kernelspec": {
   "display_name": "Python 3 (ipykernel)",
   "language": "python",
   "name": "python3"
  },
  "language_info": {
   "codemirror_mode": {
    "name": "ipython",
    "version": 3
   },
   "file_extension": ".py",
   "mimetype": "text/x-python",
   "name": "python",
   "nbconvert_exporter": "python",
   "pygments_lexer": "ipython3",
   "version": "3.9.12"
  }
 },
 "nbformat": 4,
 "nbformat_minor": 5
}
